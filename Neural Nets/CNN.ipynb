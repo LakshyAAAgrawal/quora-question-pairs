{
  "nbformat": 4,
  "nbformat_minor": 0,
  "metadata": {
    "accelerator": "GPU",
    "colab": {
      "name": "CNN.ipynb",
      "provenance": [],
      "collapsed_sections": []
    },
    "kernelspec": {
      "display_name": "Python 3",
      "name": "python3"
    },
    "language_info": {
      "name": "python"
    },
    "widgets": {
      "application/vnd.jupyter.widget-state+json": {
        "571ec981051b4f19829a6b7379dbcd61": {
          "model_module": "@jupyter-widgets/controls",
          "model_name": "HBoxModel",
          "state": {
            "_view_name": "HBoxView",
            "_dom_classes": [],
            "_model_name": "HBoxModel",
            "_view_module": "@jupyter-widgets/controls",
            "_model_module_version": "1.5.0",
            "_view_count": null,
            "_view_module_version": "1.5.0",
            "box_style": "",
            "layout": "IPY_MODEL_62bb8097743248c9b0e1e89389da4de7",
            "_model_module": "@jupyter-widgets/controls",
            "children": [
              "IPY_MODEL_26786d86874b4b60b9f982e2c2714d0e",
              "IPY_MODEL_f91e1526ed5d47bd9aa449d62a3fd217"
            ]
          }
        },
        "62bb8097743248c9b0e1e89389da4de7": {
          "model_module": "@jupyter-widgets/base",
          "model_name": "LayoutModel",
          "state": {
            "_view_name": "LayoutView",
            "grid_template_rows": null,
            "right": null,
            "justify_content": null,
            "_view_module": "@jupyter-widgets/base",
            "overflow": null,
            "_model_module_version": "1.2.0",
            "_view_count": null,
            "flex_flow": null,
            "width": null,
            "min_width": null,
            "border": null,
            "align_items": null,
            "bottom": null,
            "_model_module": "@jupyter-widgets/base",
            "top": null,
            "grid_column": null,
            "overflow_y": null,
            "overflow_x": null,
            "grid_auto_flow": null,
            "grid_area": null,
            "grid_template_columns": null,
            "flex": null,
            "_model_name": "LayoutModel",
            "justify_items": null,
            "grid_row": null,
            "max_height": null,
            "align_content": null,
            "visibility": null,
            "align_self": null,
            "height": null,
            "min_height": null,
            "padding": null,
            "grid_auto_rows": null,
            "grid_gap": null,
            "max_width": null,
            "order": null,
            "_view_module_version": "1.2.0",
            "grid_template_areas": null,
            "object_position": null,
            "object_fit": null,
            "grid_auto_columns": null,
            "margin": null,
            "display": null,
            "left": null
          }
        },
        "26786d86874b4b60b9f982e2c2714d0e": {
          "model_module": "@jupyter-widgets/controls",
          "model_name": "FloatProgressModel",
          "state": {
            "_view_name": "ProgressView",
            "style": "IPY_MODEL_3493398d1b0e458c8d8d7117fd519e73",
            "_dom_classes": [],
            "description": "",
            "_model_name": "FloatProgressModel",
            "bar_style": "success",
            "max": 1,
            "_view_module": "@jupyter-widgets/controls",
            "_model_module_version": "1.5.0",
            "value": 1,
            "_view_count": null,
            "_view_module_version": "1.5.0",
            "orientation": "horizontal",
            "min": 0,
            "description_tooltip": null,
            "_model_module": "@jupyter-widgets/controls",
            "layout": "IPY_MODEL_550e14391bfc47ba948de49b7ecb7f04"
          }
        },
        "f91e1526ed5d47bd9aa449d62a3fd217": {
          "model_module": "@jupyter-widgets/controls",
          "model_name": "HTMLModel",
          "state": {
            "_view_name": "HTMLView",
            "style": "IPY_MODEL_b8dcf6f317884cffb970dede6f31deac",
            "_dom_classes": [],
            "description": "",
            "_model_name": "HTMLModel",
            "placeholder": "​",
            "_view_module": "@jupyter-widgets/controls",
            "_model_module_version": "1.5.0",
            "value": " 1999995/? [03:04&lt;00:00, 10847.24it/s]",
            "_view_count": null,
            "_view_module_version": "1.5.0",
            "description_tooltip": null,
            "_model_module": "@jupyter-widgets/controls",
            "layout": "IPY_MODEL_a2069f3366aa4d9d8dac41ae8cfa9431"
          }
        },
        "3493398d1b0e458c8d8d7117fd519e73": {
          "model_module": "@jupyter-widgets/controls",
          "model_name": "ProgressStyleModel",
          "state": {
            "_view_name": "StyleView",
            "_model_name": "ProgressStyleModel",
            "description_width": "initial",
            "_view_module": "@jupyter-widgets/base",
            "_model_module_version": "1.5.0",
            "_view_count": null,
            "_view_module_version": "1.2.0",
            "bar_color": null,
            "_model_module": "@jupyter-widgets/controls"
          }
        },
        "550e14391bfc47ba948de49b7ecb7f04": {
          "model_module": "@jupyter-widgets/base",
          "model_name": "LayoutModel",
          "state": {
            "_view_name": "LayoutView",
            "grid_template_rows": null,
            "right": null,
            "justify_content": null,
            "_view_module": "@jupyter-widgets/base",
            "overflow": null,
            "_model_module_version": "1.2.0",
            "_view_count": null,
            "flex_flow": null,
            "width": null,
            "min_width": null,
            "border": null,
            "align_items": null,
            "bottom": null,
            "_model_module": "@jupyter-widgets/base",
            "top": null,
            "grid_column": null,
            "overflow_y": null,
            "overflow_x": null,
            "grid_auto_flow": null,
            "grid_area": null,
            "grid_template_columns": null,
            "flex": null,
            "_model_name": "LayoutModel",
            "justify_items": null,
            "grid_row": null,
            "max_height": null,
            "align_content": null,
            "visibility": null,
            "align_self": null,
            "height": null,
            "min_height": null,
            "padding": null,
            "grid_auto_rows": null,
            "grid_gap": null,
            "max_width": null,
            "order": null,
            "_view_module_version": "1.2.0",
            "grid_template_areas": null,
            "object_position": null,
            "object_fit": null,
            "grid_auto_columns": null,
            "margin": null,
            "display": null,
            "left": null
          }
        },
        "b8dcf6f317884cffb970dede6f31deac": {
          "model_module": "@jupyter-widgets/controls",
          "model_name": "DescriptionStyleModel",
          "state": {
            "_view_name": "StyleView",
            "_model_name": "DescriptionStyleModel",
            "description_width": "",
            "_view_module": "@jupyter-widgets/base",
            "_model_module_version": "1.5.0",
            "_view_count": null,
            "_view_module_version": "1.2.0",
            "_model_module": "@jupyter-widgets/controls"
          }
        },
        "a2069f3366aa4d9d8dac41ae8cfa9431": {
          "model_module": "@jupyter-widgets/base",
          "model_name": "LayoutModel",
          "state": {
            "_view_name": "LayoutView",
            "grid_template_rows": null,
            "right": null,
            "justify_content": null,
            "_view_module": "@jupyter-widgets/base",
            "overflow": null,
            "_model_module_version": "1.2.0",
            "_view_count": null,
            "flex_flow": null,
            "width": null,
            "min_width": null,
            "border": null,
            "align_items": null,
            "bottom": null,
            "_model_module": "@jupyter-widgets/base",
            "top": null,
            "grid_column": null,
            "overflow_y": null,
            "overflow_x": null,
            "grid_auto_flow": null,
            "grid_area": null,
            "grid_template_columns": null,
            "flex": null,
            "_model_name": "LayoutModel",
            "justify_items": null,
            "grid_row": null,
            "max_height": null,
            "align_content": null,
            "visibility": null,
            "align_self": null,
            "height": null,
            "min_height": null,
            "padding": null,
            "grid_auto_rows": null,
            "grid_gap": null,
            "max_width": null,
            "order": null,
            "_view_module_version": "1.2.0",
            "grid_template_areas": null,
            "object_position": null,
            "object_fit": null,
            "grid_auto_columns": null,
            "margin": null,
            "display": null,
            "left": null
          }
        }
      }
    }
  },
  "cells": [
    {
      "cell_type": "code",
      "metadata": {
        "id": "zBsKXpp0sXzx"
      },
      "source": [
        "import os\n",
        "import pandas as pd\n",
        "import numpy as np\n",
        "import matplotlib.pyplot as plt\n",
        "import seaborn as sns\n",
        "import nltk\n",
        "from nltk import word_tokenize,sent_tokenize\n",
        "import keras\n",
        "from keras.preprocessing.text import one_hot,Tokenizer\n",
        "from keras.preprocessing.sequence import pad_sequences\n",
        "from keras.models import Sequential\n",
        "from keras.layers import Dense , Flatten ,Embedding,Input\n",
        "from keras.models import Model\n",
        "import re\n",
        "import gensim.downloader\n",
        "import multiprocessing\n",
        "import pickle\n",
        "from tqdm import tqdm_notebook\n",
        "\n",
        "import pickle\n",
        "import numpy as np\n",
        "import pandas as pd\n",
        "import matplotlib.pyplot as plt\n",
        "import seaborn as sb\n",
        "import torch\n",
        "import torch.nn as nn\n",
        "import torch.nn.functional as F\n",
        "from sklearn.model_selection import train_test_split\n",
        "from torch.utils.data import Dataset, DataLoader\n",
        "from torch.autograd import Variable\n",
        "from sklearn.preprocessing import StandardScaler\n",
        "from sklearn.metrics import confusion_matrix\n",
        "from sklearn.metrics import classification_report\n",
        "from sklearn.metrics import roc_auc_score, roc_curve"
      ],
      "execution_count": null,
      "outputs": []
    },
    {
      "cell_type": "code",
      "metadata": {
        "colab": {
          "base_uri": "https://localhost:8080/"
        },
        "id": "xJ5uQKXeq3D9",
        "outputId": "f0736f88-0ca9-4ef4-ccfa-8b22c1f79f59"
      },
      "source": [
        "from google.colab import drive\n",
        "drive.mount('/content/drive')"
      ],
      "execution_count": null,
      "outputs": [
        {
          "output_type": "stream",
          "text": [
            "Mounted at /content/drive\n"
          ],
          "name": "stdout"
        }
      ]
    },
    {
      "cell_type": "code",
      "metadata": {
        "colab": {
          "base_uri": "https://localhost:8080/"
        },
        "id": "VhoueVIir_eF",
        "outputId": "b93c9195-9ca2-4852-868a-a81a1268d5c5"
      },
      "source": [
        "data_dir = \"/content/drive/MyDrive/Quora-Data/\"\n",
        "URL = \"https://dl.fbaipublicfiles.com/fasttext/vectors-english/crawl-300d-2M.vec.zip\"\n",
        "FILE = data_dir + \"fastText.vec\"\n",
        "\n",
        "if os.path.isdir(FILE):\n",
        "    print(\"fastText exists.\")\n",
        "else:\n",
        "    !wget -P $FILE $URL\n",
        "    !unzip $FILE/crawl-300d-2M.vec.zip -d $FILE"
      ],
      "execution_count": null,
      "outputs": [
        {
          "output_type": "stream",
          "text": [
            "fastText exists.\n"
          ],
          "name": "stdout"
        }
      ]
    },
    {
      "cell_type": "code",
      "metadata": {
        "id": "NDzFLW3CstJb"
      },
      "source": [
        "X_train = pd.read_csv(data_dir + \"pre-processing/preprocessing_text_train.csv\").fillna('')\n",
        "X_test = pd.read_csv(data_dir + \"pre-processing/preprocessing_text_test.csv\").fillna('')\n",
        "Y_train = pd.read_csv(data_dir + \"pre-processing/train.csv\")[\"Y\"]\n",
        "Y_test = pd.read_csv(data_dir + \"pre-processing/test.csv\")[\"Y\"]"
      ],
      "execution_count": null,
      "outputs": []
    },
    {
      "cell_type": "code",
      "metadata": {
        "id": "bdEri0egtyUQ"
      },
      "source": [
        "def text_to_wordlist(text, pool=\"max\", remove_stopwords=False, stem_words=False):\n",
        "    global word_idx, idx, max_len, counter\n",
        "    counter += 1\n",
        "    if counter%50000 == 0:\n",
        "        print(counter/323344)\n",
        "    # Clean the text, with the option to remove stopwords and to stem words.\n",
        "    \n",
        "    # Convert words to lower case and split them\n",
        "    text = text.lower().split()\n",
        "\n",
        "    # Optionally, remove stop words\n",
        "    if remove_stopwords:\n",
        "        stops = set(stopwords.words(\"english\"))\n",
        "        text = [w for w in text if not w in stops]\n",
        "    \n",
        "    text = \" \".join(text)\n",
        "\n",
        "    # Clean the text\n",
        "    text = re.sub(r\"[^A-Za-z0-9^,!.\\/'+-=]\", \" \", text)\n",
        "    text = re.sub(r\"what's\", \"what is \", text)\n",
        "    text = re.sub(r\"\\'s\", \" \", text)\n",
        "    text = re.sub(r\"\\'ve\", \" have \", text)\n",
        "    text = re.sub(r\"can't\", \"cannot \", text)\n",
        "    text = re.sub(r\"n't\", \" not \", text)\n",
        "    text = re.sub(r\"i'm\", \"i am \", text)\n",
        "    text = re.sub(r\"\\'re\", \" are \", text)\n",
        "    text = re.sub(r\"\\'d\", \" would \", text)\n",
        "    text = re.sub(r\"\\'ll\", \" will \", text)\n",
        "    text = re.sub(r\",\", \" \", text)\n",
        "    text = re.sub(r\"\\.\", \" \", text)\n",
        "    text = re.sub(r\"!\", \" ! \", text)\n",
        "    text = re.sub(r\"\\/\", \" \", text)\n",
        "    text = re.sub(r\"\\^\", \" ^ \", text)\n",
        "    text = re.sub(r\"\\+\", \" + \", text)\n",
        "    text = re.sub(r\"\\-\", \" - \", text)\n",
        "    text = re.sub(r\"\\=\", \" = \", text)\n",
        "    text = re.sub(r\"'\", \" \", text)\n",
        "    text = re.sub(r\"(\\d+)(k)\", r\"\\g<1>000\", text)\n",
        "    text = re.sub(r\":\", \" : \", text)\n",
        "    text = re.sub(r\" e g \", \" eg \", text)\n",
        "    text = re.sub(r\" b g \", \" bg \", text)\n",
        "    text = re.sub(r\" u s \", \" american \", text)\n",
        "    text = re.sub(r\"\\0s\", \"0\", text)\n",
        "    text = re.sub(r\" 9 11 \", \"911\", text)\n",
        "    text = re.sub(r\"e - mail\", \"email\", text)\n",
        "    text = re.sub(r\"j k\", \"jk\", text)\n",
        "    text = re.sub(r\"\\s{2,}\", \" \", text)\n",
        "    \n",
        "    # Optionally, shorten words to their stems\n",
        "    if stem_words:\n",
        "        text = text.split()\n",
        "        stemmer = SnowballStemmer('english')\n",
        "        stemmed_words = [stemmer.stem(word) for word in text]\n",
        "        text = \" \".join(stemmed_words)\n",
        "\n",
        "    words = text.split()\n",
        "    for token in words:\n",
        "        if token not in word2idx:\n",
        "            word2idx[token] = idx\n",
        "            idx += 1\n",
        "    max_len = max(max_len, len(words))\n",
        "    return text"
      ],
      "execution_count": null,
      "outputs": []
    },
    {
      "cell_type": "code",
      "metadata": {
        "colab": {
          "base_uri": "https://localhost:8080/"
        },
        "id": "Uka1yFCHyohp",
        "outputId": "23e6fcae-666b-40af-8136-24cce8346070"
      },
      "source": [
        "word2idx = dict()\n",
        "word2idx['<pad>'] = 0\n",
        "word2idx['<unk>'] = 1\n",
        "idx = 2\n",
        "max_len = 0\n",
        "counter = 0\n",
        "q1_df_train = pd.DataFrame(map(text_to_wordlist, X_train[\"question1\"]))\n",
        "counter = 0\n",
        "q2_df_train = pd.DataFrame(map(text_to_wordlist, X_train[\"question2\"]))\n",
        "counter = 0\n",
        "q1_df_test = pd.DataFrame(map(text_to_wordlist, X_test[\"question1\"]))\n",
        "counter = 0\n",
        "q2_df_test = pd.DataFrame(map(text_to_wordlist, X_test[\"question2\"]))"
      ],
      "execution_count": null,
      "outputs": [
        {
          "output_type": "stream",
          "text": [
            "0.15463407392745807\n",
            "0.30926814785491613\n",
            "0.46390222178237417\n",
            "0.6185362957098323\n",
            "0.7731703696372904\n",
            "0.9278044435647483\n",
            "0.15463407392745807\n",
            "0.30926814785491613\n",
            "0.46390222178237417\n",
            "0.6185362957098323\n",
            "0.7731703696372904\n",
            "0.9278044435647483\n",
            "0.15463407392745807\n",
            "0.15463407392745807\n"
          ],
          "name": "stdout"
        }
      ]
    },
    {
      "cell_type": "code",
      "metadata": {
        "colab": {
          "base_uri": "https://localhost:8080/"
        },
        "id": "6oO6YGrfzezH",
        "outputId": "3f1161a5-a34f-4312-d0ef-eb6f3976c584"
      },
      "source": [
        "max_len"
      ],
      "execution_count": null,
      "outputs": [
        {
          "output_type": "execute_result",
          "data": {
            "text/plain": [
              "106"
            ]
          },
          "metadata": {
            "tags": []
          },
          "execution_count": 8
        }
      ]
    },
    {
      "cell_type": "code",
      "metadata": {
        "colab": {
          "base_uri": "https://localhost:8080/",
          "height": 285
        },
        "id": "3LZE5WRf0BAr",
        "outputId": "7ecf7e13-86ff-4c8b-d6a9-8a81b1113576"
      },
      "source": [
        "q1_df_train[0].apply(lambda x: len(x.split(' '))).value_counts().sort_index().plot.bar()"
      ],
      "execution_count": null,
      "outputs": [
        {
          "output_type": "execute_result",
          "data": {
            "text/plain": [
              "<matplotlib.axes._subplots.AxesSubplot at 0x7f6063581450>"
            ]
          },
          "metadata": {
            "tags": []
          },
          "execution_count": 7
        },
        {
          "output_type": "display_data",
          "data": {
            "image/png": "[encoded data removed]",
            "text/plain": [
              "<Figure size 432x288 with 1 Axes>"
            ]
          },
          "metadata": {
            "tags": [],
            "needs_background": "light"
          }
        }
      ]
    },
    {
      "cell_type": "code",
      "metadata": {
        "colab": {
          "base_uri": "https://localhost:8080/",
          "height": 156,
          "referenced_widgets": [
            "571ec981051b4f19829a6b7379dbcd61",
            "62bb8097743248c9b0e1e89389da4de7",
            "26786d86874b4b60b9f982e2c2714d0e",
            "f91e1526ed5d47bd9aa449d62a3fd217",
            "3493398d1b0e458c8d8d7117fd519e73",
            "550e14391bfc47ba948de49b7ecb7f04",
            "b8dcf6f317884cffb970dede6f31deac",
            "a2069f3366aa4d9d8dac41ae8cfa9431"
          ]
        },
        "id": "bpyFkzj08Bt7",
        "outputId": "76ae9f3d-64d5-4a18-f1bd-d4ef5800ead8"
      },
      "source": [
        "fname = data_dir + \"fastText.vec/crawl-300d-2M.vec\"\n",
        "fin = open(fname, 'r', encoding='utf-8', newline='\\n', errors='ignore')\n",
        "n, d = map(int, fin.readline().split())\n",
        "\n",
        "# Initilize random embeddings\n",
        "embeddings = np.random.uniform(-0.25, 0.25, (len(word2idx), d))\n",
        "embeddings[word2idx['<pad>']] = np.zeros((d,))\n",
        "\n",
        "# Load pretrained vectors\n",
        "count = 0\n",
        "for line in tqdm_notebook(fin):\n",
        "    tokens = line.rstrip().split(' ')\n",
        "    word = tokens[0]\n",
        "    if word in word2idx:\n",
        "        count += 1\n",
        "        embeddings[word2idx[word]] = np.array(tokens[1:], dtype=np.float32)\n",
        "\n",
        "print(f\"There are {count} / {len(word2idx)} pretrained vectors found.\")"
      ],
      "execution_count": null,
      "outputs": [
        {
          "output_type": "stream",
          "text": [
            "/usr/local/lib/python3.7/dist-packages/ipykernel_launcher.py:11: TqdmDeprecationWarning: This function will be removed in tqdm==5.0.0\n",
            "Please use `tqdm.notebook.tqdm` instead of `tqdm.tqdm_notebook`\n",
            "  # This is added back by InteractiveShellApp.init_path()\n"
          ],
          "name": "stderr"
        },
        {
          "output_type": "display_data",
          "data": {
            "application/vnd.jupyter.widget-view+json": {
              "model_id": "571ec981051b4f19829a6b7379dbcd61",
              "version_minor": 0,
              "version_major": 2
            },
            "text/plain": [
              "HBox(children=(FloatProgress(value=1.0, bar_style='info', max=1.0), HTML(value='')))"
            ]
          },
          "metadata": {
            "tags": []
          }
        },
        {
          "output_type": "stream",
          "text": [
            "\n",
            "There are 58952 / 78053 pretrained vectors found.\n"
          ],
          "name": "stdout"
        }
      ]
    },
    {
      "cell_type": "code",
      "metadata": {
        "id": "tWYBRiGiA6DB"
      },
      "source": [
        "embeddings = torch.tensor(embeddings)"
      ],
      "execution_count": null,
      "outputs": []
    },
    {
      "cell_type": "code",
      "metadata": {
        "id": "SwgfWAtm_RXk"
      },
      "source": [
        "def encode(texts, word2idx, max_len):\n",
        "    \"\"\"Pad each sentence to the maximum sentence length and encode tokens to\n",
        "    their index in the vocabulary.\n",
        "\n",
        "    Returns:\n",
        "        input_ids (np.array): Array of token indexes in the vocabulary with\n",
        "            shape (N, max_len). It will the input of our CNN model.\n",
        "    \"\"\"\n",
        "\n",
        "    input_ids = []\n",
        "    for sent in texts:\n",
        "        tokenized_sent = sent.split()[:max_len]\n",
        "        tokenized_sent += ['<pad>'] * (max_len - len(tokenized_sent))\n",
        "\n",
        "        # Encode tokens to input_ids\n",
        "        input_id = [word2idx.get(token) for token in tokenized_sent]\n",
        "        input_ids.append(input_id)\n",
        "    \n",
        "    return np.array(input_ids)"
      ],
      "execution_count": null,
      "outputs": []
    },
    {
      "cell_type": "code",
      "metadata": {
        "id": "rTNBNxenAFDA"
      },
      "source": [
        "q1_train_inp_ids = encode(q1_df_train[0].to_list(), word2idx, 14)\n",
        "q2_train_inp_ids = encode(q2_df_train[0].to_list(), word2idx, 14)\n",
        "q1_test_inp_ids = encode(q1_df_test[0].to_list(), word2idx, 14)\n",
        "q2_test_inp_ids = encode(q2_df_test[0].to_list(), word2idx, 14)"
      ],
      "execution_count": null,
      "outputs": []
    },
    {
      "cell_type": "code",
      "metadata": {
        "id": "C5ZDC7dcMov1"
      },
      "source": [
        "train_inp_ids = np.stack([q1_train_inp_ids, q2_train_inp_ids], axis=-1)\n",
        "test_inp_ids = np.stack([q1_test_inp_ids, q2_test_inp_ids], axis=-1)"
      ],
      "execution_count": null,
      "outputs": []
    },
    {
      "cell_type": "code",
      "metadata": {
        "id": "ZUgzYxM9X4nK"
      },
      "source": [
        "X_train, X_val, Y_train, Y_val = train_test_split(train_inp_ids, Y_train, test_size=0.2)\n",
        "X_test = test_inp_ids\n",
        "X_train_t = torch.from_numpy(X_train)\n",
        "X_test_t = torch.from_numpy(X_test)\n",
        "X_val_t = torch.from_numpy(X_val)\n",
        "Y_train_t = torch.from_numpy(Y_train.values.astype(\"float32\"))\n",
        "Y_test_t = torch.from_numpy(Y_test.values.astype(\"float32\"))\n",
        "Y_val_t = torch.from_numpy(Y_val.values.astype(\"float32\"))"
      ],
      "execution_count": null,
      "outputs": []
    },
    {
      "cell_type": "code",
      "metadata": {
        "colab": {
          "base_uri": "https://localhost:8080/"
        },
        "id": "yQC6tq1Li_ya",
        "outputId": "138ca5b8-1ddc-4e3a-958a-32e61b237672"
      },
      "source": [
        "device = torch.device(\"cuda:0\" if torch.cuda.is_available() else \"cpu\")\n",
        "device"
      ],
      "execution_count": null,
      "outputs": [
        {
          "output_type": "execute_result",
          "data": {
            "text/plain": [
              "device(type='cuda', index=0)"
            ]
          },
          "metadata": {
            "tags": []
          },
          "execution_count": 14
        }
      ]
    },
    {
      "cell_type": "code",
      "metadata": {
        "id": "aRPPKjrjjAor"
      },
      "source": [
        "loss_list_train = []\n",
        "loss_list_val = []\n",
        "accuracy_list_train = []\n",
        "accuracy_list_val = []\n",
        "iteration_list_val = []\n",
        "iteration_list_train = []\n",
        "loss_train_epoch = []"
      ],
      "execution_count": null,
      "outputs": []
    },
    {
      "cell_type": "code",
      "metadata": {
        "colab": {
          "base_uri": "https://localhost:8080/"
        },
        "id": "M0o1QQsbHmet",
        "outputId": "88209847-7e9c-410e-f32d-c6f042698058"
      },
      "source": [
        "batch_size = 100\n",
        "class MyDataset(Dataset):\n",
        "    def __init__(self, X, Y):\n",
        "        self.X = X #torch.tensor(X, dtype=torch.float32) #X\n",
        "        self.Y = torch.tensor(Y, dtype=torch.float32) # Y.detach().clone() #torch.from_numpy(np.asarray(Y).astype('long'))\n",
        "\n",
        "    def __getitem__(self, index):\n",
        "        label = self.Y[index]\n",
        "        image = self.X[index]\n",
        "        return image, label\n",
        "\n",
        "    def __len__(self):\n",
        "        return len(self.X)\n",
        "\n",
        "train_dataset = MyDataset(X_train_t, Y_train_t)\n",
        "train_dataloader = DataLoader(train_dataset, batch_size=batch_size)\n",
        "\n",
        "test_dataset = MyDataset(X_test_t, Y_test_t)\n",
        "test_dataloader = DataLoader(test_dataset, batch_size=batch_size)\n",
        "\n",
        "val_dataset = MyDataset(X_val_t, Y_val_t)\n",
        "val_dataloader = DataLoader(val_dataset, batch_size=batch_size)"
      ],
      "execution_count": null,
      "outputs": [
        {
          "output_type": "stream",
          "text": [
            "/usr/local/lib/python3.7/dist-packages/ipykernel_launcher.py:5: UserWarning: To copy construct from a tensor, it is recommended to use sourceTensor.clone().detach() or sourceTensor.clone().detach().requires_grad_(True), rather than torch.tensor(sourceTensor).\n",
            "  \"\"\"\n"
          ],
          "name": "stderr"
        }
      ]
    },
    {
      "cell_type": "code",
      "metadata": {
        "colab": {
          "base_uri": "https://localhost:8080/",
          "height": 782
        },
        "id": "SBIcsVfQB6rd",
        "outputId": "e3324e41-0e56-495b-c951-d5b526339433"
      },
      "source": [
        "class MyCNN(nn.Module):\n",
        "    \"\"\"An 1D Convulational Neural Network for Sentence Classification.\"\"\"\n",
        "    def __init__(self, pretrained_embedding=None, embed_dim=300, filter_sizes=[2, 3, 4, 5], num_filters=[100, 100, 100, 100], num_classes=1, dropout=0.3):\n",
        "        super(MyCNN, self).__init__()\n",
        "        self.vocab_size, self.embed_dim = pretrained_embedding.shape\n",
        "        self.embedding = nn.Embedding.from_pretrained(pretrained_embedding, freeze=True)\n",
        "        self.conv1d_list = nn.ModuleList([\n",
        "            nn.Conv1d(in_channels=self.embed_dim*2, out_channels=num_filters[i], kernel_size=filter_sizes[i])\n",
        "            for i in range(len(filter_sizes))\n",
        "        ])\n",
        "        # Fully-connected layer and Dropout\n",
        "        self.fc = nn.Linear(np.sum(num_filters), num_classes)\n",
        "        # self.fc1 = nn.Linear(np.sum(num_filters), 256)\n",
        "        # self.fc2 = nn.Linear(256, 128)\n",
        "        # self.fc3 = nn.Linear(128, 32)\n",
        "        # self.fc4 = nn.Linear(32, 1)\n",
        "        self.dropout = nn.Dropout(p=dropout)\n",
        "\n",
        "    def forward(self, input_ids):\n",
        "        # Get embeddings from `input_ids`. Output shape: (b, max_len, embed_dim)\n",
        "        x_embed = self.embedding(input_ids).view(-1, 14, 600).float() # reshape(-1, 15, 600).float()\n",
        "\n",
        "        # Permute `x_embed` to match input shape requirement of `nn.Conv1d`.\n",
        "        # Output shape: (b, embed_dim, max_len)\n",
        "        x_reshaped = x_embed.permute(0, 2, 1)\n",
        "\n",
        "        # Apply CNN and ReLU. Output shape: (b, num_filters[i], L_out)\n",
        "        x_conv_list = [F.relu(conv1d(x_reshaped)) for conv1d in self.conv1d_list]\n",
        "\n",
        "        # Max pooling. Output shape: (b, num_filters[i], 1)\n",
        "        x_pool_list = [F.max_pool1d(x_conv, kernel_size=x_conv.shape[2])\n",
        "            for x_conv in x_conv_list]\n",
        "        \n",
        "        # Concatenate x_pool_list to feed the fully connected layer.\n",
        "        # Output shape: (b, sum(num_filters))\n",
        "        x_fc = torch.cat([x_pool.squeeze(dim=2) for x_pool in x_pool_list],\n",
        "                         dim=1)\n",
        "        \n",
        "        # Compute logits. Output shape: (b, n_classes)\n",
        "        logits = self.fc(self.dropout(x_fc))\n",
        "\n",
        "        return logits\n",
        "\n",
        "model = MyCNN(pretrained_embedding=embeddings)\n",
        "\n",
        "model.to(device)\n",
        "num_epochs = 1000\n",
        "count = 0\n",
        "\n",
        "error = nn.BCEWithLogitsLoss() #nn.CrossEntropyLoss()\n",
        "\n",
        "# After running several times, this was found to be the best\n",
        "learning_rate = 0.01\n",
        "# https://pytorch.org/docs/stable/optim.html\n",
        "optimizer = torch.optim.Adadelta(model.parameters(), lr=learning_rate, rho=0.95, weight_decay=0.005)\n",
        "# learning_rate = 0.01\n",
        "# # https://pytorch.org/docs/stable/optim.html\n",
        "# optimizer = torch.optim.Adadelta(model.parameters(), lr=learning_rate, rho=0.95)\n",
        "# optimizer = torch.optim.Adam(model.parameters(), lr=learning_rate, weight_decay=0.008)\n",
        "optimizer = torch.optim.ASGD(model.parameters(), lr=learning_rate, weight_decay=0.008)\n",
        "#optimizer = torch.optim.Adam(model.parameters(), lr=learning_rate)\n",
        "#optimizer = torch.optim.SGD(model.parameters(),lr=learning_rate)\n",
        "#train_dataset = MyDataset(X_train_t, Y_train_t)\n",
        "#train_dataloader = DataLoader(train_dataset, batch_size=batch_size)\n",
        "\n",
        "#test_dataset = MyDataset(X_test_t, Y_test_t)\n",
        "#test_dataloader = DataLoader(test_dataset, batch_size=batch_size)\n",
        "\n",
        "#val_dataset = MyDataset(X_val_t, Y_val_t)\n",
        "#val_dataloader = DataLoader(val_dataset, batch_size=batch_size)\n",
        "\n",
        "for curr_epoch in range(num_epochs):\n",
        "    for images, labels in train_dataloader:\n",
        "        images, labels = images.to(device), labels.to(device)\n",
        "        train = images #Variable(images)\n",
        "        labels = labels #Variable(labels.view(len(labels),1))\n",
        "        outputs = model(train)\n",
        "        loss = error(outputs, labels.reshape(-1, 1))\n",
        "        loss_list_train.append(loss.data)\n",
        "        #print(loss.data)\n",
        "        optimizer.zero_grad()\n",
        "        \n",
        "        loss.backward()\n",
        "        \n",
        "        optimizer.step()\n",
        "    \n",
        "        count += 1\n",
        "        model.eval()\n",
        "        with torch.no_grad():\n",
        "            if count%100 == 0:\n",
        "                # Y_pred = model(X_val_t.to(device))\n",
        "                # loss_val = error(Y_pred, torch.tensor(Y_val_t, dtype=torch.float32).to(device).reshape(-1, 1))\n",
        "                # Y_pred_lab = torch.round(torch.sigmoid(Y_pred))\n",
        "                # accuracy = 1#(Y_pred_lab.cpu() == Y_val_t).sum()/len(Y_val_t)\n",
        "                # Testing the model\n",
        "                total = 0\n",
        "                correct = 0\n",
        "                loss_val = 0\n",
        "                for images, labels in val_dataloader:\n",
        "                    images, labels = images.to(device), labels.to(device)\n",
        "                    test = images #.view(batch_size, inp_dim))\n",
        "                    outputs = model(test)\n",
        "                    loss_val += error(outputs, labels.reshape(-1, 1)).data\n",
        "                    predictions = torch.round(torch.sigmoid(outputs)) #torch.max(outputs, 1)[1].to(device)\n",
        "                    correct += (predictions.reshape(-1) == labels).sum().item()\n",
        "                    total += len(labels)\n",
        "                #print(correct, total)\n",
        "                accuracy = correct/total\n",
        "                loss_list_val.append(loss_val.data)\n",
        "                iteration_list_val.append(count)\n",
        "                accuracy_list_val.append(accuracy)\n",
        "                print(\"Iteration: {}, Val Loss: {:.3f}, Val Accuracy: {:.3f}\".format(count, loss_val.data, accuracy), end=\"\")\n",
        "        \n",
        "                total = 0\n",
        "                correct = 0\n",
        "                loss = 0\n",
        "                for images, labels in DataLoader(train_dataset, batch_size=batch_size):\n",
        "                    images, labels = images.to(device), labels.to(device)\n",
        "                    test = images #.view(batch_size, inp_dim))\n",
        "                    outputs = model(test)\n",
        "                    loss += error(outputs, labels.reshape(-1, 1)).data\n",
        "                    predictions = torch.round(torch.sigmoid(outputs)) #torch.max(outputs, 1)[1].to(device)\n",
        "                    correct += (predictions.reshape(-1) == labels).sum().item()\n",
        "                    total += len(labels)\n",
        "                accuracy = correct/total\n",
        "                iteration_list_train.append(count)\n",
        "                loss_train_epoch.append(loss)\n",
        "                accuracy_list_train.append(accuracy)\n",
        "                print(\" Train Loss: {:.3f}, Train Accuracy: {:.3f}\".format(loss.data, accuracy))"
      ],
      "execution_count": null,
      "outputs": [
        {
          "output_type": "stream",
          "text": [
            "Iteration: 100, Val Loss: 420.313, Val Accuracy: 0.631 Train Loss: 1682.999, Train Accuracy: 0.630\n",
            "Iteration: 200, Val Loss: 418.009, Val Accuracy: 0.631 Train Loss: 1673.973, Train Accuracy: 0.630\n",
            "Iteration: 300, Val Loss: 416.323, Val Accuracy: 0.631 Train Loss: 1667.040, Train Accuracy: 0.630\n",
            "Iteration: 400, Val Loss: 414.710, Val Accuracy: 0.631 Train Loss: 1660.727, Train Accuracy: 0.630\n",
            "Iteration: 500, Val Loss: 413.052, Val Accuracy: 0.631 Train Loss: 1653.815, Train Accuracy: 0.630\n",
            "Iteration: 600, Val Loss: 411.352, Val Accuracy: 0.631 Train Loss: 1647.049, Train Accuracy: 0.630\n",
            "Iteration: 700, Val Loss: 409.680, Val Accuracy: 0.632 Train Loss: 1640.202, Train Accuracy: 0.630\n",
            "Iteration: 800, Val Loss: 408.059, Val Accuracy: 0.632 Train Loss: 1633.699, Train Accuracy: 0.631\n",
            "Iteration: 900, Val Loss: 406.546, Val Accuracy: 0.633 Train Loss: 1627.435, Train Accuracy: 0.631\n",
            "Iteration: 1000, Val Loss: 404.829, Val Accuracy: 0.633 Train Loss: 1620.523, Train Accuracy: 0.632\n",
            "Iteration: 1100, Val Loss: 403.252, Val Accuracy: 0.638 Train Loss: 1613.904, Train Accuracy: 0.636\n",
            "Iteration: 1200, Val Loss: 401.678, Val Accuracy: 0.638 Train Loss: 1607.562, Train Accuracy: 0.637\n",
            "Iteration: 1300, Val Loss: 400.076, Val Accuracy: 0.642 Train Loss: 1600.989, Train Accuracy: 0.641\n",
            "Iteration: 1400, Val Loss: 398.504, Val Accuracy: 0.645 Train Loss: 1594.500, Train Accuracy: 0.645\n",
            "Iteration: 1500, Val Loss: 397.060, Val Accuracy: 0.656 Train Loss: 1588.408, Train Accuracy: 0.656\n",
            "Iteration: 1600, Val Loss: 395.461, Val Accuracy: 0.653 Train Loss: 1582.084, Train Accuracy: 0.653\n",
            "Iteration: 1700, Val Loss: 393.973, Val Accuracy: 0.661 Train Loss: 1575.851, Train Accuracy: 0.660\n",
            "Iteration: 1800, Val Loss: 392.441, Val Accuracy: 0.666 Train Loss: 1569.565, Train Accuracy: 0.666\n",
            "Iteration: 1900, Val Loss: 390.948, Val Accuracy: 0.670 Train Loss: 1563.447, Train Accuracy: 0.670\n",
            "Iteration: 2000, Val Loss: 389.536, Val Accuracy: 0.677 Train Loss: 1557.558, Train Accuracy: 0.677\n",
            "Iteration: 2100, Val Loss: 388.347, Val Accuracy: 0.682 Train Loss: 1552.571, Train Accuracy: 0.682\n",
            "Iteration: 2200, Val Loss: 387.034, Val Accuracy: 0.683 Train Loss: 1547.130, Train Accuracy: 0.683\n",
            "Iteration: 2300, Val Loss: 385.732, Val Accuracy: 0.686"
          ],
          "name": "stdout"
        },
        {
          "output_type": "error",
          "ename": "KeyboardInterrupt",
          "evalue": "ignored",
          "traceback": [
            "\u001b[0;31m---------------------------------------------------------------------------\u001b[0m",
            "\u001b[0;31mKeyboardInterrupt\u001b[0m                         Traceback (most recent call last)",
            "\u001b[0;32m<ipython-input-36-4866067a2d2a>\u001b[0m in \u001b[0;36m<module>\u001b[0;34m()\u001b[0m\n\u001b[1;32m    115\u001b[0m                 \u001b[0mcorrect\u001b[0m \u001b[0;34m=\u001b[0m \u001b[0;36m0\u001b[0m\u001b[0;34m\u001b[0m\u001b[0;34m\u001b[0m\u001b[0m\n\u001b[1;32m    116\u001b[0m                 \u001b[0mloss\u001b[0m \u001b[0;34m=\u001b[0m \u001b[0;36m0\u001b[0m\u001b[0;34m\u001b[0m\u001b[0;34m\u001b[0m\u001b[0m\n\u001b[0;32m--> 117\u001b[0;31m                 \u001b[0;32mfor\u001b[0m \u001b[0mimages\u001b[0m\u001b[0;34m,\u001b[0m \u001b[0mlabels\u001b[0m \u001b[0;32min\u001b[0m \u001b[0mDataLoader\u001b[0m\u001b[0;34m(\u001b[0m\u001b[0mtrain_dataset\u001b[0m\u001b[0;34m,\u001b[0m \u001b[0mbatch_size\u001b[0m\u001b[0;34m=\u001b[0m\u001b[0mbatch_size\u001b[0m\u001b[0;34m)\u001b[0m\u001b[0;34m:\u001b[0m\u001b[0;34m\u001b[0m\u001b[0;34m\u001b[0m\u001b[0m\n\u001b[0m\u001b[1;32m    118\u001b[0m                     \u001b[0mimages\u001b[0m\u001b[0;34m,\u001b[0m \u001b[0mlabels\u001b[0m \u001b[0;34m=\u001b[0m \u001b[0mimages\u001b[0m\u001b[0;34m.\u001b[0m\u001b[0mto\u001b[0m\u001b[0;34m(\u001b[0m\u001b[0mdevice\u001b[0m\u001b[0;34m)\u001b[0m\u001b[0;34m,\u001b[0m \u001b[0mlabels\u001b[0m\u001b[0;34m.\u001b[0m\u001b[0mto\u001b[0m\u001b[0;34m(\u001b[0m\u001b[0mdevice\u001b[0m\u001b[0;34m)\u001b[0m\u001b[0;34m\u001b[0m\u001b[0;34m\u001b[0m\u001b[0m\n\u001b[1;32m    119\u001b[0m                     \u001b[0mtest\u001b[0m \u001b[0;34m=\u001b[0m \u001b[0mimages\u001b[0m \u001b[0;31m#.view(batch_size, inp_dim))\u001b[0m\u001b[0;34m\u001b[0m\u001b[0;34m\u001b[0m\u001b[0m\n",
            "\u001b[0;32m/usr/local/lib/python3.7/dist-packages/torch/utils/data/dataloader.py\u001b[0m in \u001b[0;36m__next__\u001b[0;34m(self)\u001b[0m\n\u001b[1;32m    515\u001b[0m             \u001b[0;32mif\u001b[0m \u001b[0mself\u001b[0m\u001b[0;34m.\u001b[0m\u001b[0m_sampler_iter\u001b[0m \u001b[0;32mis\u001b[0m \u001b[0;32mNone\u001b[0m\u001b[0;34m:\u001b[0m\u001b[0;34m\u001b[0m\u001b[0;34m\u001b[0m\u001b[0m\n\u001b[1;32m    516\u001b[0m                 \u001b[0mself\u001b[0m\u001b[0;34m.\u001b[0m\u001b[0m_reset\u001b[0m\u001b[0;34m(\u001b[0m\u001b[0;34m)\u001b[0m\u001b[0;34m\u001b[0m\u001b[0;34m\u001b[0m\u001b[0m\n\u001b[0;32m--> 517\u001b[0;31m             \u001b[0mdata\u001b[0m \u001b[0;34m=\u001b[0m \u001b[0mself\u001b[0m\u001b[0;34m.\u001b[0m\u001b[0m_next_data\u001b[0m\u001b[0;34m(\u001b[0m\u001b[0;34m)\u001b[0m\u001b[0;34m\u001b[0m\u001b[0;34m\u001b[0m\u001b[0m\n\u001b[0m\u001b[1;32m    518\u001b[0m             \u001b[0mself\u001b[0m\u001b[0;34m.\u001b[0m\u001b[0m_num_yielded\u001b[0m \u001b[0;34m+=\u001b[0m \u001b[0;36m1\u001b[0m\u001b[0;34m\u001b[0m\u001b[0;34m\u001b[0m\u001b[0m\n\u001b[1;32m    519\u001b[0m             \u001b[0;32mif\u001b[0m \u001b[0mself\u001b[0m\u001b[0;34m.\u001b[0m\u001b[0m_dataset_kind\u001b[0m \u001b[0;34m==\u001b[0m \u001b[0m_DatasetKind\u001b[0m\u001b[0;34m.\u001b[0m\u001b[0mIterable\u001b[0m \u001b[0;32mand\u001b[0m\u001b[0;31m \u001b[0m\u001b[0;31m\\\u001b[0m\u001b[0;34m\u001b[0m\u001b[0;34m\u001b[0m\u001b[0m\n",
            "\u001b[0;32m/usr/local/lib/python3.7/dist-packages/torch/utils/data/dataloader.py\u001b[0m in \u001b[0;36m_next_data\u001b[0;34m(self)\u001b[0m\n\u001b[1;32m    555\u001b[0m     \u001b[0;32mdef\u001b[0m \u001b[0m_next_data\u001b[0m\u001b[0;34m(\u001b[0m\u001b[0mself\u001b[0m\u001b[0;34m)\u001b[0m\u001b[0;34m:\u001b[0m\u001b[0;34m\u001b[0m\u001b[0;34m\u001b[0m\u001b[0m\n\u001b[1;32m    556\u001b[0m         \u001b[0mindex\u001b[0m \u001b[0;34m=\u001b[0m \u001b[0mself\u001b[0m\u001b[0;34m.\u001b[0m\u001b[0m_next_index\u001b[0m\u001b[0;34m(\u001b[0m\u001b[0;34m)\u001b[0m  \u001b[0;31m# may raise StopIteration\u001b[0m\u001b[0;34m\u001b[0m\u001b[0;34m\u001b[0m\u001b[0m\n\u001b[0;32m--> 557\u001b[0;31m         \u001b[0mdata\u001b[0m \u001b[0;34m=\u001b[0m \u001b[0mself\u001b[0m\u001b[0;34m.\u001b[0m\u001b[0m_dataset_fetcher\u001b[0m\u001b[0;34m.\u001b[0m\u001b[0mfetch\u001b[0m\u001b[0;34m(\u001b[0m\u001b[0mindex\u001b[0m\u001b[0;34m)\u001b[0m  \u001b[0;31m# may raise StopIteration\u001b[0m\u001b[0;34m\u001b[0m\u001b[0;34m\u001b[0m\u001b[0m\n\u001b[0m\u001b[1;32m    558\u001b[0m         \u001b[0;32mif\u001b[0m \u001b[0mself\u001b[0m\u001b[0;34m.\u001b[0m\u001b[0m_pin_memory\u001b[0m\u001b[0;34m:\u001b[0m\u001b[0;34m\u001b[0m\u001b[0;34m\u001b[0m\u001b[0m\n\u001b[1;32m    559\u001b[0m             \u001b[0mdata\u001b[0m \u001b[0;34m=\u001b[0m \u001b[0m_utils\u001b[0m\u001b[0;34m.\u001b[0m\u001b[0mpin_memory\u001b[0m\u001b[0;34m.\u001b[0m\u001b[0mpin_memory\u001b[0m\u001b[0;34m(\u001b[0m\u001b[0mdata\u001b[0m\u001b[0;34m)\u001b[0m\u001b[0;34m\u001b[0m\u001b[0;34m\u001b[0m\u001b[0m\n",
            "\u001b[0;32m/usr/local/lib/python3.7/dist-packages/torch/utils/data/_utils/fetch.py\u001b[0m in \u001b[0;36mfetch\u001b[0;34m(self, possibly_batched_index)\u001b[0m\n\u001b[1;32m     45\u001b[0m         \u001b[0;32melse\u001b[0m\u001b[0;34m:\u001b[0m\u001b[0;34m\u001b[0m\u001b[0;34m\u001b[0m\u001b[0m\n\u001b[1;32m     46\u001b[0m             \u001b[0mdata\u001b[0m \u001b[0;34m=\u001b[0m \u001b[0mself\u001b[0m\u001b[0;34m.\u001b[0m\u001b[0mdataset\u001b[0m\u001b[0;34m[\u001b[0m\u001b[0mpossibly_batched_index\u001b[0m\u001b[0;34m]\u001b[0m\u001b[0;34m\u001b[0m\u001b[0;34m\u001b[0m\u001b[0m\n\u001b[0;32m---> 47\u001b[0;31m         \u001b[0;32mreturn\u001b[0m \u001b[0mself\u001b[0m\u001b[0;34m.\u001b[0m\u001b[0mcollate_fn\u001b[0m\u001b[0;34m(\u001b[0m\u001b[0mdata\u001b[0m\u001b[0;34m)\u001b[0m\u001b[0;34m\u001b[0m\u001b[0;34m\u001b[0m\u001b[0m\n\u001b[0m",
            "\u001b[0;32m/usr/local/lib/python3.7/dist-packages/torch/utils/data/_utils/collate.py\u001b[0m in \u001b[0;36mdefault_collate\u001b[0;34m(batch)\u001b[0m\n\u001b[1;32m     81\u001b[0m             \u001b[0;32mraise\u001b[0m \u001b[0mRuntimeError\u001b[0m\u001b[0;34m(\u001b[0m\u001b[0;34m'each element in list of batch should be of equal size'\u001b[0m\u001b[0;34m)\u001b[0m\u001b[0;34m\u001b[0m\u001b[0;34m\u001b[0m\u001b[0m\n\u001b[1;32m     82\u001b[0m         \u001b[0mtransposed\u001b[0m \u001b[0;34m=\u001b[0m \u001b[0mzip\u001b[0m\u001b[0;34m(\u001b[0m\u001b[0;34m*\u001b[0m\u001b[0mbatch\u001b[0m\u001b[0;34m)\u001b[0m\u001b[0;34m\u001b[0m\u001b[0;34m\u001b[0m\u001b[0m\n\u001b[0;32m---> 83\u001b[0;31m         \u001b[0;32mreturn\u001b[0m \u001b[0;34m[\u001b[0m\u001b[0mdefault_collate\u001b[0m\u001b[0;34m(\u001b[0m\u001b[0msamples\u001b[0m\u001b[0;34m)\u001b[0m \u001b[0;32mfor\u001b[0m \u001b[0msamples\u001b[0m \u001b[0;32min\u001b[0m \u001b[0mtransposed\u001b[0m\u001b[0;34m]\u001b[0m\u001b[0;34m\u001b[0m\u001b[0;34m\u001b[0m\u001b[0m\n\u001b[0m\u001b[1;32m     84\u001b[0m \u001b[0;34m\u001b[0m\u001b[0m\n\u001b[1;32m     85\u001b[0m     \u001b[0;32mraise\u001b[0m \u001b[0mTypeError\u001b[0m\u001b[0;34m(\u001b[0m\u001b[0mdefault_collate_err_msg_format\u001b[0m\u001b[0;34m.\u001b[0m\u001b[0mformat\u001b[0m\u001b[0;34m(\u001b[0m\u001b[0melem_type\u001b[0m\u001b[0;34m)\u001b[0m\u001b[0;34m)\u001b[0m\u001b[0;34m\u001b[0m\u001b[0;34m\u001b[0m\u001b[0m\n",
            "\u001b[0;32m/usr/local/lib/python3.7/dist-packages/torch/utils/data/_utils/collate.py\u001b[0m in \u001b[0;36m<listcomp>\u001b[0;34m(.0)\u001b[0m\n\u001b[1;32m     81\u001b[0m             \u001b[0;32mraise\u001b[0m \u001b[0mRuntimeError\u001b[0m\u001b[0;34m(\u001b[0m\u001b[0;34m'each element in list of batch should be of equal size'\u001b[0m\u001b[0;34m)\u001b[0m\u001b[0;34m\u001b[0m\u001b[0;34m\u001b[0m\u001b[0m\n\u001b[1;32m     82\u001b[0m         \u001b[0mtransposed\u001b[0m \u001b[0;34m=\u001b[0m \u001b[0mzip\u001b[0m\u001b[0;34m(\u001b[0m\u001b[0;34m*\u001b[0m\u001b[0mbatch\u001b[0m\u001b[0;34m)\u001b[0m\u001b[0;34m\u001b[0m\u001b[0;34m\u001b[0m\u001b[0m\n\u001b[0;32m---> 83\u001b[0;31m         \u001b[0;32mreturn\u001b[0m \u001b[0;34m[\u001b[0m\u001b[0mdefault_collate\u001b[0m\u001b[0;34m(\u001b[0m\u001b[0msamples\u001b[0m\u001b[0;34m)\u001b[0m \u001b[0;32mfor\u001b[0m \u001b[0msamples\u001b[0m \u001b[0;32min\u001b[0m \u001b[0mtransposed\u001b[0m\u001b[0;34m]\u001b[0m\u001b[0;34m\u001b[0m\u001b[0;34m\u001b[0m\u001b[0m\n\u001b[0m\u001b[1;32m     84\u001b[0m \u001b[0;34m\u001b[0m\u001b[0m\n\u001b[1;32m     85\u001b[0m     \u001b[0;32mraise\u001b[0m \u001b[0mTypeError\u001b[0m\u001b[0;34m(\u001b[0m\u001b[0mdefault_collate_err_msg_format\u001b[0m\u001b[0;34m.\u001b[0m\u001b[0mformat\u001b[0m\u001b[0;34m(\u001b[0m\u001b[0melem_type\u001b[0m\u001b[0;34m)\u001b[0m\u001b[0;34m)\u001b[0m\u001b[0;34m\u001b[0m\u001b[0;34m\u001b[0m\u001b[0m\n",
            "\u001b[0;32m/usr/local/lib/python3.7/dist-packages/torch/utils/data/_utils/collate.py\u001b[0m in \u001b[0;36mdefault_collate\u001b[0;34m(batch)\u001b[0m\n\u001b[1;32m     53\u001b[0m             \u001b[0mstorage\u001b[0m \u001b[0;34m=\u001b[0m \u001b[0melem\u001b[0m\u001b[0;34m.\u001b[0m\u001b[0mstorage\u001b[0m\u001b[0;34m(\u001b[0m\u001b[0;34m)\u001b[0m\u001b[0;34m.\u001b[0m\u001b[0m_new_shared\u001b[0m\u001b[0;34m(\u001b[0m\u001b[0mnumel\u001b[0m\u001b[0;34m)\u001b[0m\u001b[0;34m\u001b[0m\u001b[0;34m\u001b[0m\u001b[0m\n\u001b[1;32m     54\u001b[0m             \u001b[0mout\u001b[0m \u001b[0;34m=\u001b[0m \u001b[0melem\u001b[0m\u001b[0;34m.\u001b[0m\u001b[0mnew\u001b[0m\u001b[0;34m(\u001b[0m\u001b[0mstorage\u001b[0m\u001b[0;34m)\u001b[0m\u001b[0;34m\u001b[0m\u001b[0;34m\u001b[0m\u001b[0m\n\u001b[0;32m---> 55\u001b[0;31m         \u001b[0;32mreturn\u001b[0m \u001b[0mtorch\u001b[0m\u001b[0;34m.\u001b[0m\u001b[0mstack\u001b[0m\u001b[0;34m(\u001b[0m\u001b[0mbatch\u001b[0m\u001b[0;34m,\u001b[0m \u001b[0;36m0\u001b[0m\u001b[0;34m,\u001b[0m \u001b[0mout\u001b[0m\u001b[0;34m=\u001b[0m\u001b[0mout\u001b[0m\u001b[0;34m)\u001b[0m\u001b[0;34m\u001b[0m\u001b[0;34m\u001b[0m\u001b[0m\n\u001b[0m\u001b[1;32m     56\u001b[0m     \u001b[0;32melif\u001b[0m \u001b[0melem_type\u001b[0m\u001b[0;34m.\u001b[0m\u001b[0m__module__\u001b[0m \u001b[0;34m==\u001b[0m \u001b[0;34m'numpy'\u001b[0m \u001b[0;32mand\u001b[0m \u001b[0melem_type\u001b[0m\u001b[0;34m.\u001b[0m\u001b[0m__name__\u001b[0m \u001b[0;34m!=\u001b[0m \u001b[0;34m'str_'\u001b[0m\u001b[0;31m \u001b[0m\u001b[0;31m\\\u001b[0m\u001b[0;34m\u001b[0m\u001b[0;34m\u001b[0m\u001b[0m\n\u001b[1;32m     57\u001b[0m             \u001b[0;32mand\u001b[0m \u001b[0melem_type\u001b[0m\u001b[0;34m.\u001b[0m\u001b[0m__name__\u001b[0m \u001b[0;34m!=\u001b[0m \u001b[0;34m'string_'\u001b[0m\u001b[0;34m:\u001b[0m\u001b[0;34m\u001b[0m\u001b[0;34m\u001b[0m\u001b[0m\n",
            "\u001b[0;31mKeyboardInterrupt\u001b[0m: "
          ]
        }
      ]
    },
    {
      "cell_type": "code",
      "metadata": {
        "colab": {
          "base_uri": "https://localhost:8080/",
          "height": 799
        },
        "id": "dDaXreJtW0oC",
        "outputId": "7918734b-e02c-45bf-d153-a35a8f02b8d1"
      },
      "source": [
        "learning_rate = 0.1\n",
        "# https://pytorch.org/docs/stable/optim.html\n",
        "optimizer = torch.optim.Adadelta(model.parameters(), lr=learning_rate, rho=0.95, weight_decay=0.005)\n",
        "#optimizer = torch.optim.ASGD(model.parameters())\n",
        "#optimizer = torch.optim.Adam(model.parameters(), lr=learning_rate)\n",
        "#optimizer = torch.optim.SGD(model.parameters(),lr=learning_rate, weight_decay=0.005, momentum=0.5)\n",
        "#train_dataset = MyDataset(X_train_t, Y_train_t)\n",
        "#train_dataloader = DataLoader(train_dataset, batch_size=batch_size)\n",
        "\n",
        "#test_dataset = MyDataset(X_test_t, Y_test_t)\n",
        "#test_dataloader = DataLoader(test_dataset, batch_size=batch_size)\n",
        "\n",
        "#val_dataset = MyDataset(X_val_t, Y_val_t)\n",
        "#val_dataloader = DataLoader(val_dataset, batch_size=batch_size)\n",
        "\n",
        "for curr_epoch in range(num_epochs):\n",
        "    for images, labels in train_dataloader:\n",
        "        images, labels = images.to(device), labels.to(device)\n",
        "        train = images #Variable(images)\n",
        "        labels = labels #Variable(labels.view(len(labels),1))\n",
        "        outputs = model(train)\n",
        "        loss = error(outputs, labels.reshape(-1, 1))\n",
        "        loss_list_train.append(loss.data)\n",
        "        #print(loss.data)\n",
        "        optimizer.zero_grad()\n",
        "        \n",
        "        loss.backward()\n",
        "        \n",
        "        optimizer.step()\n",
        "    \n",
        "        count += 1\n",
        "        model.eval()\n",
        "        with torch.no_grad():\n",
        "            if count%100 == 0:\n",
        "                # Y_pred = model(X_val_t.to(device))\n",
        "                # loss_val = error(Y_pred, torch.tensor(Y_val_t, dtype=torch.float32).to(device).reshape(-1, 1))\n",
        "                # Y_pred_lab = torch.round(torch.sigmoid(Y_pred))\n",
        "                # accuracy = 1#(Y_pred_lab.cpu() == Y_val_t).sum()/len(Y_val_t)\n",
        "                # Testing the model\n",
        "                total = 0\n",
        "                correct = 0\n",
        "                loss_val = 0\n",
        "                for images, labels in val_dataloader:\n",
        "                    images, labels = images.to(device), labels.to(device)\n",
        "                    test = images #.view(batch_size, inp_dim))\n",
        "                    outputs = model(test)\n",
        "                    loss_val += error(outputs, labels.reshape(-1, 1)).data\n",
        "                    predictions = torch.round(torch.sigmoid(outputs)) #torch.max(outputs, 1)[1].to(device)\n",
        "                    correct += (predictions.reshape(-1) == labels).sum().item()\n",
        "                    total += len(labels)\n",
        "                #print(correct, total)\n",
        "                accuracy = correct/total\n",
        "                loss_list_val.append(loss_val.data)\n",
        "                iteration_list_val.append(count)\n",
        "                accuracy_list_val.append(accuracy)\n",
        "                print(\"Iteration: {}, Val Loss: {:.3f}, Val Accuracy: {:.3f}\".format(count, loss_val.data, accuracy), end=\"\")\n",
        "        \n",
        "                total = 0\n",
        "                correct = 0\n",
        "                loss = 0\n",
        "                for images, labels in DataLoader(train_dataset, batch_size=batch_size):\n",
        "                    images, labels = images.to(device), labels.to(device)\n",
        "                    test = images #.view(batch_size, inp_dim))\n",
        "                    outputs = model(test)\n",
        "                    loss += error(outputs, labels.reshape(-1, 1)).data\n",
        "                    predictions = torch.round(torch.sigmoid(outputs)) #torch.max(outputs, 1)[1].to(device)\n",
        "                    correct += (predictions.reshape(-1) == labels).sum().item()\n",
        "                    total += len(labels)\n",
        "                accuracy = correct/total\n",
        "                iteration_list_train.append(count)\n",
        "                loss_train_epoch.append(loss)\n",
        "                accuracy_list_train.append(accuracy)\n",
        "                print(\" Train Loss: {:.3f}, Train Accuracy: {:.3f}\".format(loss.data, accuracy))"
      ],
      "execution_count": null,
      "outputs": [
        {
          "output_type": "stream",
          "text": [
            "Iteration: 2400, Val Loss: 377.932, Val Accuracy: 0.701 Train Loss: 1508.921, Train Accuracy: 0.703\n",
            "Iteration: 2500, Val Loss: 372.137, Val Accuracy: 0.703 Train Loss: 1484.234, Train Accuracy: 0.704\n",
            "Iteration: 2600, Val Loss: 367.700, Val Accuracy: 0.709 Train Loss: 1464.847, Train Accuracy: 0.710\n",
            "Iteration: 2700, Val Loss: 364.591, Val Accuracy: 0.717 Train Loss: 1451.376, Train Accuracy: 0.720\n",
            "Iteration: 2800, Val Loss: 360.630, Val Accuracy: 0.720 Train Loss: 1434.105, Train Accuracy: 0.723\n",
            "Iteration: 2900, Val Loss: 358.191, Val Accuracy: 0.721 Train Loss: 1422.572, Train Accuracy: 0.724\n",
            "Iteration: 3000, Val Loss: 357.183, Val Accuracy: 0.725 Train Loss: 1418.050, Train Accuracy: 0.729\n",
            "Iteration: 3100, Val Loss: 354.348, Val Accuracy: 0.724 Train Loss: 1405.693, Train Accuracy: 0.728\n",
            "Iteration: 3200, Val Loss: 357.003, Val Accuracy: 0.726 Train Loss: 1415.544, Train Accuracy: 0.731\n",
            "Iteration: 3300, Val Loss: 350.430, Val Accuracy: 0.727 Train Loss: 1386.184, Train Accuracy: 0.732\n",
            "Iteration: 3400, Val Loss: 349.019, Val Accuracy: 0.731 Train Loss: 1379.890, Train Accuracy: 0.736\n",
            "Iteration: 3500, Val Loss: 347.908, Val Accuracy: 0.731 Train Loss: 1373.589, Train Accuracy: 0.737\n",
            "Iteration: 3600, Val Loss: 346.446, Val Accuracy: 0.732 Train Loss: 1366.517, Train Accuracy: 0.738\n",
            "Iteration: 3700, Val Loss: 346.684, Val Accuracy: 0.728 Train Loss: 1364.576, Train Accuracy: 0.735\n",
            "Iteration: 3800, Val Loss: 349.799, Val Accuracy: 0.732 Train Loss: 1377.261, Train Accuracy: 0.739\n",
            "Iteration: 3900, Val Loss: 343.589, Val Accuracy: 0.735 Train Loss: 1351.965, Train Accuracy: 0.742\n",
            "Iteration: 4000, Val Loss: 343.060, Val Accuracy: 0.733 Train Loss: 1348.108, Train Accuracy: 0.740\n",
            "Iteration: 4100, Val Loss: 341.768, Val Accuracy: 0.736 Train Loss: 1341.754, Train Accuracy: 0.742\n",
            "Iteration: 4200, Val Loss: 340.825, Val Accuracy: 0.737 Train Loss: 1337.964, Train Accuracy: 0.746\n",
            "Iteration: 4300, Val Loss: 341.135, Val Accuracy: 0.734 Train Loss: 1337.725, Train Accuracy: 0.742\n",
            "Iteration: 4400, Val Loss: 342.125, Val Accuracy: 0.738"
          ],
          "name": "stdout"
        },
        {
          "output_type": "error",
          "ename": "KeyboardInterrupt",
          "evalue": "ignored",
          "traceback": [
            "\u001b[0;31m---------------------------------------------------------------------------\u001b[0m",
            "\u001b[0;31mKeyboardInterrupt\u001b[0m                         Traceback (most recent call last)",
            "\u001b[0;32m<ipython-input-37-2258d86b38c3>\u001b[0m in \u001b[0;36m<module>\u001b[0;34m()\u001b[0m\n\u001b[1;32m     63\u001b[0m                     \u001b[0mtest\u001b[0m \u001b[0;34m=\u001b[0m \u001b[0mimages\u001b[0m \u001b[0;31m#.view(batch_size, inp_dim))\u001b[0m\u001b[0;34m\u001b[0m\u001b[0;34m\u001b[0m\u001b[0m\n\u001b[1;32m     64\u001b[0m                     \u001b[0moutputs\u001b[0m \u001b[0;34m=\u001b[0m \u001b[0mmodel\u001b[0m\u001b[0;34m(\u001b[0m\u001b[0mtest\u001b[0m\u001b[0;34m)\u001b[0m\u001b[0;34m\u001b[0m\u001b[0;34m\u001b[0m\u001b[0m\n\u001b[0;32m---> 65\u001b[0;31m                     \u001b[0mloss\u001b[0m \u001b[0;34m+=\u001b[0m \u001b[0merror\u001b[0m\u001b[0;34m(\u001b[0m\u001b[0moutputs\u001b[0m\u001b[0;34m,\u001b[0m \u001b[0mlabels\u001b[0m\u001b[0;34m.\u001b[0m\u001b[0mreshape\u001b[0m\u001b[0;34m(\u001b[0m\u001b[0;34m-\u001b[0m\u001b[0;36m1\u001b[0m\u001b[0;34m,\u001b[0m \u001b[0;36m1\u001b[0m\u001b[0;34m)\u001b[0m\u001b[0;34m)\u001b[0m\u001b[0;34m.\u001b[0m\u001b[0mdata\u001b[0m\u001b[0;34m\u001b[0m\u001b[0;34m\u001b[0m\u001b[0m\n\u001b[0m\u001b[1;32m     66\u001b[0m                     \u001b[0mpredictions\u001b[0m \u001b[0;34m=\u001b[0m \u001b[0mtorch\u001b[0m\u001b[0;34m.\u001b[0m\u001b[0mround\u001b[0m\u001b[0;34m(\u001b[0m\u001b[0mtorch\u001b[0m\u001b[0;34m.\u001b[0m\u001b[0msigmoid\u001b[0m\u001b[0;34m(\u001b[0m\u001b[0moutputs\u001b[0m\u001b[0;34m)\u001b[0m\u001b[0;34m)\u001b[0m \u001b[0;31m#torch.max(outputs, 1)[1].to(device)\u001b[0m\u001b[0;34m\u001b[0m\u001b[0;34m\u001b[0m\u001b[0m\n\u001b[1;32m     67\u001b[0m                     \u001b[0mcorrect\u001b[0m \u001b[0;34m+=\u001b[0m \u001b[0;34m(\u001b[0m\u001b[0mpredictions\u001b[0m\u001b[0;34m.\u001b[0m\u001b[0mreshape\u001b[0m\u001b[0;34m(\u001b[0m\u001b[0;34m-\u001b[0m\u001b[0;36m1\u001b[0m\u001b[0;34m)\u001b[0m \u001b[0;34m==\u001b[0m \u001b[0mlabels\u001b[0m\u001b[0;34m)\u001b[0m\u001b[0;34m.\u001b[0m\u001b[0msum\u001b[0m\u001b[0;34m(\u001b[0m\u001b[0;34m)\u001b[0m\u001b[0;34m.\u001b[0m\u001b[0mitem\u001b[0m\u001b[0;34m(\u001b[0m\u001b[0;34m)\u001b[0m\u001b[0;34m\u001b[0m\u001b[0;34m\u001b[0m\u001b[0m\n",
            "\u001b[0;32m/usr/local/lib/python3.7/dist-packages/torch/nn/modules/module.py\u001b[0m in \u001b[0;36m_call_impl\u001b[0;34m(self, *input, **kwargs)\u001b[0m\n\u001b[1;32m    887\u001b[0m             \u001b[0mresult\u001b[0m \u001b[0;34m=\u001b[0m \u001b[0mself\u001b[0m\u001b[0;34m.\u001b[0m\u001b[0m_slow_forward\u001b[0m\u001b[0;34m(\u001b[0m\u001b[0;34m*\u001b[0m\u001b[0minput\u001b[0m\u001b[0;34m,\u001b[0m \u001b[0;34m**\u001b[0m\u001b[0mkwargs\u001b[0m\u001b[0;34m)\u001b[0m\u001b[0;34m\u001b[0m\u001b[0;34m\u001b[0m\u001b[0m\n\u001b[1;32m    888\u001b[0m         \u001b[0;32melse\u001b[0m\u001b[0;34m:\u001b[0m\u001b[0;34m\u001b[0m\u001b[0;34m\u001b[0m\u001b[0m\n\u001b[0;32m--> 889\u001b[0;31m             \u001b[0mresult\u001b[0m \u001b[0;34m=\u001b[0m \u001b[0mself\u001b[0m\u001b[0;34m.\u001b[0m\u001b[0mforward\u001b[0m\u001b[0;34m(\u001b[0m\u001b[0;34m*\u001b[0m\u001b[0minput\u001b[0m\u001b[0;34m,\u001b[0m \u001b[0;34m**\u001b[0m\u001b[0mkwargs\u001b[0m\u001b[0;34m)\u001b[0m\u001b[0;34m\u001b[0m\u001b[0;34m\u001b[0m\u001b[0m\n\u001b[0m\u001b[1;32m    890\u001b[0m         for hook in itertools.chain(\n\u001b[1;32m    891\u001b[0m                 \u001b[0m_global_forward_hooks\u001b[0m\u001b[0;34m.\u001b[0m\u001b[0mvalues\u001b[0m\u001b[0;34m(\u001b[0m\u001b[0;34m)\u001b[0m\u001b[0;34m,\u001b[0m\u001b[0;34m\u001b[0m\u001b[0;34m\u001b[0m\u001b[0m\n",
            "\u001b[0;32m/usr/local/lib/python3.7/dist-packages/torch/nn/modules/loss.py\u001b[0m in \u001b[0;36mforward\u001b[0;34m(self, input, target)\u001b[0m\n\u001b[1;32m    715\u001b[0m                                                   \u001b[0mself\u001b[0m\u001b[0;34m.\u001b[0m\u001b[0mweight\u001b[0m\u001b[0;34m,\u001b[0m\u001b[0;34m\u001b[0m\u001b[0;34m\u001b[0m\u001b[0m\n\u001b[1;32m    716\u001b[0m                                                   \u001b[0mpos_weight\u001b[0m\u001b[0;34m=\u001b[0m\u001b[0mself\u001b[0m\u001b[0;34m.\u001b[0m\u001b[0mpos_weight\u001b[0m\u001b[0;34m,\u001b[0m\u001b[0;34m\u001b[0m\u001b[0;34m\u001b[0m\u001b[0m\n\u001b[0;32m--> 717\u001b[0;31m                                                   reduction=self.reduction)\n\u001b[0m\u001b[1;32m    718\u001b[0m \u001b[0;34m\u001b[0m\u001b[0m\n\u001b[1;32m    719\u001b[0m \u001b[0;34m\u001b[0m\u001b[0m\n",
            "\u001b[0;32m/usr/local/lib/python3.7/dist-packages/torch/nn/functional.py\u001b[0m in \u001b[0;36mbinary_cross_entropy_with_logits\u001b[0;34m(input, target, weight, size_average, reduce, reduction, pos_weight)\u001b[0m\n\u001b[1;32m   2827\u001b[0m         \u001b[0;32mraise\u001b[0m \u001b[0mValueError\u001b[0m\u001b[0;34m(\u001b[0m\u001b[0;34m\"Target size ({}) must be the same as input size ({})\"\u001b[0m\u001b[0;34m.\u001b[0m\u001b[0mformat\u001b[0m\u001b[0;34m(\u001b[0m\u001b[0mtarget\u001b[0m\u001b[0;34m.\u001b[0m\u001b[0msize\u001b[0m\u001b[0;34m(\u001b[0m\u001b[0;34m)\u001b[0m\u001b[0;34m,\u001b[0m \u001b[0minput\u001b[0m\u001b[0;34m.\u001b[0m\u001b[0msize\u001b[0m\u001b[0;34m(\u001b[0m\u001b[0;34m)\u001b[0m\u001b[0;34m)\u001b[0m\u001b[0;34m)\u001b[0m\u001b[0;34m\u001b[0m\u001b[0;34m\u001b[0m\u001b[0m\n\u001b[1;32m   2828\u001b[0m \u001b[0;34m\u001b[0m\u001b[0m\n\u001b[0;32m-> 2829\u001b[0;31m     \u001b[0;32mreturn\u001b[0m \u001b[0mtorch\u001b[0m\u001b[0;34m.\u001b[0m\u001b[0mbinary_cross_entropy_with_logits\u001b[0m\u001b[0;34m(\u001b[0m\u001b[0minput\u001b[0m\u001b[0;34m,\u001b[0m \u001b[0mtarget\u001b[0m\u001b[0;34m,\u001b[0m \u001b[0mweight\u001b[0m\u001b[0;34m,\u001b[0m \u001b[0mpos_weight\u001b[0m\u001b[0;34m,\u001b[0m \u001b[0mreduction_enum\u001b[0m\u001b[0;34m)\u001b[0m\u001b[0;34m\u001b[0m\u001b[0;34m\u001b[0m\u001b[0m\n\u001b[0m\u001b[1;32m   2830\u001b[0m \u001b[0;34m\u001b[0m\u001b[0m\n\u001b[1;32m   2831\u001b[0m \u001b[0;34m\u001b[0m\u001b[0m\n",
            "\u001b[0;31mKeyboardInterrupt\u001b[0m: "
          ]
        }
      ]
    },
    {
      "cell_type": "code",
      "metadata": {
        "colab": {
          "base_uri": "https://localhost:8080/",
          "height": 1000
        },
        "id": "GidMcGiCtMsE",
        "outputId": "1ae07cb6-6238-4dfb-85c9-11a229174d02"
      },
      "source": [
        "learning_rate = 0.05\n",
        "# https://pytorch.org/docs/stable/optim.html\n",
        "optimizer = torch.optim.Adadelta(model.parameters(), lr=learning_rate, rho=0.95, weight_decay=0.005)\n",
        "#optimizer = torch.optim.ASGD(model.parameters())\n",
        "#optimizer = torch.optim.Adam(model.parameters(), lr=learning_rate)\n",
        "#optimizer = torch.optim.SGD(model.parameters(),lr=learning_rate, weight_decay=0.005, momentum=0.5)\n",
        "#train_dataset = MyDataset(X_train_t, Y_train_t)\n",
        "#train_dataloader = DataLoader(train_dataset, batch_size=batch_size)\n",
        "\n",
        "#test_dataset = MyDataset(X_test_t, Y_test_t)\n",
        "#test_dataloader = DataLoader(test_dataset, batch_size=batch_size)\n",
        "\n",
        "#val_dataset = MyDataset(X_val_t, Y_val_t)\n",
        "#val_dataloader = DataLoader(val_dataset, batch_size=batch_size)\n",
        "\n",
        "for curr_epoch in range(num_epochs):\n",
        "    for images, labels in train_dataloader:\n",
        "        images, labels = images.to(device), labels.to(device)\n",
        "        train = images #Variable(images)\n",
        "        labels = labels #Variable(labels.view(len(labels),1))\n",
        "        outputs = model(train)\n",
        "        loss = error(outputs, labels.reshape(-1, 1))\n",
        "        loss_list_train.append(loss.data)\n",
        "        #print(loss.data)\n",
        "        optimizer.zero_grad()\n",
        "        \n",
        "        loss.backward()\n",
        "        \n",
        "        optimizer.step()\n",
        "    \n",
        "        count += 1\n",
        "        model.eval()\n",
        "        with torch.no_grad():\n",
        "            if count%100 == 0:\n",
        "                # Y_pred = model(X_val_t.to(device))\n",
        "                # loss_val = error(Y_pred, torch.tensor(Y_val_t, dtype=torch.float32).to(device).reshape(-1, 1))\n",
        "                # Y_pred_lab = torch.round(torch.sigmoid(Y_pred))\n",
        "                # accuracy = 1#(Y_pred_lab.cpu() == Y_val_t).sum()/len(Y_val_t)\n",
        "                # Testing the model\n",
        "                total = 0\n",
        "                correct = 0\n",
        "                loss_val = 0\n",
        "                for images, labels in val_dataloader:\n",
        "                    images, labels = images.to(device), labels.to(device)\n",
        "                    test = images #.view(batch_size, inp_dim))\n",
        "                    outputs = model(test)\n",
        "                    loss_val += error(outputs, labels.reshape(-1, 1)).data\n",
        "                    predictions = torch.round(torch.sigmoid(outputs)) #torch.max(outputs, 1)[1].to(device)\n",
        "                    correct += (predictions.reshape(-1) == labels).sum().item()\n",
        "                    total += len(labels)\n",
        "                #print(correct, total)\n",
        "                accuracy = correct/total\n",
        "                loss_list_val.append(loss_val.data)\n",
        "                iteration_list_val.append(count)\n",
        "                accuracy_list_val.append(accuracy)\n",
        "                print(\"Iteration: {}, Val Loss: {:.3f}, Val Accuracy: {:.3f}\".format(count, loss_val.data, accuracy), end=\"\")\n",
        "        \n",
        "                total = 0\n",
        "                correct = 0\n",
        "                loss = 0\n",
        "                for images, labels in DataLoader(train_dataset, batch_size=batch_size):\n",
        "                    images, labels = images.to(device), labels.to(device)\n",
        "                    test = images #.view(batch_size, inp_dim))\n",
        "                    outputs = model(test)\n",
        "                    loss += error(outputs, labels.reshape(-1, 1)).data\n",
        "                    predictions = torch.round(torch.sigmoid(outputs)) #torch.max(outputs, 1)[1].to(device)\n",
        "                    correct += (predictions.reshape(-1) == labels).sum().item()\n",
        "                    total += len(labels)\n",
        "                accuracy = correct/total\n",
        "                iteration_list_train.append(count)\n",
        "                loss_train_epoch.append(loss)\n",
        "                accuracy_list_train.append(accuracy)\n",
        "                print(\" Train Loss: {:.3f}, Train Accuracy: {:.3f}\".format(loss.data, accuracy))"
      ],
      "execution_count": null,
      "outputs": [
        {
          "output_type": "stream",
          "text": [
            "Iteration: 4500, Val Loss: 339.235, Val Accuracy: 0.740 Train Loss: 1328.721, Train Accuracy: 0.748\n",
            "Iteration: 4600, Val Loss: 338.296, Val Accuracy: 0.738 Train Loss: 1323.685, Train Accuracy: 0.746\n",
            "Iteration: 4700, Val Loss: 337.829, Val Accuracy: 0.740 Train Loss: 1320.652, Train Accuracy: 0.749\n",
            "Iteration: 4800, Val Loss: 337.187, Val Accuracy: 0.742 Train Loss: 1318.138, Train Accuracy: 0.752\n",
            "Iteration: 4900, Val Loss: 336.503, Val Accuracy: 0.742 Train Loss: 1314.274, Train Accuracy: 0.752\n",
            "Iteration: 5000, Val Loss: 336.444, Val Accuracy: 0.742 Train Loss: 1313.123, Train Accuracy: 0.750\n",
            "Iteration: 5100, Val Loss: 336.820, Val Accuracy: 0.743 Train Loss: 1315.024, Train Accuracy: 0.753\n",
            "Iteration: 5200, Val Loss: 335.469, Val Accuracy: 0.743 Train Loss: 1308.871, Train Accuracy: 0.752\n",
            "Iteration: 5300, Val Loss: 337.103, Val Accuracy: 0.744 Train Loss: 1315.297, Train Accuracy: 0.755\n",
            "Iteration: 5400, Val Loss: 334.724, Val Accuracy: 0.743 Train Loss: 1303.589, Train Accuracy: 0.753\n",
            "Iteration: 5500, Val Loss: 334.418, Val Accuracy: 0.745 Train Loss: 1302.337, Train Accuracy: 0.756\n",
            "Iteration: 5600, Val Loss: 334.161, Val Accuracy: 0.744 Train Loss: 1300.188, Train Accuracy: 0.756\n",
            "Iteration: 5700, Val Loss: 333.965, Val Accuracy: 0.746 Train Loss: 1298.728, Train Accuracy: 0.757\n",
            "Iteration: 5800, Val Loss: 334.199, Val Accuracy: 0.743 Train Loss: 1297.527, Train Accuracy: 0.753\n",
            "Iteration: 5900, Val Loss: 336.137, Val Accuracy: 0.745 Train Loss: 1305.551, Train Accuracy: 0.757\n",
            "Iteration: 6000, Val Loss: 333.192, Val Accuracy: 0.745 Train Loss: 1293.732, Train Accuracy: 0.756\n",
            "Iteration: 6100, Val Loss: 333.130, Val Accuracy: 0.743 Train Loss: 1292.291, Train Accuracy: 0.755\n",
            "Iteration: 6200, Val Loss: 332.928, Val Accuracy: 0.743 Train Loss: 1290.588, Train Accuracy: 0.755\n",
            "Iteration: 6300, Val Loss: 332.061, Val Accuracy: 0.746 Train Loss: 1287.180, Train Accuracy: 0.758\n",
            "Iteration: 6400, Val Loss: 332.513, Val Accuracy: 0.744 Train Loss: 1288.210, Train Accuracy: 0.756\n",
            "Iteration: 6500, Val Loss: 333.621, Val Accuracy: 0.747 Train Loss: 1292.817, Train Accuracy: 0.760\n",
            "Iteration: 6600, Val Loss: 333.536, Val Accuracy: 0.747 Train Loss: 1291.607, Train Accuracy: 0.761\n",
            "Iteration: 6700, Val Loss: 331.541, Val Accuracy: 0.745 Train Loss: 1283.244, Train Accuracy: 0.758\n",
            "Iteration: 6800, Val Loss: 332.910, Val Accuracy: 0.742 Train Loss: 1289.371, Train Accuracy: 0.754\n",
            "Iteration: 6900, Val Loss: 330.820, Val Accuracy: 0.746 Train Loss: 1278.850, Train Accuracy: 0.759\n",
            "Iteration: 7000, Val Loss: 330.885, Val Accuracy: 0.747 Train Loss: 1279.427, Train Accuracy: 0.758\n",
            "Iteration: 7100, Val Loss: 330.027, Val Accuracy: 0.748 Train Loss: 1275.291, Train Accuracy: 0.761\n",
            "Iteration: 7200, Val Loss: 330.233, Val Accuracy: 0.749 Train Loss: 1275.610, Train Accuracy: 0.762\n",
            "Iteration: 7300, Val Loss: 331.034, Val Accuracy: 0.750 Train Loss: 1279.167, Train Accuracy: 0.765\n",
            "Iteration: 7400, Val Loss: 330.831, Val Accuracy: 0.745 Train Loss: 1277.331, Train Accuracy: 0.757\n",
            "Iteration: 7500, Val Loss: 328.958, Val Accuracy: 0.749 Train Loss: 1269.453, Train Accuracy: 0.763\n",
            "Iteration: 7600, Val Loss: 329.650, Val Accuracy: 0.750 Train Loss: 1271.955, Train Accuracy: 0.764\n",
            "Iteration: 7700, Val Loss: 328.871, Val Accuracy: 0.750 Train Loss: 1268.180, Train Accuracy: 0.765\n",
            "Iteration: 7800, Val Loss: 328.514, Val Accuracy: 0.751 Train Loss: 1266.427, Train Accuracy: 0.764\n",
            "Iteration: 7900, Val Loss: 329.637, Val Accuracy: 0.752 Train Loss: 1271.288, Train Accuracy: 0.767\n",
            "Iteration: 8000, Val Loss: 328.271, Val Accuracy: 0.749 Train Loss: 1263.672, Train Accuracy: 0.762\n",
            "Iteration: 8100, Val Loss: 329.876, Val Accuracy: 0.753 Train Loss: 1271.037, Train Accuracy: 0.768\n",
            "Iteration: 8200, Val Loss: 327.932, Val Accuracy: 0.750 Train Loss: 1261.790, Train Accuracy: 0.765\n",
            "Iteration: 8300, Val Loss: 331.720, Val Accuracy: 0.742 Train Loss: 1275.190, Train Accuracy: 0.754\n",
            "Iteration: 8400, Val Loss: 327.686, Val Accuracy: 0.749 Train Loss: 1257.740, Train Accuracy: 0.764\n",
            "Iteration: 8500, Val Loss: 327.254, Val Accuracy: 0.750 Train Loss: 1256.383, Train Accuracy: 0.766\n",
            "Iteration: 8600, Val Loss: 327.895, Val Accuracy: 0.749 Train Loss: 1259.600, Train Accuracy: 0.763\n",
            "Iteration: 8700, Val Loss: 327.017, Val Accuracy: 0.751 Train Loss: 1254.467, Train Accuracy: 0.766\n",
            "Iteration: 8800, Val Loss: 327.998, Val Accuracy: 0.753 Train Loss: 1258.547, Train Accuracy: 0.770\n",
            "Iteration: 8900, Val Loss: 327.252, Val Accuracy: 0.752 Train Loss: 1255.528, Train Accuracy: 0.769\n",
            "Iteration: 9000, Val Loss: 327.835, Val Accuracy: 0.747 Train Loss: 1256.412, Train Accuracy: 0.761\n",
            "Iteration: 9100, Val Loss: 326.742, Val Accuracy: 0.750 Train Loss: 1251.734, Train Accuracy: 0.765\n",
            "Iteration: 9200, Val Loss: 326.015, Val Accuracy: 0.753 Train Loss: 1249.180, Train Accuracy: 0.767\n",
            "Iteration: 9300, Val Loss: 326.096, Val Accuracy: 0.753 Train Loss: 1249.438, Train Accuracy: 0.771\n",
            "Iteration: 9400, Val Loss: 326.336, Val Accuracy: 0.756 Train Loss: 1251.421, Train Accuracy: 0.772\n",
            "Iteration: 9500, Val Loss: 327.035, Val Accuracy: 0.750 Train Loss: 1251.338, Train Accuracy: 0.764\n",
            "Iteration: 9600, Val Loss: 325.256, Val Accuracy: 0.754 Train Loss: 1244.354, Train Accuracy: 0.770\n",
            "Iteration: 9700, Val Loss: 326.807, Val Accuracy: 0.749 Train Loss: 1249.677, Train Accuracy: 0.763\n",
            "Iteration: 9800, Val Loss: 325.112, Val Accuracy: 0.754 Train Loss: 1242.865, Train Accuracy: 0.770\n",
            "Iteration: 9900, Val Loss: 324.655, Val Accuracy: 0.755 Train Loss: 1241.888, Train Accuracy: 0.772\n",
            "Iteration: 10000, Val Loss: 327.431, Val Accuracy: 0.754 Train Loss: 1253.220, Train Accuracy: 0.774\n",
            "Iteration: 10100, Val Loss: 324.029, Val Accuracy: 0.754 Train Loss: 1238.326, Train Accuracy: 0.771\n",
            "Iteration: 10200, Val Loss: 324.955, Val Accuracy: 0.753 Train Loss: 1241.462, Train Accuracy: 0.772\n",
            "Iteration: 10300, Val Loss: 325.322, Val Accuracy: 0.751 Train Loss: 1242.111, Train Accuracy: 0.766\n",
            "Iteration: 10400, Val Loss: 323.912, Val Accuracy: 0.756 Train Loss: 1236.021, Train Accuracy: 0.772\n",
            "Iteration: 10500, Val Loss: 324.389, Val Accuracy: 0.757 Train Loss: 1238.871, Train Accuracy: 0.775\n",
            "Iteration: 10600, Val Loss: 325.979, Val Accuracy: 0.756 Train Loss: 1244.023, Train Accuracy: 0.776\n",
            "Iteration: 10700, Val Loss: 323.821, Val Accuracy: 0.756 Train Loss: 1235.374, Train Accuracy: 0.775\n",
            "Iteration: 10800, Val Loss: 323.926, Val Accuracy: 0.753 Train Loss: 1234.289, Train Accuracy: 0.770\n",
            "Iteration: 10900, Val Loss: 324.915, Val Accuracy: 0.757 Train Loss: 1237.490, Train Accuracy: 0.775\n",
            "Iteration: 11000, Val Loss: 324.223, Val Accuracy: 0.757 Train Loss: 1233.462, Train Accuracy: 0.776\n",
            "Iteration: 11100, Val Loss: 325.978, Val Accuracy: 0.755 Train Loss: 1241.451, Train Accuracy: 0.776\n",
            "Iteration: 11200, Val Loss: 322.493, Val Accuracy: 0.757 Train Loss: 1227.166, Train Accuracy: 0.774\n",
            "Iteration: 11300, Val Loss: 327.562, Val Accuracy: 0.754 Train Loss: 1246.833, Train Accuracy: 0.776\n",
            "Iteration: 11400, Val Loss: 322.802, Val Accuracy: 0.756 Train Loss: 1226.220, Train Accuracy: 0.775\n",
            "Iteration: 11500, Val Loss: 323.460, Val Accuracy: 0.752 Train Loss: 1228.797, Train Accuracy: 0.770\n",
            "Iteration: 11600, Val Loss: 323.218, Val Accuracy: 0.758 Train Loss: 1228.969, Train Accuracy: 0.778\n",
            "Iteration: 11700, Val Loss: 322.619, Val Accuracy: 0.756 Train Loss: 1225.036, Train Accuracy: 0.775\n",
            "Iteration: 11800, Val Loss: 322.309, Val Accuracy: 0.756 Train Loss: 1223.860, Train Accuracy: 0.773\n",
            "Iteration: 11900, Val Loss: 321.713, Val Accuracy: 0.757 Train Loss: 1221.988, Train Accuracy: 0.777\n",
            "Iteration: 12000, Val Loss: 322.057, Val Accuracy: 0.757 Train Loss: 1223.472, Train Accuracy: 0.775\n",
            "Iteration: 12100, Val Loss: 322.192, Val Accuracy: 0.756 Train Loss: 1221.509, Train Accuracy: 0.773\n",
            "Iteration: 12200, Val Loss: 321.827, Val Accuracy: 0.757 Train Loss: 1220.547, Train Accuracy: 0.775\n",
            "Iteration: 12300, Val Loss: 321.548, Val Accuracy: 0.757 Train Loss: 1218.447, Train Accuracy: 0.778\n",
            "Iteration: 12400, Val Loss: 321.172, Val Accuracy: 0.760 Train Loss: 1217.393, Train Accuracy: 0.778\n",
            "Iteration: 12500, Val Loss: 320.894, Val Accuracy: 0.758 Train Loss: 1216.855, Train Accuracy: 0.778\n",
            "Iteration: 12600, Val Loss: 323.426, Val Accuracy: 0.758 Train Loss: 1227.122, Train Accuracy: 0.782\n",
            "Iteration: 12700, Val Loss: 321.516, Val Accuracy: 0.758 Train Loss: 1218.142, Train Accuracy: 0.780\n",
            "Iteration: 12800, Val Loss: 320.887, Val Accuracy: 0.756 Train Loss: 1215.638, Train Accuracy: 0.776\n",
            "Iteration: 12900, Val Loss: 320.850, Val Accuracy: 0.758 Train Loss: 1214.672, Train Accuracy: 0.778\n",
            "Iteration: 13000, Val Loss: 320.812, Val Accuracy: 0.758 Train Loss: 1213.496, Train Accuracy: 0.776\n",
            "Iteration: 13100, Val Loss: 320.385, Val Accuracy: 0.759 Train Loss: 1211.870, Train Accuracy: 0.778\n",
            "Iteration: 13200, Val Loss: 320.353, Val Accuracy: 0.760 Train Loss: 1211.116, Train Accuracy: 0.780\n",
            "Iteration: 13300, Val Loss: 320.287, Val Accuracy: 0.757 Train Loss: 1211.329, Train Accuracy: 0.776\n",
            "Iteration: 13400, Val Loss: 320.533, Val Accuracy: 0.757 Train Loss: 1211.039, Train Accuracy: 0.777\n",
            "Iteration: 13500, Val Loss: 322.506, Val Accuracy: 0.753 Train Loss: 1217.276, Train Accuracy: 0.771\n",
            "Iteration: 13600, Val Loss: 320.408, Val Accuracy: 0.759 Train Loss: 1208.328, Train Accuracy: 0.779\n",
            "Iteration: 13700, Val Loss: 322.301, Val Accuracy: 0.758 Train Loss: 1217.516, Train Accuracy: 0.781\n",
            "Iteration: 13800, Val Loss: 320.150, Val Accuracy: 0.758 Train Loss: 1207.917, Train Accuracy: 0.776\n",
            "Iteration: 13900, Val Loss: 319.914, Val Accuracy: 0.758 Train Loss: 1206.514, Train Accuracy: 0.779\n",
            "Iteration: 14000, Val Loss: 319.903, Val Accuracy: 0.758 Train Loss: 1205.909, Train Accuracy: 0.778\n",
            "Iteration: 14100, Val Loss: 319.942, Val Accuracy: 0.759 Train Loss: 1206.629, Train Accuracy: 0.780\n",
            "Iteration: 14200, Val Loss: 320.960, Val Accuracy: 0.754 Train Loss: 1209.767, Train Accuracy: 0.773\n",
            "Iteration: 14300, Val Loss: 319.497, Val Accuracy: 0.759 Train Loss: 1203.535, Train Accuracy: 0.781\n",
            "Iteration: 14400, Val Loss: 320.401, Val Accuracy: 0.756 Train Loss: 1206.488, Train Accuracy: 0.775\n",
            "Iteration: 14500, Val Loss: 319.194, Val Accuracy: 0.761 Train Loss: 1203.198, Train Accuracy: 0.783\n",
            "Iteration: 14600, Val Loss: 320.641, Val Accuracy: 0.755 Train Loss: 1207.881, Train Accuracy: 0.775\n",
            "Iteration: 14700, Val Loss: 320.209, Val Accuracy: 0.760 Train Loss: 1205.185, Train Accuracy: 0.783\n",
            "Iteration: 14800, Val Loss: 318.678, Val Accuracy: 0.760 Train Loss: 1199.880, Train Accuracy: 0.782\n",
            "Iteration: 14900, Val Loss: 318.613, Val Accuracy: 0.760 Train Loss: 1198.540, Train Accuracy: 0.782\n",
            "Iteration: 15000, Val Loss: 318.672, Val Accuracy: 0.762 Train Loss: 1198.837, Train Accuracy: 0.783\n",
            "Iteration: 15100, Val Loss: 320.871, Val Accuracy: 0.756 Train Loss: 1207.820, Train Accuracy: 0.774\n",
            "Iteration: 15200, Val Loss: 321.077, Val Accuracy: 0.760 Train Loss: 1209.637, Train Accuracy: 0.786\n",
            "Iteration: 15300, Val Loss: 318.135, Val Accuracy: 0.759 Train Loss: 1195.934, Train Accuracy: 0.782\n",
            "Iteration: 15400, Val Loss: 319.055, Val Accuracy: 0.758 Train Loss: 1199.671, Train Accuracy: 0.777\n",
            "Iteration: 15500, Val Loss: 323.049, Val Accuracy: 0.760 Train Loss: 1216.362, Train Accuracy: 0.785\n",
            "Iteration: 15600, Val Loss: 318.256, Val Accuracy: 0.760 Train Loss: 1196.083, Train Accuracy: 0.781\n",
            "Iteration: 15700, Val Loss: 318.184, Val Accuracy: 0.761 Train Loss: 1195.264, Train Accuracy: 0.784\n",
            "Iteration: 15800, Val Loss: 321.964, Val Accuracy: 0.762 Train Loss: 1210.606, Train Accuracy: 0.787\n",
            "Iteration: 15900, Val Loss: 318.804, Val Accuracy: 0.763 Train Loss: 1198.208, Train Accuracy: 0.786\n",
            "Iteration: 16000, Val Loss: 318.620, Val Accuracy: 0.758 Train Loss: 1194.423, Train Accuracy: 0.779\n",
            "Iteration: 16100, Val Loss: 318.634, Val Accuracy: 0.762 Train Loss: 1194.378, Train Accuracy: 0.785\n",
            "Iteration: 16200, Val Loss: 320.679, Val Accuracy: 0.756 Train Loss: 1200.451, Train Accuracy: 0.776\n",
            "Iteration: 16300, Val Loss: 317.826, Val Accuracy: 0.760"
          ],
          "name": "stdout"
        },
        {
          "output_type": "error",
          "ename": "KeyboardInterrupt",
          "evalue": "ignored",
          "traceback": [
            "\u001b[0;31m---------------------------------------------------------------------------\u001b[0m",
            "\u001b[0;31mKeyboardInterrupt\u001b[0m                         Traceback (most recent call last)",
            "\u001b[0;32m<ipython-input-38-d9e9da7aec03>\u001b[0m in \u001b[0;36m<module>\u001b[0;34m()\u001b[0m\n\u001b[1;32m     62\u001b[0m                     \u001b[0mimages\u001b[0m\u001b[0;34m,\u001b[0m \u001b[0mlabels\u001b[0m \u001b[0;34m=\u001b[0m \u001b[0mimages\u001b[0m\u001b[0;34m.\u001b[0m\u001b[0mto\u001b[0m\u001b[0;34m(\u001b[0m\u001b[0mdevice\u001b[0m\u001b[0;34m)\u001b[0m\u001b[0;34m,\u001b[0m \u001b[0mlabels\u001b[0m\u001b[0;34m.\u001b[0m\u001b[0mto\u001b[0m\u001b[0;34m(\u001b[0m\u001b[0mdevice\u001b[0m\u001b[0;34m)\u001b[0m\u001b[0;34m\u001b[0m\u001b[0;34m\u001b[0m\u001b[0m\n\u001b[1;32m     63\u001b[0m                     \u001b[0mtest\u001b[0m \u001b[0;34m=\u001b[0m \u001b[0mimages\u001b[0m \u001b[0;31m#.view(batch_size, inp_dim))\u001b[0m\u001b[0;34m\u001b[0m\u001b[0;34m\u001b[0m\u001b[0m\n\u001b[0;32m---> 64\u001b[0;31m                     \u001b[0moutputs\u001b[0m \u001b[0;34m=\u001b[0m \u001b[0mmodel\u001b[0m\u001b[0;34m(\u001b[0m\u001b[0mtest\u001b[0m\u001b[0;34m)\u001b[0m\u001b[0;34m\u001b[0m\u001b[0;34m\u001b[0m\u001b[0m\n\u001b[0m\u001b[1;32m     65\u001b[0m                     \u001b[0mloss\u001b[0m \u001b[0;34m+=\u001b[0m \u001b[0merror\u001b[0m\u001b[0;34m(\u001b[0m\u001b[0moutputs\u001b[0m\u001b[0;34m,\u001b[0m \u001b[0mlabels\u001b[0m\u001b[0;34m.\u001b[0m\u001b[0mreshape\u001b[0m\u001b[0;34m(\u001b[0m\u001b[0;34m-\u001b[0m\u001b[0;36m1\u001b[0m\u001b[0;34m,\u001b[0m \u001b[0;36m1\u001b[0m\u001b[0;34m)\u001b[0m\u001b[0;34m)\u001b[0m\u001b[0;34m.\u001b[0m\u001b[0mdata\u001b[0m\u001b[0;34m\u001b[0m\u001b[0;34m\u001b[0m\u001b[0m\n\u001b[1;32m     66\u001b[0m                     \u001b[0mpredictions\u001b[0m \u001b[0;34m=\u001b[0m \u001b[0mtorch\u001b[0m\u001b[0;34m.\u001b[0m\u001b[0mround\u001b[0m\u001b[0;34m(\u001b[0m\u001b[0mtorch\u001b[0m\u001b[0;34m.\u001b[0m\u001b[0msigmoid\u001b[0m\u001b[0;34m(\u001b[0m\u001b[0moutputs\u001b[0m\u001b[0;34m)\u001b[0m\u001b[0;34m)\u001b[0m \u001b[0;31m#torch.max(outputs, 1)[1].to(device)\u001b[0m\u001b[0;34m\u001b[0m\u001b[0;34m\u001b[0m\u001b[0m\n",
            "\u001b[0;32m/usr/local/lib/python3.7/dist-packages/torch/nn/modules/module.py\u001b[0m in \u001b[0;36m_call_impl\u001b[0;34m(self, *input, **kwargs)\u001b[0m\n\u001b[1;32m    887\u001b[0m             \u001b[0mresult\u001b[0m \u001b[0;34m=\u001b[0m \u001b[0mself\u001b[0m\u001b[0;34m.\u001b[0m\u001b[0m_slow_forward\u001b[0m\u001b[0;34m(\u001b[0m\u001b[0;34m*\u001b[0m\u001b[0minput\u001b[0m\u001b[0;34m,\u001b[0m \u001b[0;34m**\u001b[0m\u001b[0mkwargs\u001b[0m\u001b[0;34m)\u001b[0m\u001b[0;34m\u001b[0m\u001b[0;34m\u001b[0m\u001b[0m\n\u001b[1;32m    888\u001b[0m         \u001b[0;32melse\u001b[0m\u001b[0;34m:\u001b[0m\u001b[0;34m\u001b[0m\u001b[0;34m\u001b[0m\u001b[0m\n\u001b[0;32m--> 889\u001b[0;31m             \u001b[0mresult\u001b[0m \u001b[0;34m=\u001b[0m \u001b[0mself\u001b[0m\u001b[0;34m.\u001b[0m\u001b[0mforward\u001b[0m\u001b[0;34m(\u001b[0m\u001b[0;34m*\u001b[0m\u001b[0minput\u001b[0m\u001b[0;34m,\u001b[0m \u001b[0;34m**\u001b[0m\u001b[0mkwargs\u001b[0m\u001b[0;34m)\u001b[0m\u001b[0;34m\u001b[0m\u001b[0;34m\u001b[0m\u001b[0m\n\u001b[0m\u001b[1;32m    890\u001b[0m         for hook in itertools.chain(\n\u001b[1;32m    891\u001b[0m                 \u001b[0m_global_forward_hooks\u001b[0m\u001b[0;34m.\u001b[0m\u001b[0mvalues\u001b[0m\u001b[0;34m(\u001b[0m\u001b[0;34m)\u001b[0m\u001b[0;34m,\u001b[0m\u001b[0;34m\u001b[0m\u001b[0;34m\u001b[0m\u001b[0m\n",
            "\u001b[0;32m<ipython-input-36-4866067a2d2a>\u001b[0m in \u001b[0;36mforward\u001b[0;34m(self, input_ids)\u001b[0m\n\u001b[1;32m     19\u001b[0m     \u001b[0;32mdef\u001b[0m \u001b[0mforward\u001b[0m\u001b[0;34m(\u001b[0m\u001b[0mself\u001b[0m\u001b[0;34m,\u001b[0m \u001b[0minput_ids\u001b[0m\u001b[0;34m)\u001b[0m\u001b[0;34m:\u001b[0m\u001b[0;34m\u001b[0m\u001b[0;34m\u001b[0m\u001b[0m\n\u001b[1;32m     20\u001b[0m         \u001b[0;31m# Get embeddings from `input_ids`. Output shape: (b, max_len, embed_dim)\u001b[0m\u001b[0;34m\u001b[0m\u001b[0;34m\u001b[0m\u001b[0;34m\u001b[0m\u001b[0m\n\u001b[0;32m---> 21\u001b[0;31m         \u001b[0mx_embed\u001b[0m \u001b[0;34m=\u001b[0m \u001b[0mself\u001b[0m\u001b[0;34m.\u001b[0m\u001b[0membedding\u001b[0m\u001b[0;34m(\u001b[0m\u001b[0minput_ids\u001b[0m\u001b[0;34m)\u001b[0m\u001b[0;34m.\u001b[0m\u001b[0mview\u001b[0m\u001b[0;34m(\u001b[0m\u001b[0;34m-\u001b[0m\u001b[0;36m1\u001b[0m\u001b[0;34m,\u001b[0m \u001b[0;36m14\u001b[0m\u001b[0;34m,\u001b[0m \u001b[0;36m600\u001b[0m\u001b[0;34m)\u001b[0m\u001b[0;34m.\u001b[0m\u001b[0mfloat\u001b[0m\u001b[0;34m(\u001b[0m\u001b[0;34m)\u001b[0m \u001b[0;31m# reshape(-1, 15, 600).float()\u001b[0m\u001b[0;34m\u001b[0m\u001b[0;34m\u001b[0m\u001b[0m\n\u001b[0m\u001b[1;32m     22\u001b[0m \u001b[0;34m\u001b[0m\u001b[0m\n\u001b[1;32m     23\u001b[0m         \u001b[0;31m# Permute `x_embed` to match input shape requirement of `nn.Conv1d`.\u001b[0m\u001b[0;34m\u001b[0m\u001b[0;34m\u001b[0m\u001b[0;34m\u001b[0m\u001b[0m\n",
            "\u001b[0;31mKeyboardInterrupt\u001b[0m: "
          ]
        }
      ]
    },
    {
      "cell_type": "code",
      "metadata": {
        "colab": {
          "base_uri": "https://localhost:8080/",
          "height": 1000
        },
        "id": "H0qdUSfzu9LY",
        "outputId": "f0bbf43b-10fe-4110-a8c1-a83e0048206d"
      },
      "source": [
        "learning_rate = 0.01\n",
        "# https://pytorch.org/docs/stable/optim.html\n",
        "optimizer = torch.optim.Adadelta(model.parameters(), lr=learning_rate, rho=0.95, weight_decay=0.005)\n",
        "#optimizer = torch.optim.ASGD(model.parameters())\n",
        "#optimizer = torch.optim.Adam(model.parameters(), lr=learning_rate)\n",
        "#optimizer = torch.optim.SGD(model.parameters(),lr=learning_rate, weight_decay=0.005, momentum=0.5)\n",
        "#train_dataset = MyDataset(X_train_t, Y_train_t)\n",
        "#train_dataloader = DataLoader(train_dataset, batch_size=batch_size)\n",
        "\n",
        "#test_dataset = MyDataset(X_test_t, Y_test_t)\n",
        "#test_dataloader = DataLoader(test_dataset, batch_size=batch_size)\n",
        "\n",
        "#val_dataset = MyDataset(X_val_t, Y_val_t)\n",
        "#val_dataloader = DataLoader(val_dataset, batch_size=batch_size)\n",
        "\n",
        "for curr_epoch in range(num_epochs):\n",
        "    for images, labels in train_dataloader:\n",
        "        images, labels = images.to(device), labels.to(device)\n",
        "        train = images #Variable(images)\n",
        "        labels = labels #Variable(labels.view(len(labels),1))\n",
        "        outputs = model(train)\n",
        "        loss = error(outputs, labels.reshape(-1, 1))\n",
        "        loss_list_train.append(loss.data)\n",
        "        #print(loss.data)\n",
        "        optimizer.zero_grad()\n",
        "        \n",
        "        loss.backward()\n",
        "        \n",
        "        optimizer.step()\n",
        "    \n",
        "        count += 1\n",
        "        model.eval()\n",
        "        with torch.no_grad():\n",
        "            if count%100 == 0:\n",
        "                # Y_pred = model(X_val_t.to(device))\n",
        "                # loss_val = error(Y_pred, torch.tensor(Y_val_t, dtype=torch.float32).to(device).reshape(-1, 1))\n",
        "                # Y_pred_lab = torch.round(torch.sigmoid(Y_pred))\n",
        "                # accuracy = 1#(Y_pred_lab.cpu() == Y_val_t).sum()/len(Y_val_t)\n",
        "                # Testing the model\n",
        "                total = 0\n",
        "                correct = 0\n",
        "                loss_val = 0\n",
        "                for images, labels in val_dataloader:\n",
        "                    images, labels = images.to(device), labels.to(device)\n",
        "                    test = images #.view(batch_size, inp_dim))\n",
        "                    outputs = model(test)\n",
        "                    loss_val += error(outputs, labels.reshape(-1, 1)).data\n",
        "                    predictions = torch.round(torch.sigmoid(outputs)) #torch.max(outputs, 1)[1].to(device)\n",
        "                    correct += (predictions.reshape(-1) == labels).sum().item()\n",
        "                    total += len(labels)\n",
        "                #print(correct, total)\n",
        "                accuracy = correct/total\n",
        "                loss_list_val.append(loss_val.data)\n",
        "                iteration_list_val.append(count)\n",
        "                accuracy_list_val.append(accuracy)\n",
        "                print(\"Iteration: {}, Val Loss: {:.3f}, Val Accuracy: {:.3f}\".format(count, loss_val.data, accuracy), end=\"\")\n",
        "        \n",
        "                total = 0\n",
        "                correct = 0\n",
        "                loss = 0\n",
        "                for images, labels in DataLoader(train_dataset, batch_size=batch_size):\n",
        "                    images, labels = images.to(device), labels.to(device)\n",
        "                    test = images #.view(batch_size, inp_dim))\n",
        "                    outputs = model(test)\n",
        "                    loss += error(outputs, labels.reshape(-1, 1)).data\n",
        "                    predictions = torch.round(torch.sigmoid(outputs)) #torch.max(outputs, 1)[1].to(device)\n",
        "                    correct += (predictions.reshape(-1) == labels).sum().item()\n",
        "                    total += len(labels)\n",
        "                accuracy = correct/total\n",
        "                iteration_list_train.append(count)\n",
        "                loss_train_epoch.append(loss)\n",
        "                accuracy_list_train.append(accuracy)\n",
        "                print(\" Train Loss: {:.3f}, Train Accuracy: {:.3f}\".format(loss.data, accuracy))"
      ],
      "execution_count": null,
      "outputs": [
        {
          "output_type": "stream",
          "text": [
            "Iteration: 16400, Val Loss: 317.228, Val Accuracy: 0.762 Train Loss: 1187.765, Train Accuracy: 0.785\n",
            "Iteration: 16500, Val Loss: 317.187, Val Accuracy: 0.761 Train Loss: 1186.805, Train Accuracy: 0.782\n",
            "Iteration: 16600, Val Loss: 316.737, Val Accuracy: 0.763 Train Loss: 1184.663, Train Accuracy: 0.785\n",
            "Iteration: 16700, Val Loss: 316.591, Val Accuracy: 0.761 Train Loss: 1184.125, Train Accuracy: 0.785\n",
            "Iteration: 16800, Val Loss: 316.283, Val Accuracy: 0.763 Train Loss: 1182.621, Train Accuracy: 0.787\n",
            "Iteration: 16900, Val Loss: 316.361, Val Accuracy: 0.762 Train Loss: 1182.467, Train Accuracy: 0.785\n",
            "Iteration: 17000, Val Loss: 316.491, Val Accuracy: 0.762 Train Loss: 1183.298, Train Accuracy: 0.788\n",
            "Iteration: 17100, Val Loss: 315.933, Val Accuracy: 0.763 Train Loss: 1180.707, Train Accuracy: 0.786\n",
            "Iteration: 17200, Val Loss: 315.826, Val Accuracy: 0.763 Train Loss: 1180.125, Train Accuracy: 0.787\n",
            "Iteration: 17300, Val Loss: 316.092, Val Accuracy: 0.762 Train Loss: 1180.400, Train Accuracy: 0.784\n",
            "Iteration: 17400, Val Loss: 315.881, Val Accuracy: 0.763 Train Loss: 1179.716, Train Accuracy: 0.788\n",
            "Iteration: 17500, Val Loss: 315.861, Val Accuracy: 0.763 Train Loss: 1179.262, Train Accuracy: 0.786\n",
            "Iteration: 17600, Val Loss: 316.067, Val Accuracy: 0.764 Train Loss: 1180.123, Train Accuracy: 0.789\n",
            "Iteration: 17700, Val Loss: 315.972, Val Accuracy: 0.764 Train Loss: 1178.891, Train Accuracy: 0.787\n",
            "Iteration: 17800, Val Loss: 316.233, Val Accuracy: 0.764 Train Loss: 1179.837, Train Accuracy: 0.788\n",
            "Iteration: 17900, Val Loss: 316.083, Val Accuracy: 0.762 Train Loss: 1179.396, Train Accuracy: 0.785\n",
            "Iteration: 18000, Val Loss: 315.744, Val Accuracy: 0.764 Train Loss: 1177.919, Train Accuracy: 0.788\n",
            "Iteration: 18100, Val Loss: 315.647, Val Accuracy: 0.763 Train Loss: 1177.211, Train Accuracy: 0.787\n",
            "Iteration: 18200, Val Loss: 315.554, Val Accuracy: 0.764 Train Loss: 1176.602, Train Accuracy: 0.787\n",
            "Iteration: 18300, Val Loss: 315.712, Val Accuracy: 0.763 Train Loss: 1177.072, Train Accuracy: 0.787\n",
            "Iteration: 18400, Val Loss: 316.392, Val Accuracy: 0.765 Train Loss: 1180.161, Train Accuracy: 0.791\n",
            "Iteration: 18500, Val Loss: 315.650, Val Accuracy: 0.764 Train Loss: 1176.598, Train Accuracy: 0.790\n",
            "Iteration: 18600, Val Loss: 315.233, Val Accuracy: 0.764 Train Loss: 1174.614, Train Accuracy: 0.788\n",
            "Iteration: 18700, Val Loss: 315.787, Val Accuracy: 0.762 Train Loss: 1176.955, Train Accuracy: 0.786\n",
            "Iteration: 18800, Val Loss: 315.148, Val Accuracy: 0.765 Train Loss: 1173.908, Train Accuracy: 0.790\n",
            "Iteration: 18900, Val Loss: 315.264, Val Accuracy: 0.763 Train Loss: 1174.045, Train Accuracy: 0.787\n",
            "Iteration: 19000, Val Loss: 315.046, Val Accuracy: 0.764 Train Loss: 1172.939, Train Accuracy: 0.788\n",
            "Iteration: 19100, Val Loss: 315.048, Val Accuracy: 0.764 Train Loss: 1172.828, Train Accuracy: 0.790\n",
            "Iteration: 19200, Val Loss: 315.042, Val Accuracy: 0.765 Train Loss: 1172.872, Train Accuracy: 0.791\n",
            "Iteration: 19300, Val Loss: 315.157, Val Accuracy: 0.763 Train Loss: 1173.135, Train Accuracy: 0.787\n",
            "Iteration: 19400, Val Loss: 314.824, Val Accuracy: 0.764 Train Loss: 1171.749, Train Accuracy: 0.789\n",
            "Iteration: 19500, Val Loss: 314.899, Val Accuracy: 0.764 Train Loss: 1171.942, Train Accuracy: 0.789\n",
            "Iteration: 19600, Val Loss: 314.769, Val Accuracy: 0.763 Train Loss: 1171.305, Train Accuracy: 0.789\n",
            "Iteration: 19700, Val Loss: 314.715, Val Accuracy: 0.765 Train Loss: 1171.171, Train Accuracy: 0.790\n",
            "Iteration: 19800, Val Loss: 314.744, Val Accuracy: 0.765 Train Loss: 1171.372, Train Accuracy: 0.791\n",
            "Iteration: 19900, Val Loss: 314.948, Val Accuracy: 0.763 Train Loss: 1171.361, Train Accuracy: 0.787\n",
            "Iteration: 20000, Val Loss: 314.608, Val Accuracy: 0.765 Train Loss: 1170.136, Train Accuracy: 0.790\n",
            "Iteration: 20100, Val Loss: 314.707, Val Accuracy: 0.765 Train Loss: 1170.376, Train Accuracy: 0.789\n",
            "Iteration: 20200, Val Loss: 314.880, Val Accuracy: 0.764 Train Loss: 1170.555, Train Accuracy: 0.787\n",
            "Iteration: 20300, Val Loss: 314.900, Val Accuracy: 0.764 Train Loss: 1170.035, Train Accuracy: 0.788\n",
            "Iteration: 20400, Val Loss: 314.885, Val Accuracy: 0.764 Train Loss: 1170.013, Train Accuracy: 0.790\n",
            "Iteration: 20500, Val Loss: 314.724, Val Accuracy: 0.765 Train Loss: 1169.696, Train Accuracy: 0.789\n",
            "Iteration: 20600, Val Loss: 314.693, Val Accuracy: 0.765 Train Loss: 1169.225, Train Accuracy: 0.790\n",
            "Iteration: 20700, Val Loss: 314.526, Val Accuracy: 0.766 Train Loss: 1168.582, Train Accuracy: 0.791\n",
            "Iteration: 20800, Val Loss: 314.592, Val Accuracy: 0.765 Train Loss: 1168.695, Train Accuracy: 0.791\n",
            "Iteration: 20900, Val Loss: 314.723, Val Accuracy: 0.764 Train Loss: 1168.894, Train Accuracy: 0.789\n",
            "Iteration: 21000, Val Loss: 314.532, Val Accuracy: 0.765 Train Loss: 1168.240, Train Accuracy: 0.791\n",
            "Iteration: 21100, Val Loss: 314.580, Val Accuracy: 0.765 Train Loss: 1168.395, Train Accuracy: 0.792\n",
            "Iteration: 21200, Val Loss: 314.484, Val Accuracy: 0.764 Train Loss: 1167.602, Train Accuracy: 0.789\n",
            "Iteration: 21300, Val Loss: 314.375, Val Accuracy: 0.766 Train Loss: 1167.786, Train Accuracy: 0.792\n",
            "Iteration: 21400, Val Loss: 314.417, Val Accuracy: 0.764 Train Loss: 1167.084, Train Accuracy: 0.790\n",
            "Iteration: 21500, Val Loss: 314.306, Val Accuracy: 0.765 Train Loss: 1166.533, Train Accuracy: 0.792\n",
            "Iteration: 21600, Val Loss: 314.829, Val Accuracy: 0.762 Train Loss: 1168.152, Train Accuracy: 0.787\n",
            "Iteration: 21700, Val Loss: 314.326, Val Accuracy: 0.765 Train Loss: 1166.297, Train Accuracy: 0.792\n",
            "Iteration: 21800, Val Loss: 314.331, Val Accuracy: 0.766 Train Loss: 1166.643, Train Accuracy: 0.793\n",
            "Iteration: 21900, Val Loss: 315.081, Val Accuracy: 0.766 Train Loss: 1169.949, Train Accuracy: 0.795\n",
            "Iteration: 22000, Val Loss: 314.076, Val Accuracy: 0.765 Train Loss: 1165.316, Train Accuracy: 0.790\n",
            "Iteration: 22100, Val Loss: 314.183, Val Accuracy: 0.765 Train Loss: 1165.561, Train Accuracy: 0.791\n",
            "Iteration: 22200, Val Loss: 314.079, Val Accuracy: 0.764 Train Loss: 1164.952, Train Accuracy: 0.790\n",
            "Iteration: 22300, Val Loss: 313.990, Val Accuracy: 0.765 Train Loss: 1164.585, Train Accuracy: 0.791\n",
            "Iteration: 22400, Val Loss: 314.159, Val Accuracy: 0.766 Train Loss: 1165.650, Train Accuracy: 0.794\n",
            "Iteration: 22500, Val Loss: 314.642, Val Accuracy: 0.766 Train Loss: 1167.212, Train Accuracy: 0.794\n",
            "Iteration: 22600, Val Loss: 313.906, Val Accuracy: 0.765 Train Loss: 1163.885, Train Accuracy: 0.791\n",
            "Iteration: 22700, Val Loss: 313.981, Val Accuracy: 0.765 Train Loss: 1164.065, Train Accuracy: 0.791\n",
            "Iteration: 22800, Val Loss: 314.131, Val Accuracy: 0.766 Train Loss: 1164.306, Train Accuracy: 0.793\n",
            "Iteration: 22900, Val Loss: 314.058, Val Accuracy: 0.765 Train Loss: 1163.296, Train Accuracy: 0.791\n",
            "Iteration: 23000, Val Loss: 314.448, Val Accuracy: 0.766 Train Loss: 1165.146, Train Accuracy: 0.794\n",
            "Iteration: 23100, Val Loss: 313.932, Val Accuracy: 0.765 Train Loss: 1163.090, Train Accuracy: 0.791\n",
            "Iteration: 23200, Val Loss: 314.019, Val Accuracy: 0.767 Train Loss: 1163.285, Train Accuracy: 0.793\n",
            "Iteration: 23300, Val Loss: 314.036, Val Accuracy: 0.766 Train Loss: 1163.166, Train Accuracy: 0.794\n",
            "Iteration: 23400, Val Loss: 313.974, Val Accuracy: 0.765 Train Loss: 1162.653, Train Accuracy: 0.790\n",
            "Iteration: 23500, Val Loss: 313.880, Val Accuracy: 0.765 Train Loss: 1162.532, Train Accuracy: 0.792\n",
            "Iteration: 23600, Val Loss: 313.882, Val Accuracy: 0.765 Train Loss: 1162.125, Train Accuracy: 0.791\n",
            "Iteration: 23700, Val Loss: 313.819, Val Accuracy: 0.765 Train Loss: 1161.899, Train Accuracy: 0.791\n",
            "Iteration: 23800, Val Loss: 313.730, Val Accuracy: 0.766 Train Loss: 1161.710, Train Accuracy: 0.793\n",
            "Iteration: 23900, Val Loss: 313.810, Val Accuracy: 0.765 Train Loss: 1162.255, Train Accuracy: 0.792\n",
            "Iteration: 24000, Val Loss: 314.015, Val Accuracy: 0.764 Train Loss: 1162.135, Train Accuracy: 0.790\n",
            "Iteration: 24100, Val Loss: 313.778, Val Accuracy: 0.766 Train Loss: 1161.396, Train Accuracy: 0.794\n",
            "Iteration: 24200, Val Loss: 313.632, Val Accuracy: 0.766 Train Loss: 1160.406, Train Accuracy: 0.793\n",
            "Iteration: 24300, Val Loss: 313.745, Val Accuracy: 0.766 Train Loss: 1161.064, Train Accuracy: 0.794\n",
            "Iteration: 24400, Val Loss: 313.509, Val Accuracy: 0.766 Train Loss: 1160.165, Train Accuracy: 0.793\n",
            "Iteration: 24500, Val Loss: 313.968, Val Accuracy: 0.767 Train Loss: 1162.316, Train Accuracy: 0.796\n",
            "Iteration: 24600, Val Loss: 313.508, Val Accuracy: 0.765 Train Loss: 1159.879, Train Accuracy: 0.792\n",
            "Iteration: 24700, Val Loss: 313.528, Val Accuracy: 0.764 Train Loss: 1159.997, Train Accuracy: 0.792\n",
            "Iteration: 24800, Val Loss: 313.437, Val Accuracy: 0.765 Train Loss: 1159.448, Train Accuracy: 0.792\n",
            "Iteration: 24900, Val Loss: 313.483, Val Accuracy: 0.767 Train Loss: 1159.588, Train Accuracy: 0.794\n",
            "Iteration: 25000, Val Loss: 313.379, Val Accuracy: 0.766 Train Loss: 1158.980, Train Accuracy: 0.791\n",
            "Iteration: 25100, Val Loss: 313.338, Val Accuracy: 0.766 Train Loss: 1158.563, Train Accuracy: 0.792\n",
            "Iteration: 25200, Val Loss: 313.389, Val Accuracy: 0.765 Train Loss: 1158.726, Train Accuracy: 0.791\n",
            "Iteration: 25300, Val Loss: 313.742, Val Accuracy: 0.764 Train Loss: 1159.927, Train Accuracy: 0.790\n",
            "Iteration: 25400, Val Loss: 313.683, Val Accuracy: 0.765 Train Loss: 1159.142, Train Accuracy: 0.790\n",
            "Iteration: 25500, Val Loss: 313.546, Val Accuracy: 0.765 Train Loss: 1158.153, Train Accuracy: 0.791\n",
            "Iteration: 25600, Val Loss: 313.586, Val Accuracy: 0.766 Train Loss: 1158.647, Train Accuracy: 0.794\n",
            "Iteration: 25700, Val Loss: 313.365, Val Accuracy: 0.766 Train Loss: 1157.678, Train Accuracy: 0.792\n",
            "Iteration: 25800, Val Loss: 313.359, Val Accuracy: 0.767 Train Loss: 1157.673, Train Accuracy: 0.794\n",
            "Iteration: 25900, Val Loss: 313.259, Val Accuracy: 0.766 Train Loss: 1157.080, Train Accuracy: 0.794\n",
            "Iteration: 26000, Val Loss: 313.289, Val Accuracy: 0.766 Train Loss: 1157.269, Train Accuracy: 0.794\n",
            "Iteration: 26100, Val Loss: 313.270, Val Accuracy: 0.765 Train Loss: 1156.974, Train Accuracy: 0.793\n",
            "Iteration: 26200, Val Loss: 313.268, Val Accuracy: 0.766 Train Loss: 1156.897, Train Accuracy: 0.794\n",
            "Iteration: 26300, Val Loss: 313.227, Val Accuracy: 0.765 Train Loss: 1156.466, Train Accuracy: 0.792\n",
            "Iteration: 26400, Val Loss: 313.214, Val Accuracy: 0.767 Train Loss: 1156.827, Train Accuracy: 0.795\n",
            "Iteration: 26500, Val Loss: 313.782, Val Accuracy: 0.764 Train Loss: 1158.899, Train Accuracy: 0.790\n",
            "Iteration: 26600, Val Loss: 313.208, Val Accuracy: 0.766 Train Loss: 1156.238, Train Accuracy: 0.794\n",
            "Iteration: 26700, Val Loss: 313.046, Val Accuracy: 0.766 Train Loss: 1155.639, Train Accuracy: 0.794\n",
            "Iteration: 26800, Val Loss: 313.039, Val Accuracy: 0.767 Train Loss: 1155.284, Train Accuracy: 0.794\n",
            "Iteration: 26900, Val Loss: 313.098, Val Accuracy: 0.766 Train Loss: 1155.380, Train Accuracy: 0.793\n",
            "Iteration: 27000, Val Loss: 313.473, Val Accuracy: 0.764 Train Loss: 1156.996, Train Accuracy: 0.791\n",
            "Iteration: 27100, Val Loss: 313.352, Val Accuracy: 0.767 Train Loss: 1157.231, Train Accuracy: 0.797\n",
            "Iteration: 27200, Val Loss: 312.891, Val Accuracy: 0.766 Train Loss: 1154.703, Train Accuracy: 0.793\n",
            "Iteration: 27300, Val Loss: 313.040, Val Accuracy: 0.765 Train Loss: 1155.168, Train Accuracy: 0.792\n",
            "Iteration: 27400, Val Loss: 313.498, Val Accuracy: 0.767 Train Loss: 1157.313, Train Accuracy: 0.796\n",
            "Iteration: 27500, Val Loss: 312.848, Val Accuracy: 0.767 Train Loss: 1154.438, Train Accuracy: 0.795\n",
            "Iteration: 27600, Val Loss: 312.804, Val Accuracy: 0.767 Train Loss: 1153.990, Train Accuracy: 0.793\n",
            "Iteration: 27700, Val Loss: 314.104, Val Accuracy: 0.768 Train Loss: 1159.460, Train Accuracy: 0.798\n",
            "Iteration: 27800, Val Loss: 313.206, Val Accuracy: 0.768 Train Loss: 1155.796, Train Accuracy: 0.797\n",
            "Iteration: 27900, Val Loss: 314.385, Val Accuracy: 0.761 Train Loss: 1159.340, Train Accuracy: 0.787\n",
            "Iteration: 28000, Val Loss: 312.971, Val Accuracy: 0.767 Train Loss: 1153.778, Train Accuracy: 0.795\n",
            "Iteration: 28100, Val Loss: 314.295, Val Accuracy: 0.762 Train Loss: 1158.000, Train Accuracy: 0.787\n",
            "Iteration: 28200, Val Loss: 312.947, Val Accuracy: 0.766 Train Loss: 1152.989, Train Accuracy: 0.793\n",
            "Iteration: 28300, Val Loss: 312.789, Val Accuracy: 0.767 Train Loss: 1152.778, Train Accuracy: 0.795\n",
            "Iteration: 28400, Val Loss: 312.762, Val Accuracy: 0.767 Train Loss: 1152.640, Train Accuracy: 0.795\n",
            "Iteration: 28500, Val Loss: 312.837, Val Accuracy: 0.767 Train Loss: 1152.814, Train Accuracy: 0.796\n",
            "Iteration: 28600, Val Loss: 312.789, Val Accuracy: 0.766 Train Loss: 1152.469, Train Accuracy: 0.795\n",
            "Iteration: 28700, Val Loss: 313.359, Val Accuracy: 0.764 Train Loss: 1154.329, Train Accuracy: 0.790\n",
            "Iteration: 28800, Val Loss: 313.248, Val Accuracy: 0.767 Train Loss: 1154.316, Train Accuracy: 0.797\n",
            "Iteration: 28900, Val Loss: 312.887, Val Accuracy: 0.767 Train Loss: 1152.639, Train Accuracy: 0.796\n",
            "Iteration: 29000, Val Loss: 312.605, Val Accuracy: 0.767 Train Loss: 1151.793, Train Accuracy: 0.796\n",
            "Iteration: 29100, Val Loss: 312.675, Val Accuracy: 0.767 Train Loss: 1152.089, Train Accuracy: 0.796\n",
            "Iteration: 29200, Val Loss: 312.564, Val Accuracy: 0.767 Train Loss: 1151.098, Train Accuracy: 0.795\n",
            "Iteration: 29300, Val Loss: 312.566, Val Accuracy: 0.766 Train Loss: 1150.875, Train Accuracy: 0.794\n",
            "Iteration: 29400, Val Loss: 312.746, Val Accuracy: 0.768 Train Loss: 1151.706, Train Accuracy: 0.797\n",
            "Iteration: 29500, Val Loss: 312.582, Val Accuracy: 0.767 Train Loss: 1150.761, Train Accuracy: 0.794\n",
            "Iteration: 29600, Val Loss: 312.502, Val Accuracy: 0.766 Train Loss: 1150.771, Train Accuracy: 0.795\n",
            "Iteration: 29700, Val Loss: 312.418, Val Accuracy: 0.767 Train Loss: 1150.641, Train Accuracy: 0.796\n",
            "Iteration: 29800, Val Loss: 312.636, Val Accuracy: 0.765 Train Loss: 1150.977, Train Accuracy: 0.793\n",
            "Iteration: 29900, Val Loss: 312.552, Val Accuracy: 0.765 Train Loss: 1150.669, Train Accuracy: 0.793\n",
            "Iteration: 30000, Val Loss: 312.553, Val Accuracy: 0.766 Train Loss: 1150.487, Train Accuracy: 0.793\n",
            "Iteration: 30100, Val Loss: 312.305, Val Accuracy: 0.767 Train Loss: 1149.722, Train Accuracy: 0.796\n",
            "Iteration: 30200, Val Loss: 312.336, Val Accuracy: 0.767 Train Loss: 1149.621, Train Accuracy: 0.796\n",
            "Iteration: 30300, Val Loss: 312.217, Val Accuracy: 0.767"
          ],
          "name": "stdout"
        },
        {
          "output_type": "error",
          "ename": "KeyboardInterrupt",
          "evalue": "ignored",
          "traceback": [
            "\u001b[0;31m---------------------------------------------------------------------------\u001b[0m",
            "\u001b[0;31mKeyboardInterrupt\u001b[0m                         Traceback (most recent call last)",
            "\u001b[0;32m<ipython-input-39-2da8c8229f09>\u001b[0m in \u001b[0;36m<module>\u001b[0;34m()\u001b[0m\n\u001b[1;32m     62\u001b[0m                     \u001b[0mimages\u001b[0m\u001b[0;34m,\u001b[0m \u001b[0mlabels\u001b[0m \u001b[0;34m=\u001b[0m \u001b[0mimages\u001b[0m\u001b[0;34m.\u001b[0m\u001b[0mto\u001b[0m\u001b[0;34m(\u001b[0m\u001b[0mdevice\u001b[0m\u001b[0;34m)\u001b[0m\u001b[0;34m,\u001b[0m \u001b[0mlabels\u001b[0m\u001b[0;34m.\u001b[0m\u001b[0mto\u001b[0m\u001b[0;34m(\u001b[0m\u001b[0mdevice\u001b[0m\u001b[0;34m)\u001b[0m\u001b[0;34m\u001b[0m\u001b[0;34m\u001b[0m\u001b[0m\n\u001b[1;32m     63\u001b[0m                     \u001b[0mtest\u001b[0m \u001b[0;34m=\u001b[0m \u001b[0mimages\u001b[0m \u001b[0;31m#.view(batch_size, inp_dim))\u001b[0m\u001b[0;34m\u001b[0m\u001b[0;34m\u001b[0m\u001b[0m\n\u001b[0;32m---> 64\u001b[0;31m                     \u001b[0moutputs\u001b[0m \u001b[0;34m=\u001b[0m \u001b[0mmodel\u001b[0m\u001b[0;34m(\u001b[0m\u001b[0mtest\u001b[0m\u001b[0;34m)\u001b[0m\u001b[0;34m\u001b[0m\u001b[0;34m\u001b[0m\u001b[0m\n\u001b[0m\u001b[1;32m     65\u001b[0m                     \u001b[0mloss\u001b[0m \u001b[0;34m+=\u001b[0m \u001b[0merror\u001b[0m\u001b[0;34m(\u001b[0m\u001b[0moutputs\u001b[0m\u001b[0;34m,\u001b[0m \u001b[0mlabels\u001b[0m\u001b[0;34m.\u001b[0m\u001b[0mreshape\u001b[0m\u001b[0;34m(\u001b[0m\u001b[0;34m-\u001b[0m\u001b[0;36m1\u001b[0m\u001b[0;34m,\u001b[0m \u001b[0;36m1\u001b[0m\u001b[0;34m)\u001b[0m\u001b[0;34m)\u001b[0m\u001b[0;34m.\u001b[0m\u001b[0mdata\u001b[0m\u001b[0;34m\u001b[0m\u001b[0;34m\u001b[0m\u001b[0m\n\u001b[1;32m     66\u001b[0m                     \u001b[0mpredictions\u001b[0m \u001b[0;34m=\u001b[0m \u001b[0mtorch\u001b[0m\u001b[0;34m.\u001b[0m\u001b[0mround\u001b[0m\u001b[0;34m(\u001b[0m\u001b[0mtorch\u001b[0m\u001b[0;34m.\u001b[0m\u001b[0msigmoid\u001b[0m\u001b[0;34m(\u001b[0m\u001b[0moutputs\u001b[0m\u001b[0;34m)\u001b[0m\u001b[0;34m)\u001b[0m \u001b[0;31m#torch.max(outputs, 1)[1].to(device)\u001b[0m\u001b[0;34m\u001b[0m\u001b[0;34m\u001b[0m\u001b[0m\n",
            "\u001b[0;32m/usr/local/lib/python3.7/dist-packages/torch/nn/modules/module.py\u001b[0m in \u001b[0;36m_call_impl\u001b[0;34m(self, *input, **kwargs)\u001b[0m\n\u001b[1;32m    887\u001b[0m             \u001b[0mresult\u001b[0m \u001b[0;34m=\u001b[0m \u001b[0mself\u001b[0m\u001b[0;34m.\u001b[0m\u001b[0m_slow_forward\u001b[0m\u001b[0;34m(\u001b[0m\u001b[0;34m*\u001b[0m\u001b[0minput\u001b[0m\u001b[0;34m,\u001b[0m \u001b[0;34m**\u001b[0m\u001b[0mkwargs\u001b[0m\u001b[0;34m)\u001b[0m\u001b[0;34m\u001b[0m\u001b[0;34m\u001b[0m\u001b[0m\n\u001b[1;32m    888\u001b[0m         \u001b[0;32melse\u001b[0m\u001b[0;34m:\u001b[0m\u001b[0;34m\u001b[0m\u001b[0;34m\u001b[0m\u001b[0m\n\u001b[0;32m--> 889\u001b[0;31m             \u001b[0mresult\u001b[0m \u001b[0;34m=\u001b[0m \u001b[0mself\u001b[0m\u001b[0;34m.\u001b[0m\u001b[0mforward\u001b[0m\u001b[0;34m(\u001b[0m\u001b[0;34m*\u001b[0m\u001b[0minput\u001b[0m\u001b[0;34m,\u001b[0m \u001b[0;34m**\u001b[0m\u001b[0mkwargs\u001b[0m\u001b[0;34m)\u001b[0m\u001b[0;34m\u001b[0m\u001b[0;34m\u001b[0m\u001b[0m\n\u001b[0m\u001b[1;32m    890\u001b[0m         for hook in itertools.chain(\n\u001b[1;32m    891\u001b[0m                 \u001b[0m_global_forward_hooks\u001b[0m\u001b[0;34m.\u001b[0m\u001b[0mvalues\u001b[0m\u001b[0;34m(\u001b[0m\u001b[0;34m)\u001b[0m\u001b[0;34m,\u001b[0m\u001b[0;34m\u001b[0m\u001b[0;34m\u001b[0m\u001b[0m\n",
            "\u001b[0;32m<ipython-input-36-4866067a2d2a>\u001b[0m in \u001b[0;36mforward\u001b[0;34m(self, input_ids)\u001b[0m\n\u001b[1;32m     26\u001b[0m \u001b[0;34m\u001b[0m\u001b[0m\n\u001b[1;32m     27\u001b[0m         \u001b[0;31m# Apply CNN and ReLU. Output shape: (b, num_filters[i], L_out)\u001b[0m\u001b[0;34m\u001b[0m\u001b[0;34m\u001b[0m\u001b[0;34m\u001b[0m\u001b[0m\n\u001b[0;32m---> 28\u001b[0;31m         \u001b[0mx_conv_list\u001b[0m \u001b[0;34m=\u001b[0m \u001b[0;34m[\u001b[0m\u001b[0mF\u001b[0m\u001b[0;34m.\u001b[0m\u001b[0mrelu\u001b[0m\u001b[0;34m(\u001b[0m\u001b[0mconv1d\u001b[0m\u001b[0;34m(\u001b[0m\u001b[0mx_reshaped\u001b[0m\u001b[0;34m)\u001b[0m\u001b[0;34m)\u001b[0m \u001b[0;32mfor\u001b[0m \u001b[0mconv1d\u001b[0m \u001b[0;32min\u001b[0m \u001b[0mself\u001b[0m\u001b[0;34m.\u001b[0m\u001b[0mconv1d_list\u001b[0m\u001b[0;34m]\u001b[0m\u001b[0;34m\u001b[0m\u001b[0;34m\u001b[0m\u001b[0m\n\u001b[0m\u001b[1;32m     29\u001b[0m \u001b[0;34m\u001b[0m\u001b[0m\n\u001b[1;32m     30\u001b[0m         \u001b[0;31m# Max pooling. Output shape: (b, num_filters[i], 1)\u001b[0m\u001b[0;34m\u001b[0m\u001b[0;34m\u001b[0m\u001b[0;34m\u001b[0m\u001b[0m\n",
            "\u001b[0;32m<ipython-input-36-4866067a2d2a>\u001b[0m in \u001b[0;36m<listcomp>\u001b[0;34m(.0)\u001b[0m\n\u001b[1;32m     26\u001b[0m \u001b[0;34m\u001b[0m\u001b[0m\n\u001b[1;32m     27\u001b[0m         \u001b[0;31m# Apply CNN and ReLU. Output shape: (b, num_filters[i], L_out)\u001b[0m\u001b[0;34m\u001b[0m\u001b[0;34m\u001b[0m\u001b[0;34m\u001b[0m\u001b[0m\n\u001b[0;32m---> 28\u001b[0;31m         \u001b[0mx_conv_list\u001b[0m \u001b[0;34m=\u001b[0m \u001b[0;34m[\u001b[0m\u001b[0mF\u001b[0m\u001b[0;34m.\u001b[0m\u001b[0mrelu\u001b[0m\u001b[0;34m(\u001b[0m\u001b[0mconv1d\u001b[0m\u001b[0;34m(\u001b[0m\u001b[0mx_reshaped\u001b[0m\u001b[0;34m)\u001b[0m\u001b[0;34m)\u001b[0m \u001b[0;32mfor\u001b[0m \u001b[0mconv1d\u001b[0m \u001b[0;32min\u001b[0m \u001b[0mself\u001b[0m\u001b[0;34m.\u001b[0m\u001b[0mconv1d_list\u001b[0m\u001b[0;34m]\u001b[0m\u001b[0;34m\u001b[0m\u001b[0;34m\u001b[0m\u001b[0m\n\u001b[0m\u001b[1;32m     29\u001b[0m \u001b[0;34m\u001b[0m\u001b[0m\n\u001b[1;32m     30\u001b[0m         \u001b[0;31m# Max pooling. Output shape: (b, num_filters[i], 1)\u001b[0m\u001b[0;34m\u001b[0m\u001b[0;34m\u001b[0m\u001b[0;34m\u001b[0m\u001b[0m\n",
            "\u001b[0;32m/usr/local/lib/python3.7/dist-packages/torch/nn/modules/module.py\u001b[0m in \u001b[0;36m_call_impl\u001b[0;34m(self, *input, **kwargs)\u001b[0m\n\u001b[1;32m    887\u001b[0m             \u001b[0mresult\u001b[0m \u001b[0;34m=\u001b[0m \u001b[0mself\u001b[0m\u001b[0;34m.\u001b[0m\u001b[0m_slow_forward\u001b[0m\u001b[0;34m(\u001b[0m\u001b[0;34m*\u001b[0m\u001b[0minput\u001b[0m\u001b[0;34m,\u001b[0m \u001b[0;34m**\u001b[0m\u001b[0mkwargs\u001b[0m\u001b[0;34m)\u001b[0m\u001b[0;34m\u001b[0m\u001b[0;34m\u001b[0m\u001b[0m\n\u001b[1;32m    888\u001b[0m         \u001b[0;32melse\u001b[0m\u001b[0;34m:\u001b[0m\u001b[0;34m\u001b[0m\u001b[0;34m\u001b[0m\u001b[0m\n\u001b[0;32m--> 889\u001b[0;31m             \u001b[0mresult\u001b[0m \u001b[0;34m=\u001b[0m \u001b[0mself\u001b[0m\u001b[0;34m.\u001b[0m\u001b[0mforward\u001b[0m\u001b[0;34m(\u001b[0m\u001b[0;34m*\u001b[0m\u001b[0minput\u001b[0m\u001b[0;34m,\u001b[0m \u001b[0;34m**\u001b[0m\u001b[0mkwargs\u001b[0m\u001b[0;34m)\u001b[0m\u001b[0;34m\u001b[0m\u001b[0;34m\u001b[0m\u001b[0m\n\u001b[0m\u001b[1;32m    890\u001b[0m         for hook in itertools.chain(\n\u001b[1;32m    891\u001b[0m                 \u001b[0m_global_forward_hooks\u001b[0m\u001b[0;34m.\u001b[0m\u001b[0mvalues\u001b[0m\u001b[0;34m(\u001b[0m\u001b[0;34m)\u001b[0m\u001b[0;34m,\u001b[0m\u001b[0;34m\u001b[0m\u001b[0;34m\u001b[0m\u001b[0m\n",
            "\u001b[0;32m/usr/local/lib/python3.7/dist-packages/torch/nn/modules/conv.py\u001b[0m in \u001b[0;36mforward\u001b[0;34m(self, input)\u001b[0m\n\u001b[1;32m    261\u001b[0m \u001b[0;34m\u001b[0m\u001b[0m\n\u001b[1;32m    262\u001b[0m     \u001b[0;32mdef\u001b[0m \u001b[0mforward\u001b[0m\u001b[0;34m(\u001b[0m\u001b[0mself\u001b[0m\u001b[0;34m,\u001b[0m \u001b[0minput\u001b[0m\u001b[0;34m:\u001b[0m \u001b[0mTensor\u001b[0m\u001b[0;34m)\u001b[0m \u001b[0;34m->\u001b[0m \u001b[0mTensor\u001b[0m\u001b[0;34m:\u001b[0m\u001b[0;34m\u001b[0m\u001b[0;34m\u001b[0m\u001b[0m\n\u001b[0;32m--> 263\u001b[0;31m         \u001b[0;32mreturn\u001b[0m \u001b[0mself\u001b[0m\u001b[0;34m.\u001b[0m\u001b[0m_conv_forward\u001b[0m\u001b[0;34m(\u001b[0m\u001b[0minput\u001b[0m\u001b[0;34m,\u001b[0m \u001b[0mself\u001b[0m\u001b[0;34m.\u001b[0m\u001b[0mweight\u001b[0m\u001b[0;34m,\u001b[0m \u001b[0mself\u001b[0m\u001b[0;34m.\u001b[0m\u001b[0mbias\u001b[0m\u001b[0;34m)\u001b[0m\u001b[0;34m\u001b[0m\u001b[0;34m\u001b[0m\u001b[0m\n\u001b[0m\u001b[1;32m    264\u001b[0m \u001b[0;34m\u001b[0m\u001b[0m\n\u001b[1;32m    265\u001b[0m \u001b[0;34m\u001b[0m\u001b[0m\n",
            "\u001b[0;32m/usr/local/lib/python3.7/dist-packages/torch/nn/modules/conv.py\u001b[0m in \u001b[0;36m_conv_forward\u001b[0;34m(self, input, weight, bias)\u001b[0m\n\u001b[1;32m    258\u001b[0m                             _single(0), self.dilation, self.groups)\n\u001b[1;32m    259\u001b[0m         return F.conv1d(input, weight, bias, self.stride,\n\u001b[0;32m--> 260\u001b[0;31m                         self.padding, self.dilation, self.groups)\n\u001b[0m\u001b[1;32m    261\u001b[0m \u001b[0;34m\u001b[0m\u001b[0m\n\u001b[1;32m    262\u001b[0m     \u001b[0;32mdef\u001b[0m \u001b[0mforward\u001b[0m\u001b[0;34m(\u001b[0m\u001b[0mself\u001b[0m\u001b[0;34m,\u001b[0m \u001b[0minput\u001b[0m\u001b[0;34m:\u001b[0m \u001b[0mTensor\u001b[0m\u001b[0;34m)\u001b[0m \u001b[0;34m->\u001b[0m \u001b[0mTensor\u001b[0m\u001b[0;34m:\u001b[0m\u001b[0;34m\u001b[0m\u001b[0;34m\u001b[0m\u001b[0m\n",
            "\u001b[0;31mKeyboardInterrupt\u001b[0m: "
          ]
        }
      ]
    },
    {
      "cell_type": "code",
      "metadata": {
        "colab": {
          "base_uri": "https://localhost:8080/",
          "height": 1000
        },
        "id": "XU0J90LAWL9l",
        "outputId": "c21e5b96-7981-4baf-c395-f1aeb5bbf8af"
      },
      "source": [
        "learning_rate = 0.01\n",
        "# https://pytorch.org/docs/stable/optim.html\n",
        "#optimizer = torch.optim.Adadelta(model.parameters(), lr=learning_rate, rho=0.95, weight_decay=0.005)\n",
        "#optimizer = torch.optim.ASGD(model.parameters())\n",
        "#optimizer = torch.optim.Adam(model.parameters(), lr=learning_rate)\n",
        "optimizer = torch.optim.SGD(model.parameters(),lr=learning_rate, weight_decay=0.005, momentum=0.5)\n",
        "#train_dataset = MyDataset(X_train_t, Y_train_t)\n",
        "#train_dataloader = DataLoader(train_dataset, batch_size=batch_size)\n",
        "\n",
        "#test_dataset = MyDataset(X_test_t, Y_test_t)\n",
        "#test_dataloader = DataLoader(test_dataset, batch_size=batch_size)\n",
        "\n",
        "#val_dataset = MyDataset(X_val_t, Y_val_t)\n",
        "#val_dataloader = DataLoader(val_dataset, batch_size=batch_size)\n",
        "\n",
        "for curr_epoch in range(num_epochs):\n",
        "    for images, labels in train_dataloader:\n",
        "        images, labels = images.to(device), labels.to(device)\n",
        "        train = images #Variable(images)\n",
        "        labels = labels #Variable(labels.view(len(labels),1))\n",
        "        outputs = model(train)\n",
        "        loss = error(outputs, labels.reshape(-1, 1))\n",
        "        loss_list_train.append(loss.data)\n",
        "        #print(loss.data)\n",
        "        optimizer.zero_grad()\n",
        "        \n",
        "        loss.backward()\n",
        "        \n",
        "        optimizer.step()\n",
        "    \n",
        "        count += 1\n",
        "        model.eval()\n",
        "        with torch.no_grad():\n",
        "            if count%500 == 0:\n",
        "                # Y_pred = model(X_val_t.to(device))\n",
        "                # loss_val = error(Y_pred, torch.tensor(Y_val_t, dtype=torch.float32).to(device).reshape(-1, 1))\n",
        "                # Y_pred_lab = torch.round(torch.sigmoid(Y_pred))\n",
        "                # accuracy = 1#(Y_pred_lab.cpu() == Y_val_t).sum()/len(Y_val_t)\n",
        "                # Testing the model\n",
        "                total = 0\n",
        "                correct = 0\n",
        "                loss_val = 0\n",
        "                for images, labels in val_dataloader:\n",
        "                    images, labels = images.to(device), labels.to(device)\n",
        "                    test = images #.view(batch_size, inp_dim))\n",
        "                    outputs = model(test)\n",
        "                    loss_val += error(outputs, labels.reshape(-1, 1)).data\n",
        "                    predictions = torch.round(torch.sigmoid(outputs)) #torch.max(outputs, 1)[1].to(device)\n",
        "                    correct += (predictions.reshape(-1) == labels).sum().item()\n",
        "                    total += len(labels)\n",
        "                #print(correct, total)\n",
        "                accuracy = correct/total\n",
        "                loss_list_val.append(loss_val.data)\n",
        "                iteration_list_val.append(count)\n",
        "                accuracy_list_val.append(accuracy)\n",
        "                print(\"Iteration: {}, Val Loss: {:.3f}, Val Accuracy: {:.3f}\".format(count, loss_val.data, accuracy), end=\"\")\n",
        "        \n",
        "                total = 0\n",
        "                correct = 0\n",
        "                loss = 0\n",
        "                for images, labels in DataLoader(train_dataset, batch_size=batch_size):\n",
        "                    images, labels = images.to(device), labels.to(device)\n",
        "                    test = images #.view(batch_size, inp_dim))\n",
        "                    outputs = model(test)\n",
        "                    loss += error(outputs, labels.reshape(-1, 1)).data\n",
        "                    predictions = torch.round(torch.sigmoid(outputs)) #torch.max(outputs, 1)[1].to(device)\n",
        "                    correct += (predictions.reshape(-1) == labels).sum().item()\n",
        "                    total += len(labels)\n",
        "                accuracy = correct/total\n",
        "                iteration_list_train.append(count)\n",
        "                loss_train_epoch.append(loss)\n",
        "                accuracy_list_train.append(accuracy)\n",
        "                print(\" Train Loss: {:.3f}, Train Accuracy: {:.3f}\".format(loss.data, accuracy))"
      ],
      "execution_count": null,
      "outputs": [
        {
          "output_type": "stream",
          "text": [
            "Iteration: 10500, Val Loss: 347.786, Val Accuracy: 0.730 Train Loss: 1383.547, Train Accuracy: 0.734\n",
            "Iteration: 11000, Val Loss: 347.314, Val Accuracy: 0.732 Train Loss: 1381.439, Train Accuracy: 0.735\n",
            "Iteration: 11500, Val Loss: 347.236, Val Accuracy: 0.733 Train Loss: 1381.081, Train Accuracy: 0.736\n",
            "Iteration: 12000, Val Loss: 347.169, Val Accuracy: 0.734 Train Loss: 1380.869, Train Accuracy: 0.737\n",
            "Iteration: 12500, Val Loss: 346.979, Val Accuracy: 0.734 Train Loss: 1380.051, Train Accuracy: 0.737\n",
            "Iteration: 13000, Val Loss: 347.136, Val Accuracy: 0.731 Train Loss: 1380.198, Train Accuracy: 0.735\n",
            "Iteration: 13500, Val Loss: 346.556, Val Accuracy: 0.734 Train Loss: 1378.314, Train Accuracy: 0.736\n",
            "Iteration: 14000, Val Loss: 346.663, Val Accuracy: 0.733 Train Loss: 1378.242, Train Accuracy: 0.737\n",
            "Iteration: 14500, Val Loss: 346.600, Val Accuracy: 0.733 Train Loss: 1377.871, Train Accuracy: 0.736\n",
            "Iteration: 15000, Val Loss: 346.655, Val Accuracy: 0.733 Train Loss: 1378.222, Train Accuracy: 0.736\n",
            "Iteration: 15500, Val Loss: 346.493, Val Accuracy: 0.734 Train Loss: 1377.525, Train Accuracy: 0.738\n",
            "Iteration: 16000, Val Loss: 346.388, Val Accuracy: 0.735 Train Loss: 1377.161, Train Accuracy: 0.739\n",
            "Iteration: 16500, Val Loss: 346.222, Val Accuracy: 0.733 Train Loss: 1376.320, Train Accuracy: 0.737\n",
            "Iteration: 17000, Val Loss: 346.345, Val Accuracy: 0.734 Train Loss: 1376.636, Train Accuracy: 0.738\n",
            "Iteration: 17500, Val Loss: 346.311, Val Accuracy: 0.734 Train Loss: 1376.307, Train Accuracy: 0.737\n",
            "Iteration: 18000, Val Loss: 346.175, Val Accuracy: 0.734 Train Loss: 1375.843, Train Accuracy: 0.737\n",
            "Iteration: 18500, Val Loss: 345.961, Val Accuracy: 0.734 Train Loss: 1375.241, Train Accuracy: 0.737\n",
            "Iteration: 19000, Val Loss: 346.586, Val Accuracy: 0.731 Train Loss: 1377.030, Train Accuracy: 0.735\n",
            "Iteration: 19500, Val Loss: 346.304, Val Accuracy: 0.733 Train Loss: 1375.962, Train Accuracy: 0.737\n",
            "Iteration: 20000, Val Loss: 346.147, Val Accuracy: 0.735 Train Loss: 1375.535, Train Accuracy: 0.738\n",
            "Iteration: 20500, Val Loss: 346.099, Val Accuracy: 0.735 Train Loss: 1375.838, Train Accuracy: 0.739\n",
            "Iteration: 21000, Val Loss: 346.124, Val Accuracy: 0.734 Train Loss: 1376.358, Train Accuracy: 0.738\n",
            "Iteration: 21500, Val Loss: 345.795, Val Accuracy: 0.734 Train Loss: 1374.054, Train Accuracy: 0.737\n",
            "Iteration: 22000, Val Loss: 345.937, Val Accuracy: 0.734 Train Loss: 1374.638, Train Accuracy: 0.737\n",
            "Iteration: 22500, Val Loss: 345.878, Val Accuracy: 0.735 Train Loss: 1374.396, Train Accuracy: 0.738\n",
            "Iteration: 23000, Val Loss: 345.750, Val Accuracy: 0.736 Train Loss: 1374.405, Train Accuracy: 0.739\n",
            "Iteration: 23500, Val Loss: 345.629, Val Accuracy: 0.735 Train Loss: 1373.604, Train Accuracy: 0.738\n",
            "Iteration: 24000, Val Loss: 345.871, Val Accuracy: 0.736 Train Loss: 1374.427, Train Accuracy: 0.739\n",
            "Iteration: 24500, Val Loss: 345.707, Val Accuracy: 0.735 Train Loss: 1373.601, Train Accuracy: 0.739\n",
            "Iteration: 25000, Val Loss: 345.698, Val Accuracy: 0.734 Train Loss: 1373.478, Train Accuracy: 0.738\n",
            "Iteration: 25500, Val Loss: 345.753, Val Accuracy: 0.733 Train Loss: 1373.848, Train Accuracy: 0.737\n",
            "Iteration: 26000, Val Loss: 345.717, Val Accuracy: 0.736 Train Loss: 1373.756, Train Accuracy: 0.739\n",
            "Iteration: 26500, Val Loss: 345.825, Val Accuracy: 0.732 Train Loss: 1374.031, Train Accuracy: 0.736\n",
            "Iteration: 27000, Val Loss: 345.853, Val Accuracy: 0.735 Train Loss: 1374.334, Train Accuracy: 0.739\n",
            "Iteration: 27500, Val Loss: 345.717, Val Accuracy: 0.735 Train Loss: 1373.778, Train Accuracy: 0.739\n",
            "Iteration: 28000, Val Loss: 345.663, Val Accuracy: 0.735 Train Loss: 1373.549, Train Accuracy: 0.739\n",
            "Iteration: 28500, Val Loss: 346.017, Val Accuracy: 0.732 Train Loss: 1374.548, Train Accuracy: 0.736\n",
            "Iteration: 29000, Val Loss: 345.474, Val Accuracy: 0.736 Train Loss: 1372.784, Train Accuracy: 0.739\n",
            "Iteration: 29500, Val Loss: 345.635, Val Accuracy: 0.735 Train Loss: 1372.961, Train Accuracy: 0.739\n",
            "Iteration: 30000, Val Loss: 345.566, Val Accuracy: 0.735 Train Loss: 1372.864, Train Accuracy: 0.738\n",
            "Iteration: 30500, Val Loss: 345.703, Val Accuracy: 0.735 Train Loss: 1373.283, Train Accuracy: 0.738\n",
            "Iteration: 31000, Val Loss: 345.582, Val Accuracy: 0.735 Train Loss: 1372.818, Train Accuracy: 0.739\n",
            "Iteration: 31500, Val Loss: 345.416, Val Accuracy: 0.734 Train Loss: 1372.209, Train Accuracy: 0.738\n",
            "Iteration: 32000, Val Loss: 345.433, Val Accuracy: 0.734 Train Loss: 1372.267, Train Accuracy: 0.738\n",
            "Iteration: 32500, Val Loss: 346.118, Val Accuracy: 0.736 Train Loss: 1375.195, Train Accuracy: 0.740\n",
            "Iteration: 33000, Val Loss: 345.801, Val Accuracy: 0.736 Train Loss: 1373.629, Train Accuracy: 0.740\n",
            "Iteration: 33500, Val Loss: 345.478, Val Accuracy: 0.734 Train Loss: 1372.364, Train Accuracy: 0.738\n",
            "Iteration: 34000, Val Loss: 345.372, Val Accuracy: 0.736 Train Loss: 1372.385, Train Accuracy: 0.739\n",
            "Iteration: 34500, Val Loss: 347.408, Val Accuracy: 0.727 Train Loss: 1379.729, Train Accuracy: 0.732\n",
            "Iteration: 35000, Val Loss: 345.576, Val Accuracy: 0.735 Train Loss: 1372.470, Train Accuracy: 0.739\n",
            "Iteration: 35500, Val Loss: 345.531, Val Accuracy: 0.735 Train Loss: 1372.337, Train Accuracy: 0.739\n",
            "Iteration: 36000, Val Loss: 345.298, Val Accuracy: 0.735 Train Loss: 1371.839, Train Accuracy: 0.739\n"
          ],
          "name": "stdout"
        },
        {
          "output_type": "error",
          "ename": "KeyboardInterrupt",
          "evalue": "ignored",
          "traceback": [
            "\u001b[0;31m---------------------------------------------------------------------------\u001b[0m",
            "\u001b[0;31mKeyboardInterrupt\u001b[0m                         Traceback (most recent call last)",
            "\u001b[0;32m<ipython-input-32-6e4ceb1a6a20>\u001b[0m in \u001b[0;36m<module>\u001b[0;34m()\u001b[0m\n\u001b[1;32m     19\u001b[0m         \u001b[0mtrain\u001b[0m \u001b[0;34m=\u001b[0m \u001b[0mimages\u001b[0m \u001b[0;31m#Variable(images)\u001b[0m\u001b[0;34m\u001b[0m\u001b[0;34m\u001b[0m\u001b[0m\n\u001b[1;32m     20\u001b[0m         \u001b[0mlabels\u001b[0m \u001b[0;34m=\u001b[0m \u001b[0mlabels\u001b[0m \u001b[0;31m#Variable(labels.view(len(labels),1))\u001b[0m\u001b[0;34m\u001b[0m\u001b[0;34m\u001b[0m\u001b[0m\n\u001b[0;32m---> 21\u001b[0;31m         \u001b[0moutputs\u001b[0m \u001b[0;34m=\u001b[0m \u001b[0mmodel\u001b[0m\u001b[0;34m(\u001b[0m\u001b[0mtrain\u001b[0m\u001b[0;34m)\u001b[0m\u001b[0;34m\u001b[0m\u001b[0;34m\u001b[0m\u001b[0m\n\u001b[0m\u001b[1;32m     22\u001b[0m         \u001b[0mloss\u001b[0m \u001b[0;34m=\u001b[0m \u001b[0merror\u001b[0m\u001b[0;34m(\u001b[0m\u001b[0moutputs\u001b[0m\u001b[0;34m,\u001b[0m \u001b[0mlabels\u001b[0m\u001b[0;34m.\u001b[0m\u001b[0mreshape\u001b[0m\u001b[0;34m(\u001b[0m\u001b[0;34m-\u001b[0m\u001b[0;36m1\u001b[0m\u001b[0;34m,\u001b[0m \u001b[0;36m1\u001b[0m\u001b[0;34m)\u001b[0m\u001b[0;34m)\u001b[0m\u001b[0;34m\u001b[0m\u001b[0;34m\u001b[0m\u001b[0m\n\u001b[1;32m     23\u001b[0m         \u001b[0mloss_list_train\u001b[0m\u001b[0;34m.\u001b[0m\u001b[0mappend\u001b[0m\u001b[0;34m(\u001b[0m\u001b[0mloss\u001b[0m\u001b[0;34m.\u001b[0m\u001b[0mdata\u001b[0m\u001b[0;34m)\u001b[0m\u001b[0;34m\u001b[0m\u001b[0;34m\u001b[0m\u001b[0m\n",
            "\u001b[0;32m/usr/local/lib/python3.7/dist-packages/torch/nn/modules/module.py\u001b[0m in \u001b[0;36m_call_impl\u001b[0;34m(self, *input, **kwargs)\u001b[0m\n\u001b[1;32m    887\u001b[0m             \u001b[0mresult\u001b[0m \u001b[0;34m=\u001b[0m \u001b[0mself\u001b[0m\u001b[0;34m.\u001b[0m\u001b[0m_slow_forward\u001b[0m\u001b[0;34m(\u001b[0m\u001b[0;34m*\u001b[0m\u001b[0minput\u001b[0m\u001b[0;34m,\u001b[0m \u001b[0;34m**\u001b[0m\u001b[0mkwargs\u001b[0m\u001b[0;34m)\u001b[0m\u001b[0;34m\u001b[0m\u001b[0;34m\u001b[0m\u001b[0m\n\u001b[1;32m    888\u001b[0m         \u001b[0;32melse\u001b[0m\u001b[0;34m:\u001b[0m\u001b[0;34m\u001b[0m\u001b[0;34m\u001b[0m\u001b[0m\n\u001b[0;32m--> 889\u001b[0;31m             \u001b[0mresult\u001b[0m \u001b[0;34m=\u001b[0m \u001b[0mself\u001b[0m\u001b[0;34m.\u001b[0m\u001b[0mforward\u001b[0m\u001b[0;34m(\u001b[0m\u001b[0;34m*\u001b[0m\u001b[0minput\u001b[0m\u001b[0;34m,\u001b[0m \u001b[0;34m**\u001b[0m\u001b[0mkwargs\u001b[0m\u001b[0;34m)\u001b[0m\u001b[0;34m\u001b[0m\u001b[0;34m\u001b[0m\u001b[0m\n\u001b[0m\u001b[1;32m    890\u001b[0m         for hook in itertools.chain(\n\u001b[1;32m    891\u001b[0m                 \u001b[0m_global_forward_hooks\u001b[0m\u001b[0;34m.\u001b[0m\u001b[0mvalues\u001b[0m\u001b[0;34m(\u001b[0m\u001b[0;34m)\u001b[0m\u001b[0;34m,\u001b[0m\u001b[0;34m\u001b[0m\u001b[0;34m\u001b[0m\u001b[0m\n",
            "\u001b[0;32m<ipython-input-27-661021bca2e6>\u001b[0m in \u001b[0;36mforward\u001b[0;34m(self, input_ids)\u001b[0m\n\u001b[1;32m     26\u001b[0m \u001b[0;34m\u001b[0m\u001b[0m\n\u001b[1;32m     27\u001b[0m         \u001b[0;31m# Apply CNN and ReLU. Output shape: (b, num_filters[i], L_out)\u001b[0m\u001b[0;34m\u001b[0m\u001b[0;34m\u001b[0m\u001b[0;34m\u001b[0m\u001b[0m\n\u001b[0;32m---> 28\u001b[0;31m         \u001b[0mx_conv_list\u001b[0m \u001b[0;34m=\u001b[0m \u001b[0;34m[\u001b[0m\u001b[0mF\u001b[0m\u001b[0;34m.\u001b[0m\u001b[0mrelu\u001b[0m\u001b[0;34m(\u001b[0m\u001b[0mconv1d\u001b[0m\u001b[0;34m(\u001b[0m\u001b[0mx_reshaped\u001b[0m\u001b[0;34m)\u001b[0m\u001b[0;34m)\u001b[0m \u001b[0;32mfor\u001b[0m \u001b[0mconv1d\u001b[0m \u001b[0;32min\u001b[0m \u001b[0mself\u001b[0m\u001b[0;34m.\u001b[0m\u001b[0mconv1d_list\u001b[0m\u001b[0;34m]\u001b[0m\u001b[0;34m\u001b[0m\u001b[0;34m\u001b[0m\u001b[0m\n\u001b[0m\u001b[1;32m     29\u001b[0m \u001b[0;34m\u001b[0m\u001b[0m\n\u001b[1;32m     30\u001b[0m         \u001b[0;31m# Max pooling. Output shape: (b, num_filters[i], 1)\u001b[0m\u001b[0;34m\u001b[0m\u001b[0;34m\u001b[0m\u001b[0;34m\u001b[0m\u001b[0m\n",
            "\u001b[0;32m<ipython-input-27-661021bca2e6>\u001b[0m in \u001b[0;36m<listcomp>\u001b[0;34m(.0)\u001b[0m\n\u001b[1;32m     26\u001b[0m \u001b[0;34m\u001b[0m\u001b[0m\n\u001b[1;32m     27\u001b[0m         \u001b[0;31m# Apply CNN and ReLU. Output shape: (b, num_filters[i], L_out)\u001b[0m\u001b[0;34m\u001b[0m\u001b[0;34m\u001b[0m\u001b[0;34m\u001b[0m\u001b[0m\n\u001b[0;32m---> 28\u001b[0;31m         \u001b[0mx_conv_list\u001b[0m \u001b[0;34m=\u001b[0m \u001b[0;34m[\u001b[0m\u001b[0mF\u001b[0m\u001b[0;34m.\u001b[0m\u001b[0mrelu\u001b[0m\u001b[0;34m(\u001b[0m\u001b[0mconv1d\u001b[0m\u001b[0;34m(\u001b[0m\u001b[0mx_reshaped\u001b[0m\u001b[0;34m)\u001b[0m\u001b[0;34m)\u001b[0m \u001b[0;32mfor\u001b[0m \u001b[0mconv1d\u001b[0m \u001b[0;32min\u001b[0m \u001b[0mself\u001b[0m\u001b[0;34m.\u001b[0m\u001b[0mconv1d_list\u001b[0m\u001b[0;34m]\u001b[0m\u001b[0;34m\u001b[0m\u001b[0;34m\u001b[0m\u001b[0m\n\u001b[0m\u001b[1;32m     29\u001b[0m \u001b[0;34m\u001b[0m\u001b[0m\n\u001b[1;32m     30\u001b[0m         \u001b[0;31m# Max pooling. Output shape: (b, num_filters[i], 1)\u001b[0m\u001b[0;34m\u001b[0m\u001b[0;34m\u001b[0m\u001b[0;34m\u001b[0m\u001b[0m\n",
            "\u001b[0;32m/usr/local/lib/python3.7/dist-packages/torch/nn/modules/module.py\u001b[0m in \u001b[0;36m_call_impl\u001b[0;34m(self, *input, **kwargs)\u001b[0m\n\u001b[1;32m    899\u001b[0m \u001b[0;34m\u001b[0m\u001b[0m\n\u001b[1;32m    900\u001b[0m         \u001b[0;31m# Handle the non-full backward hooks\u001b[0m\u001b[0;34m\u001b[0m\u001b[0;34m\u001b[0m\u001b[0;34m\u001b[0m\u001b[0m\n\u001b[0;32m--> 901\u001b[0;31m         \u001b[0;32mif\u001b[0m \u001b[0mlen\u001b[0m\u001b[0;34m(\u001b[0m\u001b[0mnon_full_backward_hooks\u001b[0m\u001b[0;34m)\u001b[0m \u001b[0;34m>\u001b[0m \u001b[0;36m0\u001b[0m\u001b[0;34m:\u001b[0m\u001b[0;34m\u001b[0m\u001b[0;34m\u001b[0m\u001b[0m\n\u001b[0m\u001b[1;32m    902\u001b[0m             \u001b[0mvar\u001b[0m \u001b[0;34m=\u001b[0m \u001b[0mresult\u001b[0m\u001b[0;34m\u001b[0m\u001b[0;34m\u001b[0m\u001b[0m\n\u001b[1;32m    903\u001b[0m             \u001b[0;32mwhile\u001b[0m \u001b[0;32mnot\u001b[0m \u001b[0misinstance\u001b[0m\u001b[0;34m(\u001b[0m\u001b[0mvar\u001b[0m\u001b[0;34m,\u001b[0m \u001b[0mtorch\u001b[0m\u001b[0;34m.\u001b[0m\u001b[0mTensor\u001b[0m\u001b[0;34m)\u001b[0m\u001b[0;34m:\u001b[0m\u001b[0;34m\u001b[0m\u001b[0;34m\u001b[0m\u001b[0m\n",
            "\u001b[0;31mKeyboardInterrupt\u001b[0m: "
          ]
        }
      ]
    },
    {
      "cell_type": "code",
      "metadata": {
        "colab": {
          "base_uri": "https://localhost:8080/",
          "height": 1000
        },
        "id": "wtreJBkAj-wk",
        "outputId": "823195fc-598b-44a3-f7c7-c505aa6b2415"
      },
      "source": [
        "learning_rate = 0.0005\n",
        "# https://pytorch.org/docs/stable/optim.html\n",
        "#optimizer = torch.optim.Adadelta(model.parameters(), lr=learning_rate, rho=0.95, weight_decay=0.005)\n",
        "#optimizer = torch.optim.ASGD(model.parameters())\n",
        "#optimizer = torch.optim.Adam(model.parameters(), lr=learning_rate)\n",
        "optimizer = torch.optim.SGD(model.parameters(),lr=learning_rate, weight_decay=0.005, momentum=0.5)\n",
        "#train_dataset = MyDataset(X_train_t, Y_train_t)\n",
        "#train_dataloader = DataLoader(train_dataset, batch_size=batch_size)\n",
        "\n",
        "#test_dataset = MyDataset(X_test_t, Y_test_t)\n",
        "#test_dataloader = DataLoader(test_dataset, batch_size=batch_size)\n",
        "\n",
        "#val_dataset = MyDataset(X_val_t, Y_val_t)\n",
        "#val_dataloader = DataLoader(val_dataset, batch_size=batch_size)\n",
        "\n",
        "for curr_epoch in range(num_epochs):\n",
        "    for images, labels in train_dataloader:\n",
        "        images, labels = images.to(device), labels.to(device)\n",
        "        train = images #Variable(images)\n",
        "        labels = labels #Variable(labels.view(len(labels),1))\n",
        "        outputs = model(train)\n",
        "        loss = error(outputs, labels.reshape(-1, 1))\n",
        "        loss_list_train.append(loss.data)\n",
        "        #print(loss.data)\n",
        "        optimizer.zero_grad()\n",
        "        \n",
        "        loss.backward()\n",
        "        \n",
        "        optimizer.step()\n",
        "    \n",
        "        count += 1\n",
        "        model.eval()\n",
        "        with torch.no_grad():\n",
        "            if count%500 == 0:\n",
        "                # Y_pred = model(X_val_t.to(device))\n",
        "                # loss_val = error(Y_pred, torch.tensor(Y_val_t, dtype=torch.float32).to(device).reshape(-1, 1))\n",
        "                # Y_pred_lab = torch.round(torch.sigmoid(Y_pred))\n",
        "                # accuracy = 1#(Y_pred_lab.cpu() == Y_val_t).sum()/len(Y_val_t)\n",
        "                # Testing the model\n",
        "                total = 0\n",
        "                correct = 0\n",
        "                loss_val = 0\n",
        "                for images, labels in val_dataloader:\n",
        "                    images, labels = images.to(device), labels.to(device)\n",
        "                    test = images #.view(batch_size, inp_dim))\n",
        "                    outputs = model(test)\n",
        "                    loss_val += error(outputs, labels.reshape(-1, 1)).data\n",
        "                    predictions = torch.round(torch.sigmoid(outputs)) #torch.max(outputs, 1)[1].to(device)\n",
        "                    correct += (predictions.reshape(-1) == labels).sum().item()\n",
        "                    total += len(labels)\n",
        "                #print(correct, total)\n",
        "                accuracy = correct/total\n",
        "                loss_list_val.append(loss_val.data)\n",
        "                iteration_list_val.append(count)\n",
        "                accuracy_list_val.append(accuracy)\n",
        "                print(\"Iteration: {}, Val Loss: {:.3f}, Val Accuracy: {:.3f}\".format(count, loss_val.data, accuracy), end=\"\")\n",
        "        \n",
        "                total = 0\n",
        "                correct = 0\n",
        "                loss = 0\n",
        "                for images, labels in DataLoader(train_dataset, batch_size=batch_size):\n",
        "                    images, labels = images.to(device), labels.to(device)\n",
        "                    test = images #.view(batch_size, inp_dim))\n",
        "                    outputs = model(test)\n",
        "                    loss += error(outputs, labels.reshape(-1, 1)).data\n",
        "                    predictions = torch.round(torch.sigmoid(outputs)) #torch.max(outputs, 1)[1].to(device)\n",
        "                    correct += (predictions.reshape(-1) == labels).sum().item()\n",
        "                    total += len(labels)\n",
        "                accuracy = correct/total\n",
        "                iteration_list_train.append(count)\n",
        "                loss_train_epoch.append(loss)\n",
        "                accuracy_list_train.append(accuracy)\n",
        "                print(\" Train Loss: {:.3f}, Train Accuracy: {:.3f}\".format(loss.data, accuracy))"
      ],
      "execution_count": null,
      "outputs": [
        {
          "output_type": "stream",
          "text": [
            "Iteration: 61500, Val Loss: 343.217, Val Accuracy: 0.737 Train Loss: 1362.633, Train Accuracy: 0.742\n",
            "Iteration: 62000, Val Loss: 343.210, Val Accuracy: 0.737 Train Loss: 1362.591, Train Accuracy: 0.741\n",
            "Iteration: 62500, Val Loss: 343.198, Val Accuracy: 0.737 Train Loss: 1362.551, Train Accuracy: 0.742\n",
            "Iteration: 63000, Val Loss: 343.215, Val Accuracy: 0.737 Train Loss: 1362.584, Train Accuracy: 0.741\n",
            "Iteration: 63500, Val Loss: 343.223, Val Accuracy: 0.738 Train Loss: 1362.651, Train Accuracy: 0.742\n",
            "Iteration: 64000, Val Loss: 343.205, Val Accuracy: 0.737 Train Loss: 1362.564, Train Accuracy: 0.742\n",
            "Iteration: 64500, Val Loss: 343.239, Val Accuracy: 0.737 Train Loss: 1362.680, Train Accuracy: 0.741\n",
            "Iteration: 65000, Val Loss: 343.192, Val Accuracy: 0.738 Train Loss: 1362.539, Train Accuracy: 0.742\n",
            "Iteration: 65500, Val Loss: 343.197, Val Accuracy: 0.737 Train Loss: 1362.542, Train Accuracy: 0.742\n",
            "Iteration: 66000, Val Loss: 343.211, Val Accuracy: 0.737 Train Loss: 1362.555, Train Accuracy: 0.741\n",
            "Iteration: 66500, Val Loss: 343.220, Val Accuracy: 0.737 Train Loss: 1362.604, Train Accuracy: 0.741\n",
            "Iteration: 67000, Val Loss: 343.202, Val Accuracy: 0.737 Train Loss: 1362.554, Train Accuracy: 0.741\n",
            "Iteration: 67500, Val Loss: 343.185, Val Accuracy: 0.737 Train Loss: 1362.501, Train Accuracy: 0.742\n",
            "Iteration: 68000, Val Loss: 343.191, Val Accuracy: 0.738 Train Loss: 1362.517, Train Accuracy: 0.742\n",
            "Iteration: 68500, Val Loss: 343.217, Val Accuracy: 0.738 Train Loss: 1362.667, Train Accuracy: 0.742\n",
            "Iteration: 69000, Val Loss: 343.209, Val Accuracy: 0.737 Train Loss: 1362.571, Train Accuracy: 0.742\n",
            "Iteration: 69500, Val Loss: 343.212, Val Accuracy: 0.737 Train Loss: 1362.573, Train Accuracy: 0.741\n",
            "Iteration: 70000, Val Loss: 343.180, Val Accuracy: 0.737 Train Loss: 1362.495, Train Accuracy: 0.742\n",
            "Iteration: 70500, Val Loss: 343.208, Val Accuracy: 0.737 Train Loss: 1362.553, Train Accuracy: 0.741\n",
            "Iteration: 71000, Val Loss: 343.192, Val Accuracy: 0.738 Train Loss: 1362.526, Train Accuracy: 0.742\n",
            "Iteration: 71500, Val Loss: 343.229, Val Accuracy: 0.737 Train Loss: 1362.638, Train Accuracy: 0.741\n",
            "Iteration: 72000, Val Loss: 343.206, Val Accuracy: 0.738 Train Loss: 1362.606, Train Accuracy: 0.742\n",
            "Iteration: 72500, Val Loss: 343.183, Val Accuracy: 0.738 Train Loss: 1362.485, Train Accuracy: 0.741\n",
            "Iteration: 73000, Val Loss: 343.201, Val Accuracy: 0.737 Train Loss: 1362.532, Train Accuracy: 0.741\n",
            "Iteration: 73500, Val Loss: 343.193, Val Accuracy: 0.738 Train Loss: 1362.513, Train Accuracy: 0.742\n",
            "Iteration: 74000, Val Loss: 343.196, Val Accuracy: 0.738 Train Loss: 1362.511, Train Accuracy: 0.742\n",
            "Iteration: 74500, Val Loss: 343.189, Val Accuracy: 0.738 Train Loss: 1362.510, Train Accuracy: 0.742\n",
            "Iteration: 75000, Val Loss: 343.176, Val Accuracy: 0.738 Train Loss: 1362.470, Train Accuracy: 0.742\n",
            "Iteration: 75500, Val Loss: 343.220, Val Accuracy: 0.737 Train Loss: 1362.590, Train Accuracy: 0.741\n",
            "Iteration: 76000, Val Loss: 343.192, Val Accuracy: 0.738 Train Loss: 1362.486, Train Accuracy: 0.742\n",
            "Iteration: 76500, Val Loss: 343.196, Val Accuracy: 0.738 Train Loss: 1362.529, Train Accuracy: 0.742\n",
            "Iteration: 77000, Val Loss: 343.185, Val Accuracy: 0.738 Train Loss: 1362.504, Train Accuracy: 0.742\n",
            "Iteration: 77500, Val Loss: 343.170, Val Accuracy: 0.738 Train Loss: 1362.464, Train Accuracy: 0.742\n",
            "Iteration: 78000, Val Loss: 343.172, Val Accuracy: 0.738 Train Loss: 1362.437, Train Accuracy: 0.742\n",
            "Iteration: 78500, Val Loss: 343.180, Val Accuracy: 0.738 Train Loss: 1362.464, Train Accuracy: 0.742\n",
            "Iteration: 79000, Val Loss: 343.184, Val Accuracy: 0.738 Train Loss: 1362.482, Train Accuracy: 0.742\n",
            "Iteration: 79500, Val Loss: 343.189, Val Accuracy: 0.737 Train Loss: 1362.499, Train Accuracy: 0.741\n",
            "Iteration: 80000, Val Loss: 343.204, Val Accuracy: 0.737 Train Loss: 1362.544, Train Accuracy: 0.741\n",
            "Iteration: 80500, Val Loss: 343.176, Val Accuracy: 0.738 Train Loss: 1362.471, Train Accuracy: 0.742\n",
            "Iteration: 81000, Val Loss: 343.173, Val Accuracy: 0.738 Train Loss: 1362.435, Train Accuracy: 0.742\n",
            "Iteration: 81500, Val Loss: 343.178, Val Accuracy: 0.738 Train Loss: 1362.444, Train Accuracy: 0.742\n",
            "Iteration: 82000, Val Loss: 343.188, Val Accuracy: 0.738 Train Loss: 1362.479, Train Accuracy: 0.742\n",
            "Iteration: 82500, Val Loss: 343.178, Val Accuracy: 0.738 Train Loss: 1362.464, Train Accuracy: 0.742\n",
            "Iteration: 83000, Val Loss: 343.164, Val Accuracy: 0.738 Train Loss: 1362.414, Train Accuracy: 0.742\n",
            "Iteration: 83500, Val Loss: 343.173, Val Accuracy: 0.738 Train Loss: 1362.431, Train Accuracy: 0.742\n",
            "Iteration: 84000, Val Loss: 343.193, Val Accuracy: 0.738 Train Loss: 1362.551, Train Accuracy: 0.742\n",
            "Iteration: 84500, Val Loss: 343.215, Val Accuracy: 0.737 Train Loss: 1362.576, Train Accuracy: 0.741\n",
            "Iteration: 85000, Val Loss: 343.182, Val Accuracy: 0.738 Train Loss: 1362.470, Train Accuracy: 0.742\n",
            "Iteration: 85500, Val Loss: 343.167, Val Accuracy: 0.738 Train Loss: 1362.427, Train Accuracy: 0.742\n",
            "Iteration: 86000, Val Loss: 343.208, Val Accuracy: 0.737 Train Loss: 1362.530, Train Accuracy: 0.741\n",
            "Iteration: 86500, Val Loss: 343.184, Val Accuracy: 0.738 Train Loss: 1362.504, Train Accuracy: 0.742\n",
            "Iteration: 87000, Val Loss: 343.194, Val Accuracy: 0.738 Train Loss: 1362.484, Train Accuracy: 0.742\n",
            "Iteration: 87500, Val Loss: 343.181, Val Accuracy: 0.738 Train Loss: 1362.459, Train Accuracy: 0.742\n",
            "Iteration: 88000, Val Loss: 343.178, Val Accuracy: 0.737 Train Loss: 1362.435, Train Accuracy: 0.741\n",
            "Iteration: 88500, Val Loss: 343.204, Val Accuracy: 0.737 Train Loss: 1362.515, Train Accuracy: 0.741\n",
            "Iteration: 89000, Val Loss: 343.186, Val Accuracy: 0.738 Train Loss: 1362.481, Train Accuracy: 0.742\n",
            "Iteration: 89500, Val Loss: 343.190, Val Accuracy: 0.738 Train Loss: 1362.489, Train Accuracy: 0.742\n",
            "Iteration: 90000, Val Loss: 343.186, Val Accuracy: 0.738 Train Loss: 1362.492, Train Accuracy: 0.742\n",
            "Iteration: 90500, Val Loss: 343.164, Val Accuracy: 0.738 Train Loss: 1362.399, Train Accuracy: 0.741\n",
            "Iteration: 91000, Val Loss: 343.202, Val Accuracy: 0.737 Train Loss: 1362.506, Train Accuracy: 0.741\n",
            "Iteration: 91500, Val Loss: 343.178, Val Accuracy: 0.738 Train Loss: 1362.416, Train Accuracy: 0.742\n",
            "Iteration: 92000, Val Loss: 343.188, Val Accuracy: 0.738 Train Loss: 1362.479, Train Accuracy: 0.742\n",
            "Iteration: 92500, Val Loss: 343.175, Val Accuracy: 0.738 Train Loss: 1362.445, Train Accuracy: 0.742\n",
            "Iteration: 93000, Val Loss: 343.207, Val Accuracy: 0.737 Train Loss: 1362.534, Train Accuracy: 0.741\n",
            "Iteration: 93500, Val Loss: 343.161, Val Accuracy: 0.738 Train Loss: 1362.383, Train Accuracy: 0.742\n",
            "Iteration: 94000, Val Loss: 343.182, Val Accuracy: 0.738 Train Loss: 1362.430, Train Accuracy: 0.742\n",
            "Iteration: 94500, Val Loss: 343.172, Val Accuracy: 0.738 Train Loss: 1362.414, Train Accuracy: 0.742\n",
            "Iteration: 95000, Val Loss: 343.199, Val Accuracy: 0.737 Train Loss: 1362.499, Train Accuracy: 0.741\n",
            "Iteration: 95500, Val Loss: 343.179, Val Accuracy: 0.737 Train Loss: 1362.432, Train Accuracy: 0.741\n",
            "Iteration: 96000, Val Loss: 343.160, Val Accuracy: 0.738 Train Loss: 1362.373, Train Accuracy: 0.742\n",
            "Iteration: 96500, Val Loss: 343.169, Val Accuracy: 0.738 Train Loss: 1362.405, Train Accuracy: 0.742\n",
            "Iteration: 97000, Val Loss: 343.173, Val Accuracy: 0.738 Train Loss: 1362.401, Train Accuracy: 0.742\n",
            "Iteration: 97500, Val Loss: 343.185, Val Accuracy: 0.738 Train Loss: 1362.448, Train Accuracy: 0.742\n",
            "Iteration: 98000, Val Loss: 343.182, Val Accuracy: 0.738 Train Loss: 1362.429, Train Accuracy: 0.742\n",
            "Iteration: 98500, Val Loss: 343.155, Val Accuracy: 0.738 Train Loss: 1362.361, Train Accuracy: 0.742\n",
            "Iteration: 99000, Val Loss: 343.166, Val Accuracy: 0.738 Train Loss: 1362.371, Train Accuracy: 0.742\n",
            "Iteration: 99500, Val Loss: 343.178, Val Accuracy: 0.738 Train Loss: 1362.443, Train Accuracy: 0.742\n"
          ],
          "name": "stdout"
        },
        {
          "output_type": "error",
          "ename": "KeyboardInterrupt",
          "evalue": "ignored",
          "traceback": [
            "\u001b[0;31m---------------------------------------------------------------------------\u001b[0m",
            "\u001b[0;31mKeyboardInterrupt\u001b[0m                         Traceback (most recent call last)",
            "\u001b[0;32m<ipython-input-43-699686a60e80>\u001b[0m in \u001b[0;36m<module>\u001b[0;34m()\u001b[0m\n\u001b[1;32m     25\u001b[0m         \u001b[0moptimizer\u001b[0m\u001b[0;34m.\u001b[0m\u001b[0mzero_grad\u001b[0m\u001b[0;34m(\u001b[0m\u001b[0;34m)\u001b[0m\u001b[0;34m\u001b[0m\u001b[0;34m\u001b[0m\u001b[0m\n\u001b[1;32m     26\u001b[0m \u001b[0;34m\u001b[0m\u001b[0m\n\u001b[0;32m---> 27\u001b[0;31m         \u001b[0mloss\u001b[0m\u001b[0;34m.\u001b[0m\u001b[0mbackward\u001b[0m\u001b[0;34m(\u001b[0m\u001b[0;34m)\u001b[0m\u001b[0;34m\u001b[0m\u001b[0;34m\u001b[0m\u001b[0m\n\u001b[0m\u001b[1;32m     28\u001b[0m \u001b[0;34m\u001b[0m\u001b[0m\n\u001b[1;32m     29\u001b[0m         \u001b[0moptimizer\u001b[0m\u001b[0;34m.\u001b[0m\u001b[0mstep\u001b[0m\u001b[0;34m(\u001b[0m\u001b[0;34m)\u001b[0m\u001b[0;34m\u001b[0m\u001b[0;34m\u001b[0m\u001b[0m\n",
            "\u001b[0;32m/usr/local/lib/python3.7/dist-packages/torch/tensor.py\u001b[0m in \u001b[0;36mbackward\u001b[0;34m(self, gradient, retain_graph, create_graph, inputs)\u001b[0m\n\u001b[1;32m    243\u001b[0m                 \u001b[0mcreate_graph\u001b[0m\u001b[0;34m=\u001b[0m\u001b[0mcreate_graph\u001b[0m\u001b[0;34m,\u001b[0m\u001b[0;34m\u001b[0m\u001b[0;34m\u001b[0m\u001b[0m\n\u001b[1;32m    244\u001b[0m                 inputs=inputs)\n\u001b[0;32m--> 245\u001b[0;31m         \u001b[0mtorch\u001b[0m\u001b[0;34m.\u001b[0m\u001b[0mautograd\u001b[0m\u001b[0;34m.\u001b[0m\u001b[0mbackward\u001b[0m\u001b[0;34m(\u001b[0m\u001b[0mself\u001b[0m\u001b[0;34m,\u001b[0m \u001b[0mgradient\u001b[0m\u001b[0;34m,\u001b[0m \u001b[0mretain_graph\u001b[0m\u001b[0;34m,\u001b[0m \u001b[0mcreate_graph\u001b[0m\u001b[0;34m,\u001b[0m \u001b[0minputs\u001b[0m\u001b[0;34m=\u001b[0m\u001b[0minputs\u001b[0m\u001b[0;34m)\u001b[0m\u001b[0;34m\u001b[0m\u001b[0;34m\u001b[0m\u001b[0m\n\u001b[0m\u001b[1;32m    246\u001b[0m \u001b[0;34m\u001b[0m\u001b[0m\n\u001b[1;32m    247\u001b[0m     \u001b[0;32mdef\u001b[0m \u001b[0mregister_hook\u001b[0m\u001b[0;34m(\u001b[0m\u001b[0mself\u001b[0m\u001b[0;34m,\u001b[0m \u001b[0mhook\u001b[0m\u001b[0;34m)\u001b[0m\u001b[0;34m:\u001b[0m\u001b[0;34m\u001b[0m\u001b[0;34m\u001b[0m\u001b[0m\n",
            "\u001b[0;32m/usr/local/lib/python3.7/dist-packages/torch/autograd/__init__.py\u001b[0m in \u001b[0;36mbackward\u001b[0;34m(tensors, grad_tensors, retain_graph, create_graph, grad_variables, inputs)\u001b[0m\n\u001b[1;32m    145\u001b[0m     Variable._execution_engine.run_backward(\n\u001b[1;32m    146\u001b[0m         \u001b[0mtensors\u001b[0m\u001b[0;34m,\u001b[0m \u001b[0mgrad_tensors_\u001b[0m\u001b[0;34m,\u001b[0m \u001b[0mretain_graph\u001b[0m\u001b[0;34m,\u001b[0m \u001b[0mcreate_graph\u001b[0m\u001b[0;34m,\u001b[0m \u001b[0minputs\u001b[0m\u001b[0;34m,\u001b[0m\u001b[0;34m\u001b[0m\u001b[0;34m\u001b[0m\u001b[0m\n\u001b[0;32m--> 147\u001b[0;31m         allow_unreachable=True, accumulate_grad=True)  # allow_unreachable flag\n\u001b[0m\u001b[1;32m    148\u001b[0m \u001b[0;34m\u001b[0m\u001b[0m\n\u001b[1;32m    149\u001b[0m \u001b[0;34m\u001b[0m\u001b[0m\n",
            "\u001b[0;31mKeyboardInterrupt\u001b[0m: "
          ]
        }
      ]
    },
    {
      "cell_type": "code",
      "metadata": {
        "colab": {
          "base_uri": "https://localhost:8080/"
        },
        "id": "twLvHA6ztID-",
        "outputId": "3034e3a3-a41f-4647-c6be-22598ca5b014"
      },
      "source": [
        "learning_rate = 0.00001\n",
        "# https://pytorch.org/docs/stable/optim.html\n",
        "#optimizer = torch.optim.Adadelta(model.parameters(), lr=learning_rate, rho=0.95, weight_decay=0.005)\n",
        "#optimizer = torch.optim.ASGD(model.parameters())\n",
        "#optimizer = torch.optim.Adam(model.parameters(), lr=learning_rate)\n",
        "optimizer = torch.optim.SGD(model.parameters(),lr=learning_rate, weight_decay=0.005, momentum=0.5)\n",
        "#train_dataset = MyDataset(X_train_t, Y_train_t)\n",
        "#train_dataloader = DataLoader(train_dataset, batch_size=batch_size)\n",
        "\n",
        "#test_dataset = MyDataset(X_test_t, Y_test_t)\n",
        "#test_dataloader = DataLoader(test_dataset, batch_size=batch_size)\n",
        "\n",
        "#val_dataset = MyDataset(X_val_t, Y_val_t)\n",
        "#val_dataloader = DataLoader(val_dataset, batch_size=batch_size)\n",
        "\n",
        "for curr_epoch in range(num_epochs):\n",
        "    for images, labels in train_dataloader:\n",
        "        images, labels = images.to(device), labels.to(device)\n",
        "        train = images #Variable(images)\n",
        "        labels = labels #Variable(labels.view(len(labels),1))\n",
        "        outputs = model(train)\n",
        "        loss = error(outputs, labels.reshape(-1, 1))\n",
        "        loss_list_train.append(loss.data)\n",
        "        #print(loss.data)\n",
        "        optimizer.zero_grad()\n",
        "        \n",
        "        loss.backward()\n",
        "        \n",
        "        optimizer.step()\n",
        "    \n",
        "        count += 1\n",
        "        model.eval()\n",
        "        with torch.no_grad():\n",
        "            if count%500 == 0:\n",
        "                # Y_pred = model(X_val_t.to(device))\n",
        "                # loss_val = error(Y_pred, torch.tensor(Y_val_t, dtype=torch.float32).to(device).reshape(-1, 1))\n",
        "                # Y_pred_lab = torch.round(torch.sigmoid(Y_pred))\n",
        "                # accuracy = 1#(Y_pred_lab.cpu() == Y_val_t).sum()/len(Y_val_t)\n",
        "                # Testing the model\n",
        "                total = 0\n",
        "                correct = 0\n",
        "                loss_val = 0\n",
        "                for images, labels in val_dataloader:\n",
        "                    images, labels = images.to(device), labels.to(device)\n",
        "                    test = images #.view(batch_size, inp_dim))\n",
        "                    outputs = model(test)\n",
        "                    loss_val += error(outputs, labels.reshape(-1, 1)).data\n",
        "                    predictions = torch.round(torch.sigmoid(outputs)) #torch.max(outputs, 1)[1].to(device)\n",
        "                    correct += (predictions.reshape(-1) == labels).sum().item()\n",
        "                    total += len(labels)\n",
        "                #print(correct, total)\n",
        "                accuracy = correct/total\n",
        "                loss_list_val.append(loss_val.data)\n",
        "                iteration_list_val.append(count)\n",
        "                accuracy_list_val.append(accuracy)\n",
        "                print(\"Iteration: {}, Val Loss: {:.3f}, Val Accuracy: {:.3f}\".format(count, loss_val.data, accuracy), end=\"\")\n",
        "        \n",
        "                total = 0\n",
        "                correct = 0\n",
        "                loss = 0\n",
        "                for images, labels in DataLoader(train_dataset, batch_size=batch_size):\n",
        "                    images, labels = images.to(device), labels.to(device)\n",
        "                    test = images #.view(batch_size, inp_dim))\n",
        "                    outputs = model(test)\n",
        "                    loss += error(outputs, labels.reshape(-1, 1)).data\n",
        "                    predictions = torch.round(torch.sigmoid(outputs)) #torch.max(outputs, 1)[1].to(device)\n",
        "                    correct += (predictions.reshape(-1) == labels).sum().item()\n",
        "                    total += len(labels)\n",
        "                accuracy = correct/total\n",
        "                iteration_list_train.append(count)\n",
        "                loss_train_epoch.append(loss)\n",
        "                accuracy_list_train.append(accuracy)\n",
        "                print(\" Train Loss: {:.3f}, Train Accuracy: {:.3f}\".format(loss.data, accuracy))"
      ],
      "execution_count": null,
      "outputs": [
        {
          "output_type": "stream",
          "text": [
            "Iteration: 114500, Val Loss: 343.172, Val Accuracy: 0.738 Train Loss: 1362.370, Train Accuracy: 0.742\n",
            "Iteration: 115000, Val Loss: 343.171, Val Accuracy: 0.738 Train Loss: 1362.368, Train Accuracy: 0.742\n",
            "Iteration: 115500, Val Loss: 343.171, Val Accuracy: 0.738 Train Loss: 1362.368, Train Accuracy: 0.742\n",
            "Iteration: 116000, Val Loss: 343.171, Val Accuracy: 0.738 Train Loss: 1362.368, Train Accuracy: 0.742\n",
            "Iteration: 116500, Val Loss: 343.171, Val Accuracy: 0.738 Train Loss: 1362.367, Train Accuracy: 0.742\n",
            "Iteration: 117000, Val Loss: 343.171, Val Accuracy: 0.738 Train Loss: 1362.367, Train Accuracy: 0.742\n"
          ],
          "name": "stdout"
        }
      ]
    },
    {
      "cell_type": "code",
      "metadata": {
        "id": "j2gSvA_xGJQw"
      },
      "source": [
        "for param in list(model.children())[0].parameters():\n",
        "    param.requires_grad = True"
      ],
      "execution_count": null,
      "outputs": []
    },
    {
      "cell_type": "code",
      "metadata": {
        "id": "LbPPPQmttxTF"
      },
      "source": [
        "with open(data_dir + \"Models/fasttext_cnn.sav\", \"wb\") as f:\n",
        "    pickle.dump(model, f)"
      ],
      "execution_count": null,
      "outputs": []
    },
    {
      "cell_type": "code",
      "metadata": {
        "colab": {
          "base_uri": "https://localhost:8080/",
          "height": 185
        },
        "id": "Gz34Y90-atxH",
        "outputId": "87618076-fd8b-47de-8153-2ec1c5c07604"
      },
      "source": [
        "with open(data_dir + \"Models/fasttext_cnn.sav\", \"rb\") as f:\n",
        "    model = pickle.load(f)"
      ],
      "execution_count": null,
      "outputs": [
        {
          "output_type": "error",
          "ename": "EOFError",
          "evalue": "ignored",
          "traceback": [
            "\u001b[0;31m---------------------------------------------------------------------------\u001b[0m",
            "\u001b[0;31mEOFError\u001b[0m                                  Traceback (most recent call last)",
            "\u001b[0;32m<ipython-input-34-cee6c81bfc36>\u001b[0m in \u001b[0;36m<module>\u001b[0;34m()\u001b[0m\n\u001b[1;32m      1\u001b[0m \u001b[0;32mwith\u001b[0m \u001b[0mopen\u001b[0m\u001b[0;34m(\u001b[0m\u001b[0mdata_dir\u001b[0m \u001b[0;34m+\u001b[0m \u001b[0;34m\"Models/fasttext_cnn.sav\"\u001b[0m\u001b[0;34m,\u001b[0m \u001b[0;34m\"rb\"\u001b[0m\u001b[0;34m)\u001b[0m \u001b[0;32mas\u001b[0m \u001b[0mf\u001b[0m\u001b[0;34m:\u001b[0m\u001b[0;34m\u001b[0m\u001b[0;34m\u001b[0m\u001b[0m\n\u001b[0;32m----> 2\u001b[0;31m     \u001b[0mmodel\u001b[0m \u001b[0;34m=\u001b[0m \u001b[0mpickle\u001b[0m\u001b[0;34m.\u001b[0m\u001b[0mload\u001b[0m\u001b[0;34m(\u001b[0m\u001b[0mf\u001b[0m\u001b[0;34m)\u001b[0m\u001b[0;34m\u001b[0m\u001b[0;34m\u001b[0m\u001b[0m\n\u001b[0m",
            "\u001b[0;31mEOFError\u001b[0m: Ran out of input"
          ]
        }
      ]
    },
    {
      "cell_type": "code",
      "metadata": {
        "colab": {
          "base_uri": "https://localhost:8080/",
          "height": 312
        },
        "id": "rxK2yVhmtrQV",
        "outputId": "70b87646-1e24-4813-d46d-37b29d70bd51"
      },
      "source": [
        "loss_train_epoch_m = [i.item() for i in loss_train_epoch]\n",
        "plt.plot([i+1 for i in range(len(iteration_list_train))], loss_train_epoch_m)\n",
        "plt.xlabel(\"iterations\")\n",
        "plt.ylabel(\"loss\")\n",
        "plt.title(\"Training set Loss-Epoch\")"
      ],
      "execution_count": null,
      "outputs": [
        {
          "output_type": "execute_result",
          "data": {
            "text/plain": [
              "Text(0.5, 1.0, 'Training set Loss-Epoch')"
            ]
          },
          "metadata": {
            "tags": []
          },
          "execution_count": 32
        },
        {
          "output_type": "display_data",
          "data": {
            "image/png": "[encoded data removed]",
            "text/plain": [
              "<Figure size 432x288 with 1 Axes>"
            ]
          },
          "metadata": {
            "tags": [],
            "needs_background": "light"
          }
        }
      ]
    },
    {
      "cell_type": "code",
      "metadata": {
        "colab": {
          "base_uri": "https://localhost:8080/",
          "height": 312
        },
        "id": "UkpEEeQitrmB",
        "outputId": "bf3647af-33a8-4889-bdfa-13b75dc3a1c4"
      },
      "source": [
        "loss_list_val_m = [i.item() for i in loss_list_val]\n",
        "plt.plot(iteration_list_val, loss_list_val_m)\n",
        "plt.xlabel(\"iterations\")\n",
        "plt.ylabel(\"loss over validation\")\n",
        "plt.title(\"Validation set Loss-iteration\")"
      ],
      "execution_count": null,
      "outputs": [
        {
          "output_type": "execute_result",
          "data": {
            "text/plain": [
              "Text(0.5, 1.0, 'Validation set Loss-iteration')"
            ]
          },
          "metadata": {
            "tags": []
          },
          "execution_count": 33
        },
        {
          "output_type": "display_data",
          "data": {
            "image/png": "[encoded data removed]",
            "text/plain": [
              "<Figure size 432x288 with 1 Axes>"
            ]
          },
          "metadata": {
            "tags": [],
            "needs_background": "light"
          }
        }
      ]
    },
    {
      "cell_type": "code",
      "metadata": {
        "colab": {
          "base_uri": "https://localhost:8080/",
          "height": 312
        },
        "id": "EIy1g1xettG-",
        "outputId": "20172aa7-83d2-400b-cd36-93fba8482a71"
      },
      "source": [
        "accuracy_list_val_m = [i for i in accuracy_list_val]\n",
        "plt.plot(iteration_list_val, accuracy_list_val_m)\n",
        "plt.xlabel(\"iterations\")\n",
        "plt.ylabel(\"Validation Accuracy\")\n",
        "plt.title(\"Validation set Accuracy-iteration\")"
      ],
      "execution_count": null,
      "outputs": [
        {
          "output_type": "execute_result",
          "data": {
            "text/plain": [
              "Text(0.5, 1.0, 'Validation set Accuracy-iteration')"
            ]
          },
          "metadata": {
            "tags": []
          },
          "execution_count": 34
        },
        {
          "output_type": "display_data",
          "data": {
            "image/png": "[encoded data removed]",
            "text/plain": [
              "<Figure size 432x288 with 1 Axes>"
            ]
          },
          "metadata": {
            "tags": [],
            "needs_background": "light"
          }
        }
      ]
    },
    {
      "cell_type": "code",
      "metadata": {
        "colab": {
          "base_uri": "https://localhost:8080/",
          "height": 312
        },
        "id": "BoSogOtptuZC",
        "outputId": "3a92c913-fe58-485d-987b-fa0950016cf6"
      },
      "source": [
        "accuracy_list_train_m = [i for i in accuracy_list_train]\n",
        "plt.plot(iteration_list_train, accuracy_list_train_m)\n",
        "plt.xlabel(\"iterations\")\n",
        "plt.ylabel(\"Training Accuracy\")\n",
        "plt.title(\"Training set Accuracy-iteration\")"
      ],
      "execution_count": null,
      "outputs": [
        {
          "output_type": "execute_result",
          "data": {
            "text/plain": [
              "Text(0.5, 1.0, 'Training set Accuracy-iteration')"
            ]
          },
          "metadata": {
            "tags": []
          },
          "execution_count": 35
        },
        {
          "output_type": "display_data",
          "data": {
            "image/png": "[encoded data removed]",
            "text/plain": [
              "<Figure size 432x288 with 1 Axes>"
            ]
          },
          "metadata": {
            "tags": [],
            "needs_background": "light"
          }
        }
      ]
    },
    {
      "cell_type": "code",
      "metadata": {
        "colab": {
          "base_uri": "https://localhost:8080/",
          "height": 417
        },
        "id": "aKSGSGBItvt4",
        "outputId": "7341900b-04f6-42d5-d2c0-305b37c336de"
      },
      "source": [
        "total = 0\n",
        "correct = 0\n",
        "loss = 0\n",
        "predictions_l = []\n",
        "labels_l = []\n",
        "probas_l = []\n",
        "for images, labels in test_dataloader:\n",
        "    images, labels = images.to(device), labels.to(device)\n",
        "    test = images #.view(batch_size, inp_dim))\n",
        "    outputs = model(test)\n",
        "    loss += error(outputs, labels.reshape(-1, 1)).data\n",
        "    proba = torch.sigmoid(outputs).reshape(-1)\n",
        "    probas_l.append(proba)\n",
        "    predictions = torch.round(torch.sigmoid(outputs)).reshape(-1) #torch.max(outputs, 1)[1].to(device)\n",
        "    correct += (predictions == labels).sum().item()\n",
        "    predictions_l.append(predictions)\n",
        "    labels_l.append(labels)\n",
        "    total += len(labels)\n",
        "accuracy = correct/total \n",
        "print(\"Test Accuracy: {}, Test Loss: {}\".format(accuracy, loss))\n",
        "print(\"Test Confusion Matrix\")\n",
        "y_true = torch.cat(labels_l, dim=0).detach().cpu()\n",
        "y_pred = torch.cat(predictions_l, dim=0).detach().cpu()\n",
        "y_proba = torch.cat(probas_l, dim=0).detach().cpu()\n",
        "roc_auc_sc = roc_auc_score(y_true, y_proba)\n",
        "print(\"Test AUC: \", roc_auc_sc)\n",
        "fpr, tpr, threshold = roc_curve(y_true, y_proba)\n",
        "plt.title('Test ROC')\n",
        "plt.plot(fpr, tpr, 'b', label = 'AUC = %0.2f' % roc_auc_sc)\n",
        "plt.legend(loc = 'lower right')\n",
        "plt.plot([0, 1], [0, 1],'r--')\n",
        "plt.xlim([0, 1])\n",
        "plt.ylim([0, 1])\n",
        "plt.ylabel('True Positive Rate')\n",
        "plt.xlabel('False Positive Rate')\n",
        "plt.show()\n",
        "print(classification_report(y_true, y_pred))\n",
        "conf_matrix = confusion_matrix(y_true, y_pred)\n",
        "plt.matshow(conf_matrix, cmap=plt.cm.Blues, alpha=0.3)\n",
        "for i in range(conf_matrix.shape[0]):\n",
        "    for j in range(conf_matrix.shape[1]):\n",
        "        plt.text(x=j, y=i,s=conf_matrix[i, j], va='center', ha='center', size='small')"
      ],
      "execution_count": null,
      "outputs": [
        {
          "output_type": "error",
          "ename": "RuntimeError",
          "evalue": "ignored",
          "traceback": [
            "\u001b[0;31m---------------------------------------------------------------------------\u001b[0m",
            "\u001b[0;31mRuntimeError\u001b[0m                              Traceback (most recent call last)",
            "\u001b[0;32m<ipython-input-46-ed1238b7ac1f>\u001b[0m in \u001b[0;36m<module>\u001b[0;34m()\u001b[0m\n\u001b[1;32m      8\u001b[0m     \u001b[0mimages\u001b[0m\u001b[0;34m,\u001b[0m \u001b[0mlabels\u001b[0m \u001b[0;34m=\u001b[0m \u001b[0mimages\u001b[0m\u001b[0;34m.\u001b[0m\u001b[0mto\u001b[0m\u001b[0;34m(\u001b[0m\u001b[0mdevice\u001b[0m\u001b[0;34m)\u001b[0m\u001b[0;34m,\u001b[0m \u001b[0mlabels\u001b[0m\u001b[0;34m.\u001b[0m\u001b[0mto\u001b[0m\u001b[0;34m(\u001b[0m\u001b[0mdevice\u001b[0m\u001b[0;34m)\u001b[0m\u001b[0;34m\u001b[0m\u001b[0;34m\u001b[0m\u001b[0m\n\u001b[1;32m      9\u001b[0m     \u001b[0mtest\u001b[0m \u001b[0;34m=\u001b[0m \u001b[0mimages\u001b[0m \u001b[0;31m#.view(batch_size, inp_dim))\u001b[0m\u001b[0;34m\u001b[0m\u001b[0;34m\u001b[0m\u001b[0m\n\u001b[0;32m---> 10\u001b[0;31m     \u001b[0moutputs\u001b[0m \u001b[0;34m=\u001b[0m \u001b[0mmodel\u001b[0m\u001b[0;34m(\u001b[0m\u001b[0mtest\u001b[0m\u001b[0;34m)\u001b[0m\u001b[0;34m\u001b[0m\u001b[0;34m\u001b[0m\u001b[0m\n\u001b[0m\u001b[1;32m     11\u001b[0m     \u001b[0mloss\u001b[0m \u001b[0;34m+=\u001b[0m \u001b[0merror\u001b[0m\u001b[0;34m(\u001b[0m\u001b[0moutputs\u001b[0m\u001b[0;34m,\u001b[0m \u001b[0mlabels\u001b[0m\u001b[0;34m.\u001b[0m\u001b[0mreshape\u001b[0m\u001b[0;34m(\u001b[0m\u001b[0;34m-\u001b[0m\u001b[0;36m1\u001b[0m\u001b[0;34m,\u001b[0m \u001b[0;36m1\u001b[0m\u001b[0;34m)\u001b[0m\u001b[0;34m)\u001b[0m\u001b[0;34m.\u001b[0m\u001b[0mdata\u001b[0m\u001b[0;34m\u001b[0m\u001b[0;34m\u001b[0m\u001b[0m\n\u001b[1;32m     12\u001b[0m     \u001b[0mproba\u001b[0m \u001b[0;34m=\u001b[0m \u001b[0mtorch\u001b[0m\u001b[0;34m.\u001b[0m\u001b[0msigmoid\u001b[0m\u001b[0;34m(\u001b[0m\u001b[0moutputs\u001b[0m\u001b[0;34m)\u001b[0m\u001b[0;34m.\u001b[0m\u001b[0mreshape\u001b[0m\u001b[0;34m(\u001b[0m\u001b[0;34m-\u001b[0m\u001b[0;36m1\u001b[0m\u001b[0;34m)\u001b[0m\u001b[0;34m\u001b[0m\u001b[0;34m\u001b[0m\u001b[0m\n",
            "\u001b[0;32m/usr/local/lib/python3.7/dist-packages/torch/nn/modules/module.py\u001b[0m in \u001b[0;36m_call_impl\u001b[0;34m(self, *input, **kwargs)\u001b[0m\n\u001b[1;32m    887\u001b[0m             \u001b[0mresult\u001b[0m \u001b[0;34m=\u001b[0m \u001b[0mself\u001b[0m\u001b[0;34m.\u001b[0m\u001b[0m_slow_forward\u001b[0m\u001b[0;34m(\u001b[0m\u001b[0;34m*\u001b[0m\u001b[0minput\u001b[0m\u001b[0;34m,\u001b[0m \u001b[0;34m**\u001b[0m\u001b[0mkwargs\u001b[0m\u001b[0;34m)\u001b[0m\u001b[0;34m\u001b[0m\u001b[0;34m\u001b[0m\u001b[0m\n\u001b[1;32m    888\u001b[0m         \u001b[0;32melse\u001b[0m\u001b[0;34m:\u001b[0m\u001b[0;34m\u001b[0m\u001b[0;34m\u001b[0m\u001b[0m\n\u001b[0;32m--> 889\u001b[0;31m             \u001b[0mresult\u001b[0m \u001b[0;34m=\u001b[0m \u001b[0mself\u001b[0m\u001b[0;34m.\u001b[0m\u001b[0mforward\u001b[0m\u001b[0;34m(\u001b[0m\u001b[0;34m*\u001b[0m\u001b[0minput\u001b[0m\u001b[0;34m,\u001b[0m \u001b[0;34m**\u001b[0m\u001b[0mkwargs\u001b[0m\u001b[0;34m)\u001b[0m\u001b[0;34m\u001b[0m\u001b[0;34m\u001b[0m\u001b[0m\n\u001b[0m\u001b[1;32m    890\u001b[0m         for hook in itertools.chain(\n\u001b[1;32m    891\u001b[0m                 \u001b[0m_global_forward_hooks\u001b[0m\u001b[0;34m.\u001b[0m\u001b[0mvalues\u001b[0m\u001b[0;34m(\u001b[0m\u001b[0;34m)\u001b[0m\u001b[0;34m,\u001b[0m\u001b[0;34m\u001b[0m\u001b[0;34m\u001b[0m\u001b[0m\n",
            "\u001b[0;32m<ipython-input-28-7b4c1a0566f3>\u001b[0m in \u001b[0;36mforward\u001b[0;34m(self, input_ids)\u001b[0m\n\u001b[1;32m     19\u001b[0m     \u001b[0;32mdef\u001b[0m \u001b[0mforward\u001b[0m\u001b[0;34m(\u001b[0m\u001b[0mself\u001b[0m\u001b[0;34m,\u001b[0m \u001b[0minput_ids\u001b[0m\u001b[0;34m)\u001b[0m\u001b[0;34m:\u001b[0m\u001b[0;34m\u001b[0m\u001b[0;34m\u001b[0m\u001b[0m\n\u001b[1;32m     20\u001b[0m         \u001b[0;31m# Get embeddings from `input_ids`. Output shape: (b, max_len, embed_dim)\u001b[0m\u001b[0;34m\u001b[0m\u001b[0;34m\u001b[0m\u001b[0;34m\u001b[0m\u001b[0m\n\u001b[0;32m---> 21\u001b[0;31m         \u001b[0mx_embed\u001b[0m \u001b[0;34m=\u001b[0m \u001b[0mself\u001b[0m\u001b[0;34m.\u001b[0m\u001b[0membedding\u001b[0m\u001b[0;34m(\u001b[0m\u001b[0minput_ids\u001b[0m\u001b[0;34m)\u001b[0m\u001b[0;34m.\u001b[0m\u001b[0mreshape\u001b[0m\u001b[0;34m(\u001b[0m\u001b[0;34m-\u001b[0m\u001b[0;36m1\u001b[0m\u001b[0;34m,\u001b[0m \u001b[0;36m15\u001b[0m\u001b[0;34m,\u001b[0m \u001b[0;36m600\u001b[0m\u001b[0;34m)\u001b[0m\u001b[0;34m.\u001b[0m\u001b[0mfloat\u001b[0m\u001b[0;34m(\u001b[0m\u001b[0;34m)\u001b[0m\u001b[0;34m\u001b[0m\u001b[0;34m\u001b[0m\u001b[0m\n\u001b[0m\u001b[1;32m     22\u001b[0m \u001b[0;34m\u001b[0m\u001b[0m\n\u001b[1;32m     23\u001b[0m         \u001b[0;31m# Permute `x_embed` to match input shape requirement of `nn.Conv1d`.\u001b[0m\u001b[0;34m\u001b[0m\u001b[0;34m\u001b[0m\u001b[0;34m\u001b[0m\u001b[0m\n",
            "\u001b[0;32m/usr/local/lib/python3.7/dist-packages/torch/nn/modules/module.py\u001b[0m in \u001b[0;36m_call_impl\u001b[0;34m(self, *input, **kwargs)\u001b[0m\n\u001b[1;32m    887\u001b[0m             \u001b[0mresult\u001b[0m \u001b[0;34m=\u001b[0m \u001b[0mself\u001b[0m\u001b[0;34m.\u001b[0m\u001b[0m_slow_forward\u001b[0m\u001b[0;34m(\u001b[0m\u001b[0;34m*\u001b[0m\u001b[0minput\u001b[0m\u001b[0;34m,\u001b[0m \u001b[0;34m**\u001b[0m\u001b[0mkwargs\u001b[0m\u001b[0;34m)\u001b[0m\u001b[0;34m\u001b[0m\u001b[0;34m\u001b[0m\u001b[0m\n\u001b[1;32m    888\u001b[0m         \u001b[0;32melse\u001b[0m\u001b[0;34m:\u001b[0m\u001b[0;34m\u001b[0m\u001b[0;34m\u001b[0m\u001b[0m\n\u001b[0;32m--> 889\u001b[0;31m             \u001b[0mresult\u001b[0m \u001b[0;34m=\u001b[0m \u001b[0mself\u001b[0m\u001b[0;34m.\u001b[0m\u001b[0mforward\u001b[0m\u001b[0;34m(\u001b[0m\u001b[0;34m*\u001b[0m\u001b[0minput\u001b[0m\u001b[0;34m,\u001b[0m \u001b[0;34m**\u001b[0m\u001b[0mkwargs\u001b[0m\u001b[0;34m)\u001b[0m\u001b[0;34m\u001b[0m\u001b[0;34m\u001b[0m\u001b[0m\n\u001b[0m\u001b[1;32m    890\u001b[0m         for hook in itertools.chain(\n\u001b[1;32m    891\u001b[0m                 \u001b[0m_global_forward_hooks\u001b[0m\u001b[0;34m.\u001b[0m\u001b[0mvalues\u001b[0m\u001b[0;34m(\u001b[0m\u001b[0;34m)\u001b[0m\u001b[0;34m,\u001b[0m\u001b[0;34m\u001b[0m\u001b[0;34m\u001b[0m\u001b[0m\n",
            "\u001b[0;32m/usr/local/lib/python3.7/dist-packages/torch/nn/modules/sparse.py\u001b[0m in \u001b[0;36mforward\u001b[0;34m(self, input)\u001b[0m\n\u001b[1;32m    156\u001b[0m         return F.embedding(\n\u001b[1;32m    157\u001b[0m             \u001b[0minput\u001b[0m\u001b[0;34m,\u001b[0m \u001b[0mself\u001b[0m\u001b[0;34m.\u001b[0m\u001b[0mweight\u001b[0m\u001b[0;34m,\u001b[0m \u001b[0mself\u001b[0m\u001b[0;34m.\u001b[0m\u001b[0mpadding_idx\u001b[0m\u001b[0;34m,\u001b[0m \u001b[0mself\u001b[0m\u001b[0;34m.\u001b[0m\u001b[0mmax_norm\u001b[0m\u001b[0;34m,\u001b[0m\u001b[0;34m\u001b[0m\u001b[0;34m\u001b[0m\u001b[0m\n\u001b[0;32m--> 158\u001b[0;31m             self.norm_type, self.scale_grad_by_freq, self.sparse)\n\u001b[0m\u001b[1;32m    159\u001b[0m \u001b[0;34m\u001b[0m\u001b[0m\n\u001b[1;32m    160\u001b[0m     \u001b[0;32mdef\u001b[0m \u001b[0mextra_repr\u001b[0m\u001b[0;34m(\u001b[0m\u001b[0mself\u001b[0m\u001b[0;34m)\u001b[0m \u001b[0;34m->\u001b[0m \u001b[0mstr\u001b[0m\u001b[0;34m:\u001b[0m\u001b[0;34m\u001b[0m\u001b[0;34m\u001b[0m\u001b[0m\n",
            "\u001b[0;32m/usr/local/lib/python3.7/dist-packages/torch/nn/functional.py\u001b[0m in \u001b[0;36membedding\u001b[0;34m(input, weight, padding_idx, max_norm, norm_type, scale_grad_by_freq, sparse)\u001b[0m\n\u001b[1;32m   1914\u001b[0m         \u001b[0;31m# remove once script supports set_grad_enabled\u001b[0m\u001b[0;34m\u001b[0m\u001b[0;34m\u001b[0m\u001b[0;34m\u001b[0m\u001b[0m\n\u001b[1;32m   1915\u001b[0m         \u001b[0m_no_grad_embedding_renorm_\u001b[0m\u001b[0;34m(\u001b[0m\u001b[0mweight\u001b[0m\u001b[0;34m,\u001b[0m \u001b[0minput\u001b[0m\u001b[0;34m,\u001b[0m \u001b[0mmax_norm\u001b[0m\u001b[0;34m,\u001b[0m \u001b[0mnorm_type\u001b[0m\u001b[0;34m)\u001b[0m\u001b[0;34m\u001b[0m\u001b[0;34m\u001b[0m\u001b[0m\n\u001b[0;32m-> 1916\u001b[0;31m     \u001b[0;32mreturn\u001b[0m \u001b[0mtorch\u001b[0m\u001b[0;34m.\u001b[0m\u001b[0membedding\u001b[0m\u001b[0;34m(\u001b[0m\u001b[0mweight\u001b[0m\u001b[0;34m,\u001b[0m \u001b[0minput\u001b[0m\u001b[0;34m,\u001b[0m \u001b[0mpadding_idx\u001b[0m\u001b[0;34m,\u001b[0m \u001b[0mscale_grad_by_freq\u001b[0m\u001b[0;34m,\u001b[0m \u001b[0msparse\u001b[0m\u001b[0;34m)\u001b[0m\u001b[0;34m\u001b[0m\u001b[0;34m\u001b[0m\u001b[0m\n\u001b[0m\u001b[1;32m   1917\u001b[0m \u001b[0;34m\u001b[0m\u001b[0m\n\u001b[1;32m   1918\u001b[0m \u001b[0;34m\u001b[0m\u001b[0m\n",
            "\u001b[0;31mRuntimeError\u001b[0m: CUDA out of memory. Tried to allocate 70.00 MiB (GPU 0; 14.76 GiB total capacity; 12.16 GiB already allocated; 3.75 MiB free; 13.72 GiB reserved in total by PyTorch)"
          ]
        }
      ]
    },
    {
      "cell_type": "code",
      "metadata": {
        "colab": {
          "base_uri": "https://localhost:8080/",
          "height": 761
        },
        "id": "o1Q9AoHlt3OP",
        "outputId": "69346146-f1f2-44d3-d114-c4926dd89d59"
      },
      "source": [
        "total = 0\n",
        "correct = 0\n",
        "loss = 0\n",
        "predictions_l = []\n",
        "labels_l = []\n",
        "probas_l = []\n",
        "for images, labels in DataLoader(val_dataset, batch_size=batch_size):\n",
        "    images, labels = images.to(device), labels.to(device)\n",
        "    test = images #.view(batch_size, inp_dim))\n",
        "    outputs = model(test)\n",
        "    loss += error(outputs, labels.reshape(-1, 1)).data\n",
        "    proba = torch.sigmoid(outputs).reshape(-1)\n",
        "    probas_l.append(proba)\n",
        "    predictions = torch.round(torch.sigmoid(outputs)).reshape(-1) #torch.max(outputs, 1)[1].to(device)\n",
        "    correct += (predictions == labels).sum().item()\n",
        "    predictions_l.append(predictions)\n",
        "    labels_l.append(labels)\n",
        "    total += len(labels)\n",
        "accuracy = correct/total \n",
        "print(\"Val Accuracy: {}, Val Loss: {}\".format(accuracy, loss))\n",
        "print(\"Val Confusion Matrix\")\n",
        "y_true = torch.cat(labels_l, dim=0).detach().cpu()\n",
        "y_pred = torch.cat(predictions_l, dim=0).detach().cpu()\n",
        "y_proba = torch.cat(probas_l, dim=0).detach().cpu()\n",
        "roc_auc_sc = roc_auc_score(y_true, y_proba)\n",
        "print(\"Val AUC: \", roc_auc_sc)\n",
        "fpr, tpr, threshold = roc_curve(y_true, y_proba)\n",
        "plt.title('Val ROC')\n",
        "plt.plot(fpr, tpr, 'b', label = 'AUC = %0.2f' % roc_auc_sc)\n",
        "plt.legend(loc = 'lower right')\n",
        "plt.plot([0, 1], [0, 1],'r--')\n",
        "plt.xlim([0, 1])\n",
        "plt.ylim([0, 1])\n",
        "plt.ylabel('True Positive Rate')\n",
        "plt.xlabel('False Positive Rate')\n",
        "plt.show()\n",
        "print(classification_report(y_true, y_pred))\n",
        "conf_matrix = confusion_matrix(y_true, y_pred)\n",
        "plt.matshow(conf_matrix, cmap=plt.cm.Blues, alpha=0.3)\n",
        "for i in range(conf_matrix.shape[0]):\n",
        "    for j in range(conf_matrix.shape[1]):\n",
        "        plt.text(x=j, y=i,s=conf_matrix[i, j], va='center', ha='center', size='small')"
      ],
      "execution_count": null,
      "outputs": [
        {
          "output_type": "stream",
          "text": [
            "Val Accuracy: 0.7947037271785675, Val Loss: 285.34405517578125\n",
            "Val Confusion Matrix\n",
            "Val AUC:  0.8633649994920023\n"
          ],
          "name": "stdout"
        },
        {
          "output_type": "display_data",
          "data": {
            "image/png": "[encoded data removed]",
            "text/plain": [
              "<Figure size 432x288 with 1 Axes>"
            ]
          },
          "metadata": {
            "tags": []
          }
        },
        {
          "output_type": "stream",
          "text": [
            "              precision    recall  f1-score   support\n",
            "\n",
            "         0.0       0.81      0.88      0.84     40881\n",
            "         1.0       0.76      0.65      0.70     23806\n",
            "\n",
            "    accuracy                           0.79     64687\n",
            "   macro avg       0.78      0.76      0.77     64687\n",
            "weighted avg       0.79      0.79      0.79     64687\n",
            "\n"
          ],
          "name": "stdout"
        },
        {
          "output_type": "display_data",
          "data": {
            "image/png": "[encoded data removed]",
            "text/plain": [
              "<Figure size 288x288 with 1 Axes>"
            ]
          },
          "metadata": {
            "tags": []
          }
        }
      ]
    },
    {
      "cell_type": "code",
      "metadata": {
        "colab": {
          "base_uri": "https://localhost:8080/"
        },
        "id": "gjz7dTU9098I",
        "outputId": "32c9a7cf-560d-414a-d7af-3d08a1ef8bad"
      },
      "source": [
        "torch.cuda.empty_cache()\n",
        "import gc\n",
        "#del model\n",
        "#del train_dataloader, test_dataloader, val_dataloader\n",
        "gc.collect()"
      ],
      "execution_count": null,
      "outputs": [
        {
          "output_type": "execute_result",
          "data": {
            "text/plain": [
              "88"
            ]
          },
          "metadata": {
            "tags": []
          },
          "execution_count": 45
        }
      ]
    },
    {
      "cell_type": "code",
      "metadata": {
        "colab": {
          "base_uri": "https://localhost:8080/",
          "height": 400
        },
        "id": "bTlQDLOSt4vN",
        "outputId": "e21e5ea7-f4c9-419b-9aa1-e5a40744781f"
      },
      "source": [
        "total = 0\n",
        "correct = 0\n",
        "loss = 0\n",
        "predictions_l = []\n",
        "labels_l = []\n",
        "probas_l = []\n",
        "for images, labels in DataLoader(train_dataset, batch_size=100):\n",
        "    images, labels = images.to(device), labels.to(device)\n",
        "    test = images #.view(batch_size, inp_dim))\n",
        "    outputs = model(test)\n",
        "    loss += error(outputs, labels.reshape(-1, 1)).data\n",
        "    proba = torch.sigmoid(outputs).reshape(-1)\n",
        "    probas_l.append(proba)\n",
        "    predictions = torch.round(torch.sigmoid(outputs)).reshape(-1) #torch.max(outputs, 1)[1].to(device)\n",
        "    correct += (predictions == labels).sum().item()\n",
        "    predictions_l.append(predictions)\n",
        "    labels_l.append(labels)\n",
        "    total += len(labels)\n",
        "accuracy = correct/total \n",
        "print(\"Train Accuracy: {}, Train Loss: {}\".format(accuracy, loss))\n",
        "print(\"Train Confusion Matrix\")\n",
        "y_true = torch.cat(labels_l, dim=0).detach().cpu()\n",
        "y_pred = torch.cat(predictions_l, dim=0).detach().cpu()\n",
        "y_proba = torch.cat(probas_l, dim=0).detach().cpu()\n",
        "roc_auc_sc = roc_auc_score(y_true, y_proba)\n",
        "print(\"Train AUC: \", roc_auc_sc)\n",
        "fpr, tpr, threshold = roc_curve(y_true, y_proba)\n",
        "plt.title('Train ROC')\n",
        "plt.plot(fpr, tpr, 'b', label = 'AUC = %0.2f' % roc_auc_sc)\n",
        "plt.legend(loc = 'lower right')\n",
        "plt.plot([0, 1], [0, 1],'r--')\n",
        "plt.xlim([0, 1])\n",
        "plt.ylim([0, 1])\n",
        "plt.ylabel('True Positive Rate')\n",
        "plt.xlabel('False Positive Rate')\n",
        "plt.show()\n",
        "print(classification_report(y_true, y_pred))\n",
        "conf_matrix = confusion_matrix(y_true, y_pred)\n",
        "plt.matshow(conf_matrix, cmap=plt.cm.Blues, alpha=0.3)\n",
        "for i in range(conf_matrix.shape[0]):\n",
        "    for j in range(conf_matrix.shape[1]):\n",
        "        plt.text(x=j, y=i,s=conf_matrix[i, j], va='center', ha='center', size='small')"
      ],
      "execution_count": null,
      "outputs": [
        {
          "output_type": "error",
          "ename": "RuntimeError",
          "evalue": "ignored",
          "traceback": [
            "\u001b[0;31m---------------------------------------------------------------------------\u001b[0m",
            "\u001b[0;31mRuntimeError\u001b[0m                              Traceback (most recent call last)",
            "\u001b[0;32m<ipython-input-39-98a1dd35a313>\u001b[0m in \u001b[0;36m<module>\u001b[0;34m()\u001b[0m\n\u001b[1;32m      8\u001b[0m     \u001b[0mimages\u001b[0m\u001b[0;34m,\u001b[0m \u001b[0mlabels\u001b[0m \u001b[0;34m=\u001b[0m \u001b[0mimages\u001b[0m\u001b[0;34m.\u001b[0m\u001b[0mto\u001b[0m\u001b[0;34m(\u001b[0m\u001b[0mdevice\u001b[0m\u001b[0;34m)\u001b[0m\u001b[0;34m,\u001b[0m \u001b[0mlabels\u001b[0m\u001b[0;34m.\u001b[0m\u001b[0mto\u001b[0m\u001b[0;34m(\u001b[0m\u001b[0mdevice\u001b[0m\u001b[0;34m)\u001b[0m\u001b[0;34m\u001b[0m\u001b[0;34m\u001b[0m\u001b[0m\n\u001b[1;32m      9\u001b[0m     \u001b[0mtest\u001b[0m \u001b[0;34m=\u001b[0m \u001b[0mimages\u001b[0m \u001b[0;31m#.view(batch_size, inp_dim))\u001b[0m\u001b[0;34m\u001b[0m\u001b[0;34m\u001b[0m\u001b[0m\n\u001b[0;32m---> 10\u001b[0;31m     \u001b[0moutputs\u001b[0m \u001b[0;34m=\u001b[0m \u001b[0mmodel\u001b[0m\u001b[0;34m(\u001b[0m\u001b[0mtest\u001b[0m\u001b[0;34m)\u001b[0m\u001b[0;34m\u001b[0m\u001b[0;34m\u001b[0m\u001b[0m\n\u001b[0m\u001b[1;32m     11\u001b[0m     \u001b[0mloss\u001b[0m \u001b[0;34m+=\u001b[0m \u001b[0merror\u001b[0m\u001b[0;34m(\u001b[0m\u001b[0moutputs\u001b[0m\u001b[0;34m,\u001b[0m \u001b[0mlabels\u001b[0m\u001b[0;34m.\u001b[0m\u001b[0mreshape\u001b[0m\u001b[0;34m(\u001b[0m\u001b[0;34m-\u001b[0m\u001b[0;36m1\u001b[0m\u001b[0;34m,\u001b[0m \u001b[0;36m1\u001b[0m\u001b[0;34m)\u001b[0m\u001b[0;34m)\u001b[0m\u001b[0;34m.\u001b[0m\u001b[0mdata\u001b[0m\u001b[0;34m\u001b[0m\u001b[0;34m\u001b[0m\u001b[0m\n\u001b[1;32m     12\u001b[0m     \u001b[0mproba\u001b[0m \u001b[0;34m=\u001b[0m \u001b[0mtorch\u001b[0m\u001b[0;34m.\u001b[0m\u001b[0msigmoid\u001b[0m\u001b[0;34m(\u001b[0m\u001b[0moutputs\u001b[0m\u001b[0;34m)\u001b[0m\u001b[0;34m.\u001b[0m\u001b[0mreshape\u001b[0m\u001b[0;34m(\u001b[0m\u001b[0;34m-\u001b[0m\u001b[0;36m1\u001b[0m\u001b[0;34m)\u001b[0m\u001b[0;34m\u001b[0m\u001b[0;34m\u001b[0m\u001b[0m\n",
            "\u001b[0;32m/usr/local/lib/python3.7/dist-packages/torch/nn/modules/module.py\u001b[0m in \u001b[0;36m_call_impl\u001b[0;34m(self, *input, **kwargs)\u001b[0m\n\u001b[1;32m    887\u001b[0m             \u001b[0mresult\u001b[0m \u001b[0;34m=\u001b[0m \u001b[0mself\u001b[0m\u001b[0;34m.\u001b[0m\u001b[0m_slow_forward\u001b[0m\u001b[0;34m(\u001b[0m\u001b[0;34m*\u001b[0m\u001b[0minput\u001b[0m\u001b[0;34m,\u001b[0m \u001b[0;34m**\u001b[0m\u001b[0mkwargs\u001b[0m\u001b[0;34m)\u001b[0m\u001b[0;34m\u001b[0m\u001b[0;34m\u001b[0m\u001b[0m\n\u001b[1;32m    888\u001b[0m         \u001b[0;32melse\u001b[0m\u001b[0;34m:\u001b[0m\u001b[0;34m\u001b[0m\u001b[0;34m\u001b[0m\u001b[0m\n\u001b[0;32m--> 889\u001b[0;31m             \u001b[0mresult\u001b[0m \u001b[0;34m=\u001b[0m \u001b[0mself\u001b[0m\u001b[0;34m.\u001b[0m\u001b[0mforward\u001b[0m\u001b[0;34m(\u001b[0m\u001b[0;34m*\u001b[0m\u001b[0minput\u001b[0m\u001b[0;34m,\u001b[0m \u001b[0;34m**\u001b[0m\u001b[0mkwargs\u001b[0m\u001b[0;34m)\u001b[0m\u001b[0;34m\u001b[0m\u001b[0;34m\u001b[0m\u001b[0m\n\u001b[0m\u001b[1;32m    890\u001b[0m         for hook in itertools.chain(\n\u001b[1;32m    891\u001b[0m                 \u001b[0m_global_forward_hooks\u001b[0m\u001b[0;34m.\u001b[0m\u001b[0mvalues\u001b[0m\u001b[0;34m(\u001b[0m\u001b[0;34m)\u001b[0m\u001b[0;34m,\u001b[0m\u001b[0;34m\u001b[0m\u001b[0;34m\u001b[0m\u001b[0m\n",
            "\u001b[0;32m<ipython-input-26-28696d9e7206>\u001b[0m in \u001b[0;36mforward\u001b[0;34m(self, input_ids)\u001b[0m\n\u001b[1;32m     39\u001b[0m \u001b[0;34m\u001b[0m\u001b[0m\n\u001b[1;32m     40\u001b[0m         \u001b[0;31m# Apply CNN and ReLU. Output shape: (b, num_filters[i], L_out)\u001b[0m\u001b[0;34m\u001b[0m\u001b[0;34m\u001b[0m\u001b[0;34m\u001b[0m\u001b[0m\n\u001b[0;32m---> 41\u001b[0;31m         \u001b[0mx_conv_list\u001b[0m \u001b[0;34m=\u001b[0m \u001b[0;34m[\u001b[0m\u001b[0mF\u001b[0m\u001b[0;34m.\u001b[0m\u001b[0mrelu\u001b[0m\u001b[0;34m(\u001b[0m\u001b[0mconv1d\u001b[0m\u001b[0;34m(\u001b[0m\u001b[0mx_reshaped\u001b[0m\u001b[0;34m)\u001b[0m\u001b[0;34m)\u001b[0m \u001b[0;32mfor\u001b[0m \u001b[0mconv1d\u001b[0m \u001b[0;32min\u001b[0m \u001b[0mself\u001b[0m\u001b[0;34m.\u001b[0m\u001b[0mconv1d_list\u001b[0m\u001b[0;34m]\u001b[0m\u001b[0;34m\u001b[0m\u001b[0;34m\u001b[0m\u001b[0m\n\u001b[0m\u001b[1;32m     42\u001b[0m \u001b[0;34m\u001b[0m\u001b[0m\n\u001b[1;32m     43\u001b[0m         \u001b[0;31m# Max pooling. Output shape: (b, num_filters[i], 1)\u001b[0m\u001b[0;34m\u001b[0m\u001b[0;34m\u001b[0m\u001b[0;34m\u001b[0m\u001b[0m\n",
            "\u001b[0;32m<ipython-input-26-28696d9e7206>\u001b[0m in \u001b[0;36m<listcomp>\u001b[0;34m(.0)\u001b[0m\n\u001b[1;32m     39\u001b[0m \u001b[0;34m\u001b[0m\u001b[0m\n\u001b[1;32m     40\u001b[0m         \u001b[0;31m# Apply CNN and ReLU. Output shape: (b, num_filters[i], L_out)\u001b[0m\u001b[0;34m\u001b[0m\u001b[0;34m\u001b[0m\u001b[0;34m\u001b[0m\u001b[0m\n\u001b[0;32m---> 41\u001b[0;31m         \u001b[0mx_conv_list\u001b[0m \u001b[0;34m=\u001b[0m \u001b[0;34m[\u001b[0m\u001b[0mF\u001b[0m\u001b[0;34m.\u001b[0m\u001b[0mrelu\u001b[0m\u001b[0;34m(\u001b[0m\u001b[0mconv1d\u001b[0m\u001b[0;34m(\u001b[0m\u001b[0mx_reshaped\u001b[0m\u001b[0;34m)\u001b[0m\u001b[0;34m)\u001b[0m \u001b[0;32mfor\u001b[0m \u001b[0mconv1d\u001b[0m \u001b[0;32min\u001b[0m \u001b[0mself\u001b[0m\u001b[0;34m.\u001b[0m\u001b[0mconv1d_list\u001b[0m\u001b[0;34m]\u001b[0m\u001b[0;34m\u001b[0m\u001b[0;34m\u001b[0m\u001b[0m\n\u001b[0m\u001b[1;32m     42\u001b[0m \u001b[0;34m\u001b[0m\u001b[0m\n\u001b[1;32m     43\u001b[0m         \u001b[0;31m# Max pooling. Output shape: (b, num_filters[i], 1)\u001b[0m\u001b[0;34m\u001b[0m\u001b[0;34m\u001b[0m\u001b[0;34m\u001b[0m\u001b[0m\n",
            "\u001b[0;32m/usr/local/lib/python3.7/dist-packages/torch/nn/modules/module.py\u001b[0m in \u001b[0;36m_call_impl\u001b[0;34m(self, *input, **kwargs)\u001b[0m\n\u001b[1;32m    887\u001b[0m             \u001b[0mresult\u001b[0m \u001b[0;34m=\u001b[0m \u001b[0mself\u001b[0m\u001b[0;34m.\u001b[0m\u001b[0m_slow_forward\u001b[0m\u001b[0;34m(\u001b[0m\u001b[0;34m*\u001b[0m\u001b[0minput\u001b[0m\u001b[0;34m,\u001b[0m \u001b[0;34m**\u001b[0m\u001b[0mkwargs\u001b[0m\u001b[0;34m)\u001b[0m\u001b[0;34m\u001b[0m\u001b[0;34m\u001b[0m\u001b[0m\n\u001b[1;32m    888\u001b[0m         \u001b[0;32melse\u001b[0m\u001b[0;34m:\u001b[0m\u001b[0;34m\u001b[0m\u001b[0;34m\u001b[0m\u001b[0m\n\u001b[0;32m--> 889\u001b[0;31m             \u001b[0mresult\u001b[0m \u001b[0;34m=\u001b[0m \u001b[0mself\u001b[0m\u001b[0;34m.\u001b[0m\u001b[0mforward\u001b[0m\u001b[0;34m(\u001b[0m\u001b[0;34m*\u001b[0m\u001b[0minput\u001b[0m\u001b[0;34m,\u001b[0m \u001b[0;34m**\u001b[0m\u001b[0mkwargs\u001b[0m\u001b[0;34m)\u001b[0m\u001b[0;34m\u001b[0m\u001b[0;34m\u001b[0m\u001b[0m\n\u001b[0m\u001b[1;32m    890\u001b[0m         for hook in itertools.chain(\n\u001b[1;32m    891\u001b[0m                 \u001b[0m_global_forward_hooks\u001b[0m\u001b[0;34m.\u001b[0m\u001b[0mvalues\u001b[0m\u001b[0;34m(\u001b[0m\u001b[0;34m)\u001b[0m\u001b[0;34m,\u001b[0m\u001b[0;34m\u001b[0m\u001b[0;34m\u001b[0m\u001b[0m\n",
            "\u001b[0;32m/usr/local/lib/python3.7/dist-packages/torch/nn/modules/conv.py\u001b[0m in \u001b[0;36mforward\u001b[0;34m(self, input)\u001b[0m\n\u001b[1;32m    261\u001b[0m \u001b[0;34m\u001b[0m\u001b[0m\n\u001b[1;32m    262\u001b[0m     \u001b[0;32mdef\u001b[0m \u001b[0mforward\u001b[0m\u001b[0;34m(\u001b[0m\u001b[0mself\u001b[0m\u001b[0;34m,\u001b[0m \u001b[0minput\u001b[0m\u001b[0;34m:\u001b[0m \u001b[0mTensor\u001b[0m\u001b[0;34m)\u001b[0m \u001b[0;34m->\u001b[0m \u001b[0mTensor\u001b[0m\u001b[0;34m:\u001b[0m\u001b[0;34m\u001b[0m\u001b[0;34m\u001b[0m\u001b[0m\n\u001b[0;32m--> 263\u001b[0;31m         \u001b[0;32mreturn\u001b[0m \u001b[0mself\u001b[0m\u001b[0;34m.\u001b[0m\u001b[0m_conv_forward\u001b[0m\u001b[0;34m(\u001b[0m\u001b[0minput\u001b[0m\u001b[0;34m,\u001b[0m \u001b[0mself\u001b[0m\u001b[0;34m.\u001b[0m\u001b[0mweight\u001b[0m\u001b[0;34m,\u001b[0m \u001b[0mself\u001b[0m\u001b[0;34m.\u001b[0m\u001b[0mbias\u001b[0m\u001b[0;34m)\u001b[0m\u001b[0;34m\u001b[0m\u001b[0;34m\u001b[0m\u001b[0m\n\u001b[0m\u001b[1;32m    264\u001b[0m \u001b[0;34m\u001b[0m\u001b[0m\n\u001b[1;32m    265\u001b[0m \u001b[0;34m\u001b[0m\u001b[0m\n",
            "\u001b[0;32m/usr/local/lib/python3.7/dist-packages/torch/nn/modules/conv.py\u001b[0m in \u001b[0;36m_conv_forward\u001b[0;34m(self, input, weight, bias)\u001b[0m\n\u001b[1;32m    258\u001b[0m                             _single(0), self.dilation, self.groups)\n\u001b[1;32m    259\u001b[0m         return F.conv1d(input, weight, bias, self.stride,\n\u001b[0;32m--> 260\u001b[0;31m                         self.padding, self.dilation, self.groups)\n\u001b[0m\u001b[1;32m    261\u001b[0m \u001b[0;34m\u001b[0m\u001b[0m\n\u001b[1;32m    262\u001b[0m     \u001b[0;32mdef\u001b[0m \u001b[0mforward\u001b[0m\u001b[0;34m(\u001b[0m\u001b[0mself\u001b[0m\u001b[0;34m,\u001b[0m \u001b[0minput\u001b[0m\u001b[0;34m:\u001b[0m \u001b[0mTensor\u001b[0m\u001b[0;34m)\u001b[0m \u001b[0;34m->\u001b[0m \u001b[0mTensor\u001b[0m\u001b[0;34m:\u001b[0m\u001b[0;34m\u001b[0m\u001b[0;34m\u001b[0m\u001b[0m\n",
            "\u001b[0;31mRuntimeError\u001b[0m: CUDA out of memory. Tried to allocate 20.00 MiB (GPU 0; 14.76 GiB total capacity; 13.66 GiB already allocated; 19.75 MiB free; 13.71 GiB reserved in total by PyTorch)"
          ]
        }
      ]
    },
    {
      "cell_type": "code",
      "metadata": {
        "colab": {
          "base_uri": "https://localhost:8080/",
          "height": 383
        },
        "id": "c2K9zeUdt98L",
        "outputId": "327e8033-79d3-4a16-9927-fb790c183e37"
      },
      "source": [
        "interm_model = nn.Sequential(*list(model.children())[:-1])\n",
        "total = 0\n",
        "correct = 0\n",
        "loss = 0\n",
        "out = []\n",
        "labels_l = []\n",
        "for images, labels in DataLoader(val_dataset, batch_size=batch_size):\n",
        "    images, labels = images.to(device), labels.to(device)\n",
        "    test = images #.view(batch_size, inp_dim))\n",
        "    outputs = interm_model(test)\n",
        "    labels_l.append(labels)\n",
        "    out.append(outputs)\n",
        "\n",
        "class pca:\n",
        "    def __init__(self, n_components):\n",
        "        \"\"\"\n",
        "        :param n_components: Number of principal components the data should be reduced too.\n",
        "        \"\"\"\n",
        "        self.components = n_components\n",
        "\n",
        "    def fit_transform(self, X):\n",
        "        \"\"\"\n",
        "        * Centering our inputs with mean\n",
        "        * Finding covariance matrix using centered tensor\n",
        "        * Finding eigen value and eigen vector using torch.eig()\n",
        "        * Sorting eigen values in descending order and finding index of high eigen values\n",
        "        * Using sorted index, get the eigen vectors\n",
        "        * Tranforming the Input vectors with n columns into PCA components with reduced dimension\n",
        "        :param X: Input tensor with n columns.\n",
        "        :return: Output tensor with reduced principal components\n",
        "        \"\"\"\n",
        "        centering_X = X - torch.mean(X, dim=0)\n",
        "        covariance_matrix = torch.mm(centering_X.T, centering_X)/(centering_X.shape[0] - 1)\n",
        "        eigen_values, eigen_vectors = torch.eig(covariance_matrix, eigenvectors=True)\n",
        "        eigen_sorted_index = torch.argsort(eigen_values[:,0],descending=True)\n",
        "        eigen_vectors_sorted = eigen_vectors[:,eigen_sorted_index]\n",
        "        component_vector = eigen_vectors_sorted[:,0:self.components]\n",
        "        transformed = torch.mm(component_vector.T, centering_X.T).T\n",
        "        return transformed\n",
        "pca_out = pca(n_components=2).fit_transform(torch.cat(out))\n",
        "pca_vector = pca_out\n",
        "plt.figure(figsize=(12, 12))\n",
        "sb.scatterplot(\n",
        "    pca_vector[:, 0].detach().cpu(), \n",
        "    pca_vector[:, 1].detach().cpu(), \n",
        "    hue=torch.cat(labels_l).detach().cpu(), \n",
        "    #s=100, \n",
        "    palette=\"tab10\"\n",
        ")\n",
        "plt.show()"
      ],
      "execution_count": null,
      "outputs": [
        {
          "output_type": "error",
          "ename": "TypeError",
          "evalue": "ignored",
          "traceback": [
            "\u001b[0;31m---------------------------------------------------------------------------\u001b[0m",
            "\u001b[0;31mTypeError\u001b[0m                                 Traceback (most recent call last)",
            "\u001b[0;32m<ipython-input-36-39807cf3b6a7>\u001b[0m in \u001b[0;36m<module>\u001b[0;34m()\u001b[0m\n\u001b[1;32m      8\u001b[0m     \u001b[0mimages\u001b[0m\u001b[0;34m,\u001b[0m \u001b[0mlabels\u001b[0m \u001b[0;34m=\u001b[0m \u001b[0mimages\u001b[0m\u001b[0;34m.\u001b[0m\u001b[0mto\u001b[0m\u001b[0;34m(\u001b[0m\u001b[0mdevice\u001b[0m\u001b[0;34m)\u001b[0m\u001b[0;34m,\u001b[0m \u001b[0mlabels\u001b[0m\u001b[0;34m.\u001b[0m\u001b[0mto\u001b[0m\u001b[0;34m(\u001b[0m\u001b[0mdevice\u001b[0m\u001b[0;34m)\u001b[0m\u001b[0;34m\u001b[0m\u001b[0;34m\u001b[0m\u001b[0m\n\u001b[1;32m      9\u001b[0m     \u001b[0mtest\u001b[0m \u001b[0;34m=\u001b[0m \u001b[0mimages\u001b[0m \u001b[0;31m#.view(batch_size, inp_dim))\u001b[0m\u001b[0;34m\u001b[0m\u001b[0;34m\u001b[0m\u001b[0m\n\u001b[0;32m---> 10\u001b[0;31m     \u001b[0moutputs\u001b[0m \u001b[0;34m=\u001b[0m \u001b[0minterm_model\u001b[0m\u001b[0;34m(\u001b[0m\u001b[0mtest\u001b[0m\u001b[0;34m)\u001b[0m\u001b[0;34m\u001b[0m\u001b[0;34m\u001b[0m\u001b[0m\n\u001b[0m\u001b[1;32m     11\u001b[0m     \u001b[0mlabels_l\u001b[0m\u001b[0;34m.\u001b[0m\u001b[0mappend\u001b[0m\u001b[0;34m(\u001b[0m\u001b[0mlabels\u001b[0m\u001b[0;34m)\u001b[0m\u001b[0;34m\u001b[0m\u001b[0;34m\u001b[0m\u001b[0m\n\u001b[1;32m     12\u001b[0m     \u001b[0mout\u001b[0m\u001b[0;34m.\u001b[0m\u001b[0mappend\u001b[0m\u001b[0;34m(\u001b[0m\u001b[0moutputs\u001b[0m\u001b[0;34m)\u001b[0m\u001b[0;34m\u001b[0m\u001b[0;34m\u001b[0m\u001b[0m\n",
            "\u001b[0;32m/usr/local/lib/python3.7/dist-packages/torch/nn/modules/module.py\u001b[0m in \u001b[0;36m_call_impl\u001b[0;34m(self, *input, **kwargs)\u001b[0m\n\u001b[1;32m    887\u001b[0m             \u001b[0mresult\u001b[0m \u001b[0;34m=\u001b[0m \u001b[0mself\u001b[0m\u001b[0;34m.\u001b[0m\u001b[0m_slow_forward\u001b[0m\u001b[0;34m(\u001b[0m\u001b[0;34m*\u001b[0m\u001b[0minput\u001b[0m\u001b[0;34m,\u001b[0m \u001b[0;34m**\u001b[0m\u001b[0mkwargs\u001b[0m\u001b[0;34m)\u001b[0m\u001b[0;34m\u001b[0m\u001b[0;34m\u001b[0m\u001b[0m\n\u001b[1;32m    888\u001b[0m         \u001b[0;32melse\u001b[0m\u001b[0;34m:\u001b[0m\u001b[0;34m\u001b[0m\u001b[0;34m\u001b[0m\u001b[0m\n\u001b[0;32m--> 889\u001b[0;31m             \u001b[0mresult\u001b[0m \u001b[0;34m=\u001b[0m \u001b[0mself\u001b[0m\u001b[0;34m.\u001b[0m\u001b[0mforward\u001b[0m\u001b[0;34m(\u001b[0m\u001b[0;34m*\u001b[0m\u001b[0minput\u001b[0m\u001b[0;34m,\u001b[0m \u001b[0;34m**\u001b[0m\u001b[0mkwargs\u001b[0m\u001b[0;34m)\u001b[0m\u001b[0;34m\u001b[0m\u001b[0;34m\u001b[0m\u001b[0m\n\u001b[0m\u001b[1;32m    890\u001b[0m         for hook in itertools.chain(\n\u001b[1;32m    891\u001b[0m                 \u001b[0m_global_forward_hooks\u001b[0m\u001b[0;34m.\u001b[0m\u001b[0mvalues\u001b[0m\u001b[0;34m(\u001b[0m\u001b[0;34m)\u001b[0m\u001b[0;34m,\u001b[0m\u001b[0;34m\u001b[0m\u001b[0;34m\u001b[0m\u001b[0m\n",
            "\u001b[0;32m/usr/local/lib/python3.7/dist-packages/torch/nn/modules/container.py\u001b[0m in \u001b[0;36mforward\u001b[0;34m(self, input)\u001b[0m\n\u001b[1;32m    117\u001b[0m     \u001b[0;32mdef\u001b[0m \u001b[0mforward\u001b[0m\u001b[0;34m(\u001b[0m\u001b[0mself\u001b[0m\u001b[0;34m,\u001b[0m \u001b[0minput\u001b[0m\u001b[0;34m)\u001b[0m\u001b[0;34m:\u001b[0m\u001b[0;34m\u001b[0m\u001b[0;34m\u001b[0m\u001b[0m\n\u001b[1;32m    118\u001b[0m         \u001b[0;32mfor\u001b[0m \u001b[0mmodule\u001b[0m \u001b[0;32min\u001b[0m \u001b[0mself\u001b[0m\u001b[0;34m:\u001b[0m\u001b[0;34m\u001b[0m\u001b[0;34m\u001b[0m\u001b[0m\n\u001b[0;32m--> 119\u001b[0;31m             \u001b[0minput\u001b[0m \u001b[0;34m=\u001b[0m \u001b[0mmodule\u001b[0m\u001b[0;34m(\u001b[0m\u001b[0minput\u001b[0m\u001b[0;34m)\u001b[0m\u001b[0;34m\u001b[0m\u001b[0;34m\u001b[0m\u001b[0m\n\u001b[0m\u001b[1;32m    120\u001b[0m         \u001b[0;32mreturn\u001b[0m \u001b[0minput\u001b[0m\u001b[0;34m\u001b[0m\u001b[0;34m\u001b[0m\u001b[0m\n\u001b[1;32m    121\u001b[0m \u001b[0;34m\u001b[0m\u001b[0m\n",
            "\u001b[0;32m/usr/local/lib/python3.7/dist-packages/torch/nn/modules/module.py\u001b[0m in \u001b[0;36m_call_impl\u001b[0;34m(self, *input, **kwargs)\u001b[0m\n\u001b[1;32m    887\u001b[0m             \u001b[0mresult\u001b[0m \u001b[0;34m=\u001b[0m \u001b[0mself\u001b[0m\u001b[0;34m.\u001b[0m\u001b[0m_slow_forward\u001b[0m\u001b[0;34m(\u001b[0m\u001b[0;34m*\u001b[0m\u001b[0minput\u001b[0m\u001b[0;34m,\u001b[0m \u001b[0;34m**\u001b[0m\u001b[0mkwargs\u001b[0m\u001b[0;34m)\u001b[0m\u001b[0;34m\u001b[0m\u001b[0;34m\u001b[0m\u001b[0m\n\u001b[1;32m    888\u001b[0m         \u001b[0;32melse\u001b[0m\u001b[0;34m:\u001b[0m\u001b[0;34m\u001b[0m\u001b[0;34m\u001b[0m\u001b[0m\n\u001b[0;32m--> 889\u001b[0;31m             \u001b[0mresult\u001b[0m \u001b[0;34m=\u001b[0m \u001b[0mself\u001b[0m\u001b[0;34m.\u001b[0m\u001b[0mforward\u001b[0m\u001b[0;34m(\u001b[0m\u001b[0;34m*\u001b[0m\u001b[0minput\u001b[0m\u001b[0;34m,\u001b[0m \u001b[0;34m**\u001b[0m\u001b[0mkwargs\u001b[0m\u001b[0;34m)\u001b[0m\u001b[0;34m\u001b[0m\u001b[0;34m\u001b[0m\u001b[0m\n\u001b[0m\u001b[1;32m    890\u001b[0m         for hook in itertools.chain(\n\u001b[1;32m    891\u001b[0m                 \u001b[0m_global_forward_hooks\u001b[0m\u001b[0;34m.\u001b[0m\u001b[0mvalues\u001b[0m\u001b[0;34m(\u001b[0m\u001b[0;34m)\u001b[0m\u001b[0;34m,\u001b[0m\u001b[0;34m\u001b[0m\u001b[0;34m\u001b[0m\u001b[0m\n",
            "\u001b[0;31mTypeError\u001b[0m: forward() takes 1 positional argument but 2 were given"
          ]
        }
      ]
    }
  ]
}